{
 "cells": [
  {
   "cell_type": "code",
   "execution_count": 2,
   "id": "7a173b72-0d52-414a-b473-678d43c89a33",
   "metadata": {},
   "outputs": [],
   "source": [
    "import warnings\n",
    "warnings.filterwarnings('ignore')\n",
    "import skmob\n",
    "import geopandas as gpd\n",
    "from skmob.utils import plot\n",
    "import folium\n",
    "from folium import plugins\n",
    "import pandas as pd\n",
    "import matplotlib.pyplot as plt"
   ]
  },
  {
   "cell_type": "code",
   "execution_count": null,
   "id": "d15759be-4761-4171-85d4-32fd1aa0f367",
   "metadata": {},
   "outputs": [],
   "source": [
    "import paramiko\n",
    "\n",
    "hostname = \"xxxx\"\n",
    "username = \"avitali\"\n",
    "remote_directory = \"xxxx\"\n",
    "\n",
    "try:\n",
    "    ssh = paramiko.SSHClient()\n",
    "    ssh.set_missing_host_key_policy(paramiko.AutoAddPolicy())\n",
    "    ssh.connect(hostname, username=username)\n",
    "\n",
    "\n",
    "    sftp = ssh.open_sftp()\n",
    "\n",
    "    files = sftp.listdir(remote_directory)\n",
    "    count=0\n",
    "    for file in files:\n",
    "        count+=1\n",
    "        print(file)\n",
    "    print (count)\n",
    "\n",
    "    sftp.close()\n",
    "    ssh.close()\n",
    "\n",
    "except Exception as e:\n",
    "    print(f\"An error occurred: {e}\")\n"
   ]
  },
  {
   "cell_type": "markdown",
   "id": "4fae6179-bfbe-4e8d-be70-bea5c7c3124d",
   "metadata": {},
   "source": []
  },
  {
   "cell_type": "markdown",
   "id": "d6f18e62-0008-4f72-aed3-27804b1ed9b2",
   "metadata": {},
   "source": [
    "## Leggiamo e Puliamo i file\n"
   ]
  },
  {
   "cell_type": "code",
   "execution_count": null,
   "id": "9bd482f8-2d59-4605-a7f2-13ead2bb6fbe",
   "metadata": {},
   "outputs": [],
   "source": [
    "import paramiko\n",
    "import gzip\n",
    "import io\n",
    "import traceback\n",
    "\n",
    "dates = ['20190211', '20190212', '20190213', '20190214', '20190215', '20190216', '20190217']\n",
    "hostname = \"xxxx\"\n",
    "username = \"avitali\"\n",
    "\n",
    "dataframes = {}\n",
    "\n",
    "try:\n",
    "    # Apriamo le connessioni SSH & SFTP \n",
    "    ssh = paramiko.SSHClient()\n",
    "    ssh.set_missing_host_key_policy(paramiko.AutoAddPolicy())\n",
    "    ssh.connect(hostname, username=username)\n",
    "    \n",
    "    sftp = ssh.open_sftp()\n",
    "\n",
    "    for date in dates:\n",
    "        remote_file_path = f\"xxxx{date}_0.csv.gz\"\n",
    "        \n",
    "        try:\n",
    "            with sftp.open(remote_file_path, \"rb\") as remote_file:\n",
    "                with gzip.GzipFile(fileobj=remote_file) as decompressed_file:\n",
    "                    \n",
    "                    chunks = []\n",
    "                    all_dataframes = []  # Processiamo per chunks e li salviamo qua\n",
    "                    print(f\"Reading lines from the file for {date}...\")\n",
    "                    \n",
    "                    for i, line in enumerate(decompressed_file):\n",
    "                        chunks.append(line.decode(\"utf-8\").strip())\n",
    "                        \n",
    "                        # Processiamo in chunks di 100000\n",
    "                        if len(chunks) >= 100000:\n",
    "                            print(f\"Processing chunk at line {i + 1} for {date}...\")\n",
    "                            dataframe_chunk = pd.read_csv(io.StringIO(\"\\n\".join(chunks)), header=None)\n",
    "                            all_dataframes.append(dataframe_chunk)  # Salvo il chunk\n",
    "                            chunks = []  # Pulisce buffer\n",
    "                    \n",
    "                    # Processa le linee rimanenti se le linee non sono divisibili per 100000\n",
    "                    if chunks:\n",
    "                        print(f\"Processing the final chunk for {date}...\")\n",
    "                        dataframe_chunk = pd.read_csv(io.StringIO(\"\\n\".join(chunks)), header=None)\n",
    "                        all_dataframes.append(dataframe_chunk)  # Salva il chunk finale\n",
    "                    \n",
    "                    # Combina tutti i chunk in in un df\n",
    "                    print(f\"Combining all chunks into a final DataFrame for {date}...\")\n",
    "                    final_dataframe = pd.concat(all_dataframes, ignore_index=True)\n",
    "                    \n",
    "                    print(f\"Final DataFrame for {date} (showing first 3 rows):\")\n",
    "                    print(final_dataframe.head(3))\n",
    "                    dataframes[date] = final_dataframe  # Mette il df in un dizionario\n",
    "\n",
    "        except Exception as file_error:\n",
    "            print(f\"Error occurred while processing the file for {date}: {file_error}\")\n",
    "            traceback.print_exc()\n",
    "\n",
    "    # Chiude le connessioni SFTP and SSH\n",
    "    sftp.close()\n",
    "    ssh.close()\n",
    "\n",
    "except Exception as e:\n",
    "    print(f\"An error occurred: {e}\")\n",
    "    traceback.print_exc() #mi dice dove è venuto l'errore\n"
   ]
  },
  {
   "cell_type": "code",
   "execution_count": 6,
   "id": "cc320a98-dc34-404f-a99f-a49c42778a53",
   "metadata": {},
   "outputs": [
    {
     "name": "stdout",
     "output_type": "stream",
     "text": [
      "20190211 1025094\n",
      "20190212 1039055\n",
      "20190213 1065370\n",
      "20190214 1107852\n",
      "20190215 1121731\n",
      "20190216 1034149\n",
      "20190217 859602\n"
     ]
    }
   ],
   "source": [
    "for date, df in dataframes.items():\n",
    "    print(date, len(df))"
   ]
  },
  {
   "cell_type": "code",
   "execution_count": null,
   "id": "06159680-7c5c-48b7-957f-2b5991e8dc25",
   "metadata": {},
   "outputs": [],
   "source": [
    "dataframes.to"
   ]
  },
  {
   "cell_type": "code",
   "execution_count": null,
   "id": "b1c51aa6-98ad-4503-833f-2dc128682274",
   "metadata": {},
   "outputs": [],
   "source": [
    "# Dividiamo le coordinate per 1 milione per tutto il dizionario\n",
    "for date, df in dataframes.items():\n",
    "    df[3] = df[3] / 1_000_000\n",
    "    df[4] = df[4] / 1_000_000\n",
    "    print(f\"df for {date}:{df.head(2)}\")"
   ]
  },
  {
   "cell_type": "code",
   "execution_count": null,
   "id": "56cb5760-f099-47e2-aa3f-a7da64fd6206",
   "metadata": {},
   "outputs": [],
   "source": [
    "## Creiamo il gdf\n",
    "\n",
    "from shapely.geometry import Point\n",
    "gdfs={}\n",
    "for date, df in dataframes.items():\n",
    "    geometry = gpd.points_from_xy(df[4], df[3]) \n",
    "    gdf = gpd.GeoDataFrame(df, geometry=geometry)\n",
    "    gdf.set_crs(epsg=4326, inplace=True)\n",
    "    gdfs[date]=gdf\n",
    "    print(gdfs[date].head(2))\n",
    "    print(f\"{date,df} converted\")"
   ]
  },
  {
   "cell_type": "code",
   "execution_count": null,
   "id": "a2011f98-1ba8-4c57-af74-5ebfd9cd0275",
   "metadata": {},
   "outputs": [],
   "source": [
    "for date, gdf in gdfs.items():\n",
    "    print(date, gdf.dtypes)"
   ]
  },
  {
   "cell_type": "code",
   "execution_count": 10,
   "id": "b6115f2a-4ea7-4d66-b6ce-c7f0d8fe0e33",
   "metadata": {},
   "outputs": [],
   "source": [
    "for date, gdf in gdfs.items():\n",
    "    gdfs[date] = gdf.reset_index(drop=True)\n"
   ]
  },
  {
   "cell_type": "code",
   "execution_count": 223,
   "id": "f33c958f-e2d2-4d1a-aa13-bd4466b9252d",
   "metadata": {
    "collapsed": true,
    "jupyter": {
     "outputs_hidden": true
    }
   },
   "outputs": [
    {
     "data": {
      "text/plain": [
       "<Figure size 1500x1500 with 0 Axes>"
      ]
     },
     "metadata": {},
     "output_type": "display_data"
    },
    {
     "data": {
      "image/png": "[encoded data removed]",
      "text/plain": [
       "<Figure size 640x480 with 1 Axes>"
      ]
     },
     "metadata": {},
     "output_type": "display_data"
    }
   ],
   "source": [
    "import matplotlib.pyplot as plt\n",
    "\n",
    "\n",
    "plt.figure(figsize=(15, 15))  \n",
    "gdf.head(10000).plot()\n",
    "\n",
    "plt.title(\"GeoDataFrame Visualization\", fontsize=20)\n",
    "plt.xlabel(\"Longitude\", fontsize=14)\n",
    "plt.ylabel(\"Latitude\", fontsize=14)\n",
    "\n",
    "plt.show()"
   ]
  },
  {
   "cell_type": "code",
   "execution_count": null,
   "id": "7de823e3-cc31-46f6-a319-a844ec211f41",
   "metadata": {},
   "outputs": [],
   "source": [
    "for date, gdf in gdfs.items():\n",
    "    print(f\"GeoDataFrame for date: {date}\")\n",
    "    print(\"First row of the GeoDataFrame:\")\n",
    "    print(gdf.head(1))\n",
    "    print(\"\\nGeoDataFrame Info:\")\n",
    "    gdf.info()  # info fa già il print\n",
    "    print(\"\\nCoordinate Reference System (CRS):\")\n",
    "    print(gdf.crs)\n",
    "    print(\"\\nFirst geometry object:\")\n",
    "    print(gdf.geometry.head(1))\n",
    "    print(\"-\" * 50)  "
   ]
  },
  {
   "cell_type": "code",
   "execution_count": 11,
   "id": "20a587a5-f958-4e6a-a8d4-79006a92f48c",
   "metadata": {},
   "outputs": [],
   "source": [
    "#N.B. Non salva con colonne numeriche!\n",
    "\n",
    "for date, gdf in gdfs.items():\n",
    "    gdf.columns = ['ID', 'Date', 'Time', 'Latitude', 'Longitude', 'Speed', 'Heading', 'Quality', 'PanelSession', 'DeltaPos', 'geometry']\n",
    "    gdfs[date]= gdf\n",
    "\n",
    "\n",
    "#ID_ANONYMOUS,DAY,HH24,LATITUDE,LONGITUDE,SPEED,HEADING,QUALITY,ID_PANELSESSION,DELTAPOS\n",
    "#Ovvero le ultime colonne sono la velocità (km/h, credo) , direzione (gradi, 0 = nord, non mi ricordo se in senso orario), \n",
    "#qualità del segnale (è consigliato buttare via quelli < 3), stato del veicolo (0=accensione, 1=in moto, 2=spegnimento), \n",
    "#distanza in metri dal punto precedente.\n",
    "\n",
    "#try:\n",
    "    #gdf.to_file(\"PrimoGennaioGPS.geojson\", driver=\"GeoJSON\")\n",
    "    #print(\"GeoDataFrame saved successfully.\")\n",
    "#except Exception as e:\n",
    "    #print(f\"Error saving GeoDataFrame: {e}\")"
   ]
  },
  {
   "cell_type": "code",
   "execution_count": 17,
   "id": "52f95387-d47c-4bb9-88be-a7725dcbc48b",
   "metadata": {},
   "outputs": [
    {
     "data": {
      "text/html": [
       "<div>\n",
       "<style scoped>\n",
       "    .dataframe tbody tr th:only-of-type {\n",
       "        vertical-align: middle;\n",
       "    }\n",
       "\n",
       "    .dataframe tbody tr th {\n",
       "        vertical-align: top;\n",
       "    }\n",
       "\n",
       "    .dataframe thead th {\n",
       "        text-align: right;\n",
       "    }\n",
       "</style>\n",
       "<table border=\"1\" class=\"dataframe\">\n",
       "  <thead>\n",
       "    <tr style=\"text-align: right;\">\n",
       "      <th></th>\n",
       "      <th>ID</th>\n",
       "      <th>Date</th>\n",
       "      <th>Time</th>\n",
       "      <th>Latitude</th>\n",
       "      <th>Longitude</th>\n",
       "      <th>Speed</th>\n",
       "      <th>Heading</th>\n",
       "      <th>Quality</th>\n",
       "      <th>PanelSession</th>\n",
       "      <th>DeltaPos</th>\n",
       "      <th>geometry</th>\n",
       "    </tr>\n",
       "  </thead>\n",
       "  <tbody>\n",
       "    <tr>\n",
       "      <th>0</th>\n",
       "      <td>55</td>\n",
       "      <td>2019-02-09</td>\n",
       "      <td>07:59:17</td>\n",
       "      <td>43.875767</td>\n",
       "      <td>10.800906</td>\n",
       "      <td>0</td>\n",
       "      <td>0</td>\n",
       "      <td>3</td>\n",
       "      <td>2</td>\n",
       "      <td>1038</td>\n",
       "      <td>POINT (10.80091 43.87577)</td>\n",
       "    </tr>\n",
       "    <tr>\n",
       "      <th>1</th>\n",
       "      <td>55</td>\n",
       "      <td>2019-02-09</td>\n",
       "      <td>10:51:53</td>\n",
       "      <td>43.874915</td>\n",
       "      <td>10.801647</td>\n",
       "      <td>2</td>\n",
       "      <td>152</td>\n",
       "      <td>3</td>\n",
       "      <td>0</td>\n",
       "      <td>0</td>\n",
       "      <td>POINT (10.80165 43.87492)</td>\n",
       "    </tr>\n",
       "  </tbody>\n",
       "</table>\n",
       "</div>"
      ],
      "text/plain": [
       "   ID        Date      Time   Latitude  Longitude  Speed  Heading  Quality  \\\n",
       "0  55  2019-02-09  07:59:17  43.875767  10.800906      0        0        3   \n",
       "1  55  2019-02-09  10:51:53  43.874915  10.801647      2      152        3   \n",
       "\n",
       "   PanelSession  DeltaPos                   geometry  \n",
       "0             2      1038  POINT (10.80091 43.87577)  \n",
       "1             0         0  POINT (10.80165 43.87492)  "
      ]
     },
     "execution_count": 17,
     "metadata": {},
     "output_type": "execute_result"
    }
   ],
   "source": [
    "gdfs['20190211'].head(2)"
   ]
  },
  {
   "cell_type": "code",
   "execution_count": null,
   "id": "1ffbdc9a-6169-4a6b-b3e5-87efd66baebc",
   "metadata": {},
   "outputs": [],
   "source": []
  },
  {
   "cell_type": "markdown",
   "id": "b033f53d-e2bd-4cd5-af67-64dd39cb6458",
   "metadata": {},
   "source": [
    "### Filtriamo i valori con qualità segnale <3"
   ]
  },
  {
   "cell_type": "code",
   "execution_count": 12,
   "id": "f7546907-859a-4bb8-91e5-684321822b36",
   "metadata": {},
   "outputs": [
    {
     "name": "stdout",
     "output_type": "stream",
     "text": [
      "20190211 [3 1 2]\n",
      "20190212 [3 1 2]\n",
      "20190213 [1 3 2]\n",
      "20190214 [3 1 2]\n",
      "20190215 [3 1 2]\n",
      "20190216 [3 1 2]\n",
      "20190217 [3 1 2]\n"
     ]
    }
   ],
   "source": [
    "for date, gdf in gdfs.items():\n",
    "    print(date, gdf['Quality'].unique())"
   ]
  },
  {
   "cell_type": "code",
   "execution_count": 13,
   "id": "dd7c5a3f-e046-444e-aefd-11e61075f479",
   "metadata": {},
   "outputs": [],
   "source": [
    "for date, gdf in gdfs.items():\n",
    "    gdf2=gdf[gdf['Quality']==3]\n",
    "    gdf2=gdf2.drop(columns=['Quality'])\n",
    "    gdfs[date]=gdf2"
   ]
  },
  {
   "cell_type": "code",
   "execution_count": 14,
   "id": "d1f2f841-407b-449b-b543-b8fca01b14b8",
   "metadata": {},
   "outputs": [
    {
     "name": "stdout",
     "output_type": "stream",
     "text": [
      "890180\n",
      "901239\n",
      "925858\n",
      "963612\n",
      "977355\n",
      "904101\n",
      "764563\n"
     ]
    }
   ],
   "source": [
    "for date, gdf in gdfs.items():\n",
    "    print(len(gdf))"
   ]
  },
  {
   "cell_type": "markdown",
   "id": "6770e4c7-b5dd-4cc2-92d5-94d213de513c",
   "metadata": {},
   "source": [
    "### Filtriamo le date"
   ]
  },
  {
   "cell_type": "code",
   "execution_count": 15,
   "id": "596047d5-0b7c-469b-8d3f-ce9a2f9b34c7",
   "metadata": {
    "collapsed": true,
    "jupyter": {
     "outputs_hidden": true
    }
   },
   "outputs": [
    {
     "name": "stdout",
     "output_type": "stream",
     "text": [
      "Unique Dates: in 20190211: ['2019-02-09' '2019-02-11' '2019-02-10' '2019-02-06' '2019-02-08'\n",
      " '2019-02-04' '2019-02-07' '2019-01-15' '2019-02-05' '2019-01-31'\n",
      " '2019-02-03' '2019-02-02' '2019-01-29' '2019-01-30' '2019-02-01'\n",
      " '2019-01-24' '2019-01-25' '2019-01-28' '2019-01-04' '2019-01-02']\n",
      "Unique Dates: in 20190212: ['2019-02-11' '2019-02-12' '2019-02-10' '2019-02-07' '2019-02-09'\n",
      " '2019-02-08' '2019-02-06' '2019-02-05' '2019-01-28' '2019-01-30'\n",
      " '2019-02-01' '2019-01-31' '2019-01-26' '2019-02-04' '2019-02-02'\n",
      " '2019-02-03' '2019-01-21' '2019-01-11' '2019-01-12' '2019-01-14'\n",
      " '2019-01-15' '2019-01-17' '2019-01-18' '2019-01-07' '2019-01-29']\n",
      "Unique Dates: in 20190213: ['2019-02-13' '2019-02-12' '2019-02-11' '2019-02-09' '2019-02-10'\n",
      " '2019-02-06' '2019-02-08' '2019-01-06' '2019-02-07' '2019-01-26'\n",
      " '2019-02-03' '2019-02-05' '2019-01-31' '2019-01-10' '2019-01-21'\n",
      " '2019-01-22' '2019-01-24' '2019-01-25' '2019-02-04' '2019-02-02'\n",
      " '2019-01-04' '2019-02-01' '2019-01-30']\n",
      "Unique Dates: in 20190214: ['2019-02-13' '2019-02-14' '2019-02-08' '2019-02-11' '2019-02-12'\n",
      " '2019-01-31' '2019-02-10' '2019-02-09' '2019-02-03' '2019-02-04'\n",
      " '2019-02-07' '2019-02-06' '2019-01-21' '2019-01-22' '2019-01-23'\n",
      " '2019-01-24' '2019-01-25' '2019-01-26' '2019-01-27' '2019-02-01'\n",
      " '2019-02-05' '2019-02-02' '2019-01-30']\n",
      "Unique Dates: in 20190215: ['2019-02-13' '2019-02-15' '2019-02-14' '2019-02-08' '2019-02-12'\n",
      " '2019-02-09' '2019-02-11' '2019-01-20' '2019-01-21' '2019-01-22'\n",
      " '2019-02-06' '2019-02-10' '2019-01-05' '2019-01-27' '2019-01-28'\n",
      " '2019-02-03' '2019-02-04' '2019-02-05' '2019-02-07' '2019-01-13'\n",
      " '2019-02-02' '2019-01-23' '2019-01-24' '2019-01-15' '2019-01-08'\n",
      " '2019-01-04' '2019-01-06' '2019-01-09' '2019-01-10' '2019-01-11'\n",
      " '2019-01-12' '2019-01-14' '2019-01-16' '2019-01-17' '2019-01-18'\n",
      " '2019-01-19' '2019-01-25' '2019-01-29' '2019-01-30' '2019-01-31'\n",
      " '2019-02-01' '2019-01-26']\n",
      "Unique Dates: in 20190216: ['2019-02-15' '2019-02-16' '2019-02-14' '2019-02-10' '2019-02-12'\n",
      " '2019-02-13' '2019-02-11' '2019-02-01' '2019-02-02' '2019-02-04'\n",
      " '2019-02-05' '2019-02-07' '2019-02-08' '2019-02-09' '2019-02-03'\n",
      " '2019-01-10' '2019-01-26' '2019-01-27' '2019-01-30' '2019-02-06']\n",
      "Unique Dates: in 20190217: ['2019-02-16' '2019-02-17' '2019-02-15' '2019-02-14' '2019-02-13'\n",
      " '2019-02-11' '2019-02-12' '2019-02-10' '2019-01-30' '2019-01-31'\n",
      " '2019-02-08' '2019-02-02' '2019-02-05' '2019-02-06' '2019-02-07'\n",
      " '2019-02-09' '2019-02-03' '2019-02-04' '2019-01-07']\n"
     ]
    }
   ],
   "source": [
    "for date, gdf in gdfs.items():\n",
    "    unique_dates = gdf['Date'].unique()\n",
    "    print(f\"Unique Dates: in {date}: {unique_dates}\")\n",
    "    data=f\"{date[0:4]}-{date[4:6]}-{date[6:8]}\"\n",
    "    gdf1=gdf[gdf['Date']==data]\n",
    "    gdfs[date]=gdf1"
   ]
  },
  {
   "cell_type": "code",
   "execution_count": 16,
   "id": "94ac2e6e-ceee-42ec-921d-18a7bdd8e639",
   "metadata": {},
   "outputs": [
    {
     "name": "stdout",
     "output_type": "stream",
     "text": [
      "Unique Dates: in 20190211: ['2019-02-11']\n",
      "Unique Dates: in 20190212: ['2019-02-12']\n",
      "Unique Dates: in 20190213: ['2019-02-13']\n",
      "Unique Dates: in 20190214: ['2019-02-14']\n",
      "Unique Dates: in 20190215: ['2019-02-15']\n",
      "Unique Dates: in 20190216: ['2019-02-16']\n",
      "Unique Dates: in 20190217: ['2019-02-17']\n"
     ]
    }
   ],
   "source": [
    "for date, gdf in gdfs.items():\n",
    "    unique_dates = gdf['Date'].unique()\n",
    "    print(f\"Unique Dates: in {date}: {unique_dates}\")"
   ]
  },
  {
   "cell_type": "code",
   "execution_count": 23,
   "id": "29ac36cf-fda1-4188-84c9-84be1b834eaf",
   "metadata": {},
   "outputs": [
    {
     "name": "stdout",
     "output_type": "stream",
     "text": [
      "817467\n",
      "826184\n",
      "849465\n",
      "884131\n",
      "890294\n",
      "819406\n",
      "679852\n"
     ]
    }
   ],
   "source": [
    "for date, gdf in gdfs.items():\n",
    "    print(len(gdf))"
   ]
  },
  {
   "cell_type": "code",
   "execution_count": 233,
   "id": "2ddfd1f8-34ae-4f37-a442-1d08970a245a",
   "metadata": {},
   "outputs": [
    {
     "data": {
      "text/plain": [
       "88.4959485248123"
      ]
     },
     "execution_count": 233,
     "metadata": {},
     "output_type": "execute_result"
    }
   ],
   "source": [
    "#Percentuale dati effettivamente giusti\n",
    "len(gdf3)/len(gdf2)*100"
   ]
  },
  {
   "cell_type": "markdown",
   "id": "a4be1585-c545-401e-be33-9052a4288eb0",
   "metadata": {},
   "source": [
    "## Filtriamo i punti dentro l'area della FIPILI FIRENZE-LASTRA"
   ]
  },
  {
   "cell_type": "code",
   "execution_count": 3,
   "id": "2dc3e21a-792d-437a-b8f7-7cd619f6e08d",
   "metadata": {},
   "outputs": [],
   "source": [
    "fipili_area_FI_Lastra = gpd.read_file(\"internship/ArealeRistretto_FIPILI/Buffer10m/FIRENZE_LASTRA.shp\")"
   ]
  },
  {
   "cell_type": "code",
   "execution_count": 4,
   "id": "969385d5-39b7-4f13-b776-5990f54f7d00",
   "metadata": {
    "collapsed": true,
    "jupyter": {
     "outputs_hidden": true
    }
   },
   "outputs": [
    {
     "data": {
      "text/html": [
       "<div>\n",
       "<style scoped>\n",
       "    .dataframe tbody tr th:only-of-type {\n",
       "        vertical-align: middle;\n",
       "    }\n",
       "\n",
       "    .dataframe tbody tr th {\n",
       "        vertical-align: top;\n",
       "    }\n",
       "\n",
       "    .dataframe thead th {\n",
       "        text-align: right;\n",
       "    }\n",
       "</style>\n",
       "<table border=\"1\" class=\"dataframe\">\n",
       "  <thead>\n",
       "    <tr style=\"text-align: right;\">\n",
       "      <th></th>\n",
       "      <th>pk_uid</th>\n",
       "      <th>cod_ele</th>\n",
       "      <th>tip_ele</th>\n",
       "      <th>tipo_ele</th>\n",
       "      <th>cls_tcn</th>\n",
       "      <th>clstecfun</th>\n",
       "      <th>tip_gst</th>\n",
       "      <th>tip_gest</th>\n",
       "      <th>cod_gst</th>\n",
       "      <th>sot_pas</th>\n",
       "      <th>...</th>\n",
       "      <th>l_struct</th>\n",
       "      <th>lstruttura</th>\n",
       "      <th>r_struct</th>\n",
       "      <th>rstruttura</th>\n",
       "      <th>primaria</th>\n",
       "      <th>data_agg</th>\n",
       "      <th>data_elab</th>\n",
       "      <th>tipostrada</th>\n",
       "      <th>cent</th>\n",
       "      <th>geometry</th>\n",
       "    </tr>\n",
       "  </thead>\n",
       "  <tbody>\n",
       "    <tr>\n",
       "      <th>0</th>\n",
       "      <td>223583</td>\n",
       "      <td>RT04802418288ES</td>\n",
       "      <td>0100</td>\n",
       "      <td>di tronco carreggiata</td>\n",
       "      <td>0100</td>\n",
       "      <td>autostrada</td>\n",
       "      <td>0300</td>\n",
       "      <td>Provincia</td>\n",
       "      <td>048</td>\n",
       "      <td>0500</td>\n",
       "      <td>...</td>\n",
       "      <td>-1</td>\n",
       "      <td>-</td>\n",
       "      <td>-1</td>\n",
       "      <td>-</td>\n",
       "      <td>1</td>\n",
       "      <td>20190904</td>\n",
       "      <td>20191024</td>\n",
       "      <td>SR</td>\n",
       "      <td>None</td>\n",
       "      <td>POLYGON ((1671205.987 4848520.012, 1671193.707...</td>\n",
       "    </tr>\n",
       "  </tbody>\n",
       "</table>\n",
       "<p>1 rows × 87 columns</p>\n",
       "</div>"
      ],
      "text/plain": [
       "   pk_uid          cod_ele tip_ele               tipo_ele cls_tcn   clstecfun  \\\n",
       "0  223583  RT04802418288ES    0100  di tronco carreggiata    0100  autostrada   \n",
       "\n",
       "  tip_gst   tip_gest cod_gst sot_pas  ... l_struct lstruttura r_struct  \\\n",
       "0    0300  Provincia     048    0500  ...       -1          -       -1   \n",
       "\n",
       "  rstruttura primaria  data_agg data_elab tipostrada  cent  \\\n",
       "0          -        1  20190904  20191024         SR  None   \n",
       "\n",
       "                                            geometry  \n",
       "0  POLYGON ((1671205.987 4848520.012, 1671193.707...  \n",
       "\n",
       "[1 rows x 87 columns]"
      ]
     },
     "execution_count": 4,
     "metadata": {},
     "output_type": "execute_result"
    }
   ],
   "source": [
    "fipili_area_FI_Lastra.head(1)"
   ]
  },
  {
   "cell_type": "code",
   "execution_count": 6,
   "id": "39636040-3cb6-4660-b370-5a1edd158ec9",
   "metadata": {
    "jupyter": {
     "source_hidden": true
    },
    "scrolled": true
   },
   "outputs": [
    {
     "data": {
      "text/html": [
       "<div style=\"width:100%;\"><div style=\"position:relative;width:100%;height:0;padding-bottom:60%;\"><span style=\"color:#565656\">Make this Notebook Trusted to load map: File -> Trust Notebook</span><iframe srcdoc=\"&lt;!DOCTYPE html&gt;\n",
       "&lt;html&gt;\n",
       "&lt;head&gt;\n",
       "    \n",
       "    &lt;meta http-equiv=&quot;content-type&quot; content=&quot;text/html; charset=UTF-8&quot; /&gt;\n",
       "    \n",
       "        &lt;script&gt;\n",
       "            L_NO_TOUCH = false;\n",
       "            L_DISABLE_3D = false;\n",
       "        &lt;/script&gt;\n",
       "    \n",
       "    &lt;style&gt;html, body {width: 100%;height: 100%;margin: 0;padding: 0;}&lt;/style&gt;\n",
       "    &lt;style&gt;#map {position:absolute;top:0;bottom:0;right:0;left:0;}&lt;/style&gt;\n",
       "    &lt;script src=&quot;https://cdn.jsdelivr.net/npm/leaflet@1.6.0/dist/leaflet.js&quot;&gt;&lt;/script&gt;\n",
       "    &lt;script src=&quot;https://code.jquery.com/jquery-1.12.4.min.js&quot;&gt;&lt;/script&gt;\n",
       "    &lt;script src=&quot;https://maxcdn.bootstrapcdn.com/bootstrap/3.2.0/js/bootstrap.min.js&quot;&gt;&lt;/script&gt;\n",
       "    &lt;script src=&quot;https://cdnjs.cloudflare.com/ajax/libs/Leaflet.awesome-markers/2.0.2/leaflet.awesome-markers.js&quot;&gt;&lt;/script&gt;\n",
       "    &lt;link rel=&quot;stylesheet&quot; href=&quot;https://cdn.jsdelivr.net/npm/leaflet@1.6.0/dist/leaflet.css&quot;/&gt;\n",
       "    &lt;link rel=&quot;stylesheet&quot; href=&quot;https://maxcdn.bootstrapcdn.com/bootstrap/3.2.0/css/bootstrap.min.css&quot;/&gt;\n",
       "    &lt;link rel=&quot;stylesheet&quot; href=&quot;https://maxcdn.bootstrapcdn.com/bootstrap/3.2.0/css/bootstrap-theme.min.css&quot;/&gt;\n",
       "    &lt;link rel=&quot;stylesheet&quot; href=&quot;https://maxcdn.bootstrapcdn.com/font-awesome/4.6.3/css/font-awesome.min.css&quot;/&gt;\n",
       "    &lt;link rel=&quot;stylesheet&quot; href=&quot;https://cdnjs.cloudflare.com/ajax/libs/Leaflet.awesome-markers/2.0.2/leaflet.awesome-markers.css&quot;/&gt;\n",
       "    &lt;link rel=&quot;stylesheet&quot; href=&quot;https://cdn.jsdelivr.net/gh/python-visualization/folium/folium/templates/leaflet.awesome.rotate.min.css&quot;/&gt;\n",
       "    \n",
       "            &lt;meta name=&quot;viewport&quot; content=&quot;width=device-width,\n",
       "                initial-scale=1.0, maximum-scale=1.0, user-scalable=no&quot; /&gt;\n",
       "            &lt;style&gt;\n",
       "                #map_a5339d8568d93c394f4c29a87342cb49 {\n",
       "                    position: relative;\n",
       "                    width: 100.0%;\n",
       "                    height: 100.0%;\n",
       "                    left: 0.0%;\n",
       "                    top: 0.0%;\n",
       "                }\n",
       "            &lt;/style&gt;\n",
       "        \n",
       "    \n",
       "                    &lt;style&gt;\n",
       "                        .foliumtooltip {\n",
       "                            \n",
       "                        }\n",
       "                       .foliumtooltip table{\n",
       "                            margin: auto;\n",
       "                        }\n",
       "                        .foliumtooltip tr{\n",
       "                            text-align: left;\n",
       "                        }\n",
       "                        .foliumtooltip th{\n",
       "                            padding: 2px; padding-right: 8px;\n",
       "                        }\n",
       "                    &lt;/style&gt;\n",
       "            \n",
       "&lt;/head&gt;\n",
       "&lt;body&gt;\n",
       "    \n",
       "    \n",
       "            &lt;div class=&quot;folium-map&quot; id=&quot;map_a5339d8568d93c394f4c29a87342cb49&quot; &gt;&lt;/div&gt;\n",
       "        \n",
       "&lt;/body&gt;\n",
       "&lt;script&gt;\n",
       "    \n",
       "    \n",
       "            var map_a5339d8568d93c394f4c29a87342cb49 = L.map(\n",
       "                &quot;map_a5339d8568d93c394f4c29a87342cb49&quot;,\n",
       "                {\n",
       "                    center: [43.7696, 11.2558],\n",
       "                    crs: L.CRS.EPSG3857,\n",
       "                    zoom: 8,\n",
       "                    zoomControl: true,\n",
       "                    preferCanvas: false,\n",
       "                }\n",
       "            );\n",
       "\n",
       "            \n",
       "\n",
       "        \n",
       "    \n",
       "            var tile_layer_f0813d2a0317f9e868c190e2f2acb06f = L.tileLayer(\n",
       "                &quot;https://cartodb-basemaps-{s}.global.ssl.fastly.net/light_all/{z}/{x}/{y}.png&quot;,\n",
       "                {&quot;attribution&quot;: &quot;\\u0026copy; \\u003ca href=\\&quot;http://www.openstreetmap.org/copyright\\&quot;\\u003eOpenStreetMap\\u003c/a\\u003e contributors \\u0026copy; \\u003ca href=\\&quot;http://cartodb.com/attributions\\&quot;\\u003eCartoDB\\u003c/a\\u003e, CartoDB \\u003ca href =\\&quot;http://cartodb.com/attributions\\&quot;\\u003eattributions\\u003c/a\\u003e&quot;, &quot;detectRetina&quot;: false, &quot;maxNativeZoom&quot;: 18, &quot;maxZoom&quot;: 18, &quot;minZoom&quot;: 0, &quot;noWrap&quot;: false, &quot;opacity&quot;: 1, &quot;subdomains&quot;: &quot;abc&quot;, &quot;tms&quot;: false}\n",
       "            ).addTo(map_a5339d8568d93c394f4c29a87342cb49);\n",
       "        \n",
       "    \n",
       "\n",
       "        function geo_json_24cf9015b5d11ea2ea26f4af00015027_onEachFeature(feature, layer) {\n",
       "            layer.on({\n",
       "            });\n",
       "        };\n",
       "        var geo_json_24cf9015b5d11ea2ea26f4af00015027 = L.geoJson(null, {\n",
       "                onEachFeature: geo_json_24cf9015b5d11ea2ea26f4af00015027_onEachFeature,\n",
       "            \n",
       "        });\n",
       "\n",
       "        function geo_json_24cf9015b5d11ea2ea26f4af00015027_add (data) {\n",
       "            geo_json_24cf9015b5d11ea2ea26f4af00015027\n",
       "                .addData(data)\n",
       "                .addTo(map_a5339d8568d93c394f4c29a87342cb49);\n",
       "        }\n",
       "            geo_json_24cf9015b5d11ea2ea26f4af00015027_add({&quot;bbox&quot;: [11.126310873571102, 43.7691730406855, 11.194720847484609, 43.77429544664292], &quot;features&quot;: [{&quot;bbox&quot;: [11.126310873571102, 43.7691730406855, 11.194720847484609, 43.77429544664292], &quot;geometry&quot;: {&quot;coordinates&quot;: [[[11.126823221116872, 43.76980310330745], [11.126651020895302, 43.7692495339687], [11.12664964981676, 43.76924474781456], [11.126646589781624, 43.76923619807659], [11.12664238806467, 43.76922790686223], [11.126637085131119, 43.769219954020215], [11.126630732051433, 43.76921241614066], [11.126623390009467, 43.76920536581727], [11.12661512971324, 43.76919887094832], [11.12660603071394, 43.769192994082786], [11.126596180639822, 43.76918779181788], [11.126585674352333, 43.76918331425409], [11.126574613032465, 43.76917960451267], [11.126563103206449, 43.76917669832028], [11.126551255719763, 43.76917462366505], [11.126539184669719, 43.769173400526995], [11.126527006306608, 43.7691730406855], [11.126514837914206, 43.7691735476061], [11.126502796680255, 43.76917491640684], [11.126490998567927, 43.769177133905536], [11.126479557199042, 43.76918017874654], [11.126468582759847, 43.769184021606506], [11.126458180939874, 43.76918862547675], [11.126448451914102, 43.769193946019655], [11.126448306249511, 43.769194043307415], [11.12644427077492, 43.76919368035185], [11.12643208619105, 43.76919345684645], [11.126419930048268, 43.769194099888175], [11.12640791941634, 43.769195603284246], [11.126396169963733, 43.76919795255616], [11.126384794843649, 43.7692011250793], [11.126373903604337, 43.76920509030065], [11.126363601134083, 43.76920981003311], [11.126353986651091, 43.769215238823264], [11.126345152747978, 43.76922132438908], [11.126337184500048, 43.76922800812342], [11.126330158645974, 43.76923522565844], [11.126324142848762, 43.769242907485534], [11.126319195044108, 43.76925097962464], [11.126315362882442, 43.7692593643368], [11.126312683270008, 43.769267980872726], [11.126311182013415, 43.769276746250554], [11.126310873571102, 43.76928557605496], [11.126311760914065, 43.769294385250085], [11.12631383549722, 43.76930308899849], [11.126315126596438, 43.76930727046049], [11.126316181810557, 43.76931042061955], [11.126695062827645, 43.77035875314144], [11.126695563690769, 43.77035990505994], [11.126695949951433, 43.770361079923354], [11.126697394299212, 43.77036411521522], [11.12669872579802, 43.770367177484474], [11.126699380058291, 43.77036828828047], [11.126699923371472, 43.77036943005099], [11.126767298173137, 43.77049126197674], [11.126767384496983, 43.77049141765295], [11.126831393555815, 43.77060654092711], [11.126834981109774, 43.77061238512378], [11.126978747548428, 43.7708258186202], [11.12698073534914, 43.77082864240585], [11.127126301998205, 43.77102673017848], [11.12713394409189, 43.77103579573073], [11.127335922669037, 43.771246364045105], [11.127338362149994, 43.77124881822137], [11.127658609065723, 43.77155983633206], [11.127661436904381, 43.771562478788745], [11.127976948565506, 43.771846257986674], [11.127986994597418, 43.77185425768021], [11.128439534637106, 43.77217374088002], [11.128449425108727, 43.772180019178805], [11.129034448493375, 43.77251342695918], [11.129043629081186, 43.772518186111434], [11.129507666160645, 43.77273634359231], [11.129519125744947, 43.77274112313888], [11.129916761539834, 43.77288712974964], [11.129918989532158, 43.772887927635644], [11.130054111131173, 43.77293510424656], [11.130097126601044, 43.77295115968707], [11.130109247902753, 43.77295510459449], [11.130480345992135, 43.773058975228444], [11.130485487267876, 43.77306032082611], [11.130930197222984, 43.773168756497725], [11.130939657850865, 43.77317076421448], [11.131323646147717, 43.7732403924751], [11.13133412683106, 43.7732419487477], [11.131789588859334, 43.773294884804685], [11.131790822561115, 43.77329502358428], [11.132047802464285, 43.77332297337746], [11.132052642619128, 43.773323429529654], [11.13205406317287, 43.773323542888754], [11.13271841885713, 43.77337655596254], [11.132719206912848, 43.77337661700077], [11.133276013351784, 43.77341844111646], [11.133276180616159, 43.773418453597074], [11.134635453476845, 43.77351919519731], [11.134636182459957, 43.77351924764741], [11.134781498467396, 43.77352938950539], [11.134949944896094, 43.77354120275497], [11.134951079777084, 43.773541278537515], [11.134976146929496, 43.77354286840743], [11.13508217348687, 43.77354958894994], [11.135082944052424, 43.77354963604124], [11.135334264639862, 43.77356442385656], [11.13667176778542, 43.77366522566875], [11.13736730413462, 43.77371766997453], [11.137367630099375, 43.77371769423679], [11.139290189383967, 43.77385892104579], [11.139949716662956, 43.7739079980233], [11.139950082718574, 43.77390802486434], [11.141217374516875, 43.77399956812782], [11.141331915744894, 43.77400784146262], [11.141332144926391, 43.77400785786088], [11.141369030642975, 43.774010472059295], [11.141370177140525, 43.77401054942894], [11.142185954529108, 43.774062835411875], [11.142191379935733, 43.77406309655125], [11.143095309396536, 43.774092219282934], [11.143756252048082, 43.774113828764506], [11.143758923944251, 43.77411389524483], [11.1452955129415, 43.774140124270076], [11.145295762405183, 43.77414012834496], [11.146725143822561, 43.774162427007376], [11.146730223540802, 43.77416243093712], [11.146885741895392, 43.77416024640875], [11.15008173390826, 43.77422115390968], [11.15008563511222, 43.77422118378876], [11.150287185158453, 43.77422043348422], [11.151015342942864, 43.77423815544438], [11.151015800321636, 43.77423816596347], [11.1527784765116, 43.774276336497856], [11.15277936396814, 43.774276353408894], [11.153939379689849, 43.77429544664292], [11.153945533694115, 43.77429543740737], [11.15433477924166, 43.77428786292261], [11.154338011322658, 43.77428776949263], [11.155064216782641, 43.7742599078658], [11.155065681033394, 43.77425984539932], [11.155670662511334, 43.774231436339896], [11.155678314856186, 43.77423090423438], [11.1563947111744, 43.774164819211784], [11.156399156695192, 43.774164247286095], [11.156403620871219, 43.77416375756427], [11.156930569545468, 43.774086617855865], [11.156933308872402, 43.77408611432895], [11.156936080989995, 43.77408571602196], [11.159238895895239, 43.773668777475876], [11.159239419396517, 43.773668662641576], [11.15923995495346, 43.77366858212426], [11.160208421652131, 43.77348664525385], [11.1605350724931, 43.77343337485633], [11.160650392228554, 43.77341456820659], [11.160654292268276, 43.77341388403245], [11.162571386287437, 43.773053703967115], [11.16272438146574, 43.77302495795405], [11.162897412662632, 43.772992447128], [11.162906064285684, 43.772990821567085], [11.162907055004688, 43.77299063225653], [11.163535646625933, 43.7728685049512], [11.163537544236698, 43.77286812455657], [11.163633607251318, 43.77284827247716], [11.163706100586472, 43.77283329117155], [11.164486112941615, 43.772691525645406], [11.164796159486828, 43.772635173713844], [11.164797024274455, 43.77263501413974], [11.165243165175694, 43.772551451617844], [11.166254335894642, 43.77236205132512], [11.166254591499941, 43.7723620032368], [11.16675574298607, 43.77226730569162], [11.167759255900702, 43.77208839812147], [11.167761641597354, 43.772087954561215], [11.168448480756135, 43.771954978469445], [11.168900969547215, 43.77186737142176], [11.170557481370157, 43.77156582953787], [11.170559333946732, 43.77156548127284], [11.171391640020813, 43.771404043289536], [11.172458154124964, 43.771209710069634], [11.173446676046423, 43.77103107901862], [11.17442031953552, 43.770867033319014], [11.175436700600619, 43.7707059152331], [11.1761854946913, 43.77061024050518], [11.176977776152706, 43.770517328226425], [11.177517531984451, 43.77047523937666], [11.17800594919745, 43.770437536068464], [11.178662330013243, 43.7703932344247], [11.179232288921717, 43.7703788316915], [11.179233569505616, 43.77037879453364], [11.180009520314627, 43.770353370205214], [11.1805787115871, 43.770356607304855], [11.181131680848324, 43.770370852337976], [11.181573463450206, 43.77038373808721], [11.181575112555363, 43.77038377823544], [11.181938024543234, 43.77039086437877], [11.182491697794159, 43.77043644831402], [11.183288309733172, 43.77050202855176], [11.183816981533305, 43.770549302863806], [11.184444180913614, 43.77061405812115], [11.184686420389731, 43.770646367558165], [11.185861427973025, 43.77080307999083], [11.18593385030663, 43.77081273863577], [11.186932779241298, 43.770959185971044], [11.187143419161268, 43.770993530010635], [11.18773819047773, 43.77109050289161], [11.188308451258196, 43.771183476294276], [11.188308783948893, 43.77118353018665], [11.189128670899112, 43.771315484063145], [11.190173207340646, 43.77148358394834], [11.190173211038045, 43.77148358454353], [11.190173214862238, 43.77148358515895], [11.190898946032696, 43.77160040692082], [11.191715149695256, 43.77173178604782], [11.191716843675978, 43.771732049739754], [11.192920668115603, 43.77191307907601], [11.194056995077062, 43.77209094957341], [11.194057384665475, 43.772091010080196], [11.194540618295886, 43.77216547248487], [11.194552650568108, 43.77216688345593], [11.194564815756003, 43.772167433020755], [11.19457699670164, 43.77216711588679], [11.194589076095326, 43.77216593510817], [11.194600937605394, 43.77216390205653], [11.194612466998556, 43.772161036311346], [11.194623553240046, 43.77215736547147], [11.19463408956297, 43.77215292488919], [11.194643974496525, 43.772147757329975], [11.19465311284325, 43.772141912560386], [11.194661416595812, 43.772135446868944], [11.194668805784596, 43.77212842252398], [11.194675209247826, 43.77212090717396], [11.19468056531691, 43.77211297319599], [11.19468482241029, 43.77210469699873], [11.19468793953025, 43.7720961582866], [11.194689886657683, 43.77208743929217], [11.194690645041192, 43.77207862398418], [11.194690207377658, 43.772069797258844], [11.194689578524116, 43.77206641925529], [11.194691378968304, 43.772065025927176], [11.194698797812068, 43.77205801801967], [11.194705233011994, 43.77205051692101], [11.19471062259384, 43.77204259487109], [11.194714914653321, 43.772034328163684], [11.194718067855957, 43.77202579641183], [11.194720051835157, 43.77201708178108], [11.194720847484609, 43.77200826819811], [11.194720447142306, 43.771999440542544], [11.194718854664288, 43.77199068382954], [11.194716085387482, 43.77198208239095], [11.194712165982013, 43.77197371906325], [11.194707134194303, 43.77196567438972], [11.194701038483556, 43.77195802584482], [11.194693937555039, 43.77195084708806], [11.194685899794743, 43.7719442072546], [11.19467700261074, 43.77193817028947], [11.19466733168773, 43.771932794331754], [11.194656980161831, 43.77192813115474], [11.19464604772365, 43.77192422566711], [11.194634639658222, 43.77192111548078], [11.194622865831034, 43.7719188305484], [11.194118902594811, 43.77184000351763], [11.192849320985792, 43.77163967839414], [11.19284868778857, 43.771639579731506], [11.191452254788796, 43.77142474173654], [11.19097878853181, 43.77134808044286], [11.190251227867568, 43.77123027321543], [11.189213054498875, 43.77105949115268], [11.187837237903402, 43.77083314980529], [11.18783486966291, 43.7708327601803], [11.187833484257622, 43.77083253827438], [11.187243541184559, 43.7707406010016], [11.186333671722288, 43.77059879953668], [11.186330694500281, 43.77059836306105], [11.185968101883121, 43.77054854108358], [11.184792792006773, 43.770387039297994], [11.184703438425698, 43.77037476050245], [11.184698194710593, 43.77037412385538], [11.183211855647547, 43.77021727694497], [11.183208762826943, 43.77021706219321], [11.183205687855592, 43.77021673981138], [11.18244838909477, 43.77016467158896], [11.1814390912694, 43.770095269153586], [11.181427574852592, 43.7700948667538], [11.179715130529313, 43.77009268519749], [11.179707010495934, 43.770092867328366], [11.177576025719564, 43.77019127571817], [11.177566211825383, 43.77019201339916], [11.17643634378565, 43.770309970046824], [11.17643111109054, 43.77031059923061], [11.176094888249407, 43.770356392584034], [11.175671871460933, 43.77041400572404], [11.175670969944596, 43.77041413100624], [11.174902426180706, 43.77052306675138], [11.17489645575133, 43.77052402414413], [11.170455207481336, 43.771319693178974], [11.170454178043359, 43.77131988097128], [11.168569473419925, 43.771669888422394], [11.166306813854511, 43.7720900394919], [11.166306621434021, 43.77209007533904], [11.165760522960129, 43.77219214711757], [11.165148815084645, 43.77230647852016], [11.164421325615532, 43.77244244530641], [11.163568442287362, 43.77260184138991], [11.162697499383919, 43.77276460524258], [11.162547681096159, 43.77279260288192], [11.161326760899948, 43.77302075692082], [11.16132583684005, 43.77302093234366], [11.160438519012228, 43.77319202102919], [11.158289032018681, 43.773606443159764], [11.156500520702489, 43.77387337557593], [11.15622921880471, 43.77390892135165], [11.155976789380794, 43.773929831354764], [11.155600441491162, 43.77395948732576], [11.154967913930017, 43.773998232839595], [11.154488714363316, 43.77400777876914], [11.15448795865107, 43.77400782078024], [11.154487200751465, 43.77400781561068], [11.154084405038724, 43.77401940077545], [11.15408420122613, 43.77401940675857], [11.153866268042218, 43.77402593409462], [11.152735476495156, 43.77400386304429], [11.150973290110047, 43.773965702116435], [11.150264061659243, 43.77394785016573], [11.150259109096282, 43.77394779709352], [11.150035695890507, 43.773948630945654], [11.147092968558953, 43.77390565745352], [11.146727700109354, 43.77389958443568], [11.146727523274473, 43.77389958158659], [11.145298295327697, 43.773877283251686], [11.143769766595684, 43.773850787467644], [11.143103399211538, 43.773829508079054], [11.14220217353042, 43.77380047418642], [11.141422123900561, 43.77375047137264], [11.1413181395256, 43.773743048154046], [11.141094569345778, 43.77372708893043], [11.139971950583911, 43.7736460360637], [11.1393125307209, 43.77359696693337], [11.137408962575778, 43.77345653335778], [11.136694444795943, 43.77340329791219], [11.135355618359277, 43.77330239419808], [11.135353274388903, 43.773302233781756], [11.13500531819594, 43.77328082876647], [11.135004908548993, 43.77328080406049], [11.13489104866379, 43.7732740745137], [11.133298571718047, 43.77315650183877], [11.132742387096398, 43.773114724308805], [11.132095527035462, 43.77306220321681], [11.131824948882464, 43.77303414531505], [11.131375811935898, 43.77298194427622], [11.131001804189014, 43.77291412383888], [11.130565492463228, 43.7728077375926], [11.130243999804938, 43.77271257471677], [11.130205248580676, 43.77270062180687], [11.130171905356153, 43.772689159544115], [11.130128199339804, 43.77267393568116], [11.130128199218603, 43.77267393564415], [11.130128199102906, 43.77267393559864], [11.130087889333563, 43.77265989478486], [11.13001679824365, 43.77263372735441], [11.129699806321147, 43.77251704882433], [11.129246012528368, 43.77230370730094], [11.12867060604235, 43.77197578261269], [11.128228137209137, 43.77166340836684], [11.127918763771874, 43.771385150901274], [11.127606430980782, 43.77108181994414], [11.12738878032154, 43.77076786077952], [11.127388623355504, 43.770767635146164], [11.127101950492328, 43.77035698438444], [11.127074232167857, 43.770301903539334], [11.127074232167834, 43.77030190353929], [11.126902285734232, 43.769960215326776], [11.126823221116872, 43.76980310330745]]], &quot;type&quot;: &quot;Polygon&quot;}, &quot;id&quot;: &quot;0&quot;, &quot;properties&quot;: {&quot;alt_max&quot;: -1.0, &quot;cent&quot;: null, &quot;classe_amm&quot;: &quot;Strada Regionale&quot;, &quot;cls_amm&quot;: &quot;0200&quot;, &quot;cls_funz&quot;: &quot;Autostrade&quot;, &quot;cls_largh&quot;: &quot;maggiore di 7,0 mt&quot;, &quot;cls_lrg&quot;: &quot;0300&quot;, &quot;cls_rul&quot;: 0, &quot;cls_tcn&quot;: &quot;0100&quot;, &quot;clstecfun&quot;: &quot;autostrada&quot;, &quot;cmp_ele&quot;: &quot;0200&quot;, &quot;cod_area_s&quot;: null, &quot;cod_com&quot;: &quot;E466&quot;, &quot;cod_com2&quot;: null, &quot;cod_ele&quot;: &quot;RT04802418288ES&quot;, &quot;cod_gst&quot;: &quot;048&quot;, &quot;cod_istat&quot;: &quot;048024&quot;, &quot;cod_istat2&quot;: null, &quot;cod_prp&quot;: &quot;09&quot;, &quot;cod_reg&quot;: &quot;RTT0900000046PA&quot;, &quot;cod_sed&quot;: &quot;0200&quot;, &quot;cod_sta&quot;: &quot;0100&quot;, &quot;cod_top&quot;: &quot;RT04802406517TO&quot;, &quot;cod_top2&quot;: null, &quot;cod_viabil&quot;: null, &quot;comp_ele&quot;: &quot;carreggiate separate&quot;, &quot;comune&quot;: &quot;LASTRA A SIGNA&quot;, &quot;comune2&quot;: null, &quot;data_agg&quot;: &quot;20190904&quot;, &quot;data_elab&quot;: &quot;20191024&quot;, &quot;den_breve&quot;: &quot;SGCFI-PI-LI&quot;, &quot;den_estesa&quot;: &quot;S.R. FIRENZE PISA LIVORNO (S.G.C. FI-PI-LI)&quot;, &quot;descfow&quot;: &quot;Part of Multi Carriageway which is Not a Motorway&quot;, &quot;desconeway&quot;: &quot;Open in Positive Direction&quot;, &quot;dug&quot;: &quot;S.G.C.&quot;, &quot;dug2&quot;: null, &quot;fow&quot;: 2, &quot;fromto&quot;: 1, &quot;gnzfin&quot;: &quot;intersezione a raso / biforcazione&quot;, &quot;gnzini&quot;: &quot;intersezione a raso / biforcazione&quot;, &quot;indirizzo&quot;: &quot;S.G.C. FIRENZE PISA LIVORNO (S.G.C. FI-PI-LI)&quot;, &quot;indirizzo2&quot;: null, &quot;l_f_add&quot;: -1, &quot;l_struct&quot;: -1, &quot;l_t_add&quot;: -1, &quot;lng&quot;: 124, &quot;lng_max&quot;: -1.0, &quot;lrg_max&quot;: -1.0, &quot;lstruttura&quot;: &quot;-&quot;, &quot;nod_fin&quot;: &quot;RT04802417445GZ&quot;, &quot;nod_ini&quot;: &quot;RT04802417722GZ&quot;, &quot;oneway&quot;: &quot;FT&quot;, &quot;org&quot;: &quot;0202&quot;, &quot;origine&quot;: &quot;estrazione da ctr2k&quot;, &quot;pes_max&quot;: -1.0, &quot;pk_uid&quot;: 223583, &quot;pnd_max&quot;: -1.0, &quot;primaria&quot;: 1, &quot;r_f_add&quot;: -1, &quot;r_struct&quot;: -1, &quot;r_t_add&quot;: -1, &quot;rstruttura&quot;: &quot;-&quot;, &quot;sede_ele&quot;: &quot;ponte&quot;, &quot;siglaprov&quot;: &quot;FI&quot;, &quot;siglaprov2&quot;: null, &quot;sot_pas&quot;: &quot;0500&quot;, &quot;sotto_pass&quot;: &quot;l\\u0027elemento non \\ufffd in sottopasso di nessun altro oggetto&quot;, &quot;stat_eserc&quot;: &quot;in esercizio&quot;, &quot;str_ticket&quot;: &quot;Strada non a pagamento&quot;, &quot;str_tkt&quot;: 0, &quot;t_gnzfin&quot;: &quot;0100&quot;, &quot;t_gnzini&quot;: &quot;0100&quot;, &quot;tip_ele&quot;: &quot;0100&quot;, &quot;tip_gest&quot;: &quot;Provincia&quot;, &quot;tip_gst&quot;: &quot;0300&quot;, &quot;tip_pav&quot;: &quot;0100&quot;, &quot;tip_pavim&quot;: &quot;pavimentata&quot;, &quot;tip_prp&quot;: &quot;0200&quot;, &quot;tipo_ele&quot;: &quot;di tronco carreggiata&quot;, &quot;tipo_prop&quot;: &quot;Regione&quot;, &quot;tipostrada&quot;: &quot;SR&quot;, &quot;tofrom&quot;: 0, &quot;toponimo&quot;: &quot;FIRENZE PISA LIVORNO (S.G.C. FI-PI-LI)&quot;, &quot;toponimo2&quot;: null, &quot;vel_lib&quot;: 100.0, &quot;vel_med&quot;: 85.0}, &quot;type&quot;: &quot;Feature&quot;}], &quot;type&quot;: &quot;FeatureCollection&quot;});\n",
       "\n",
       "        \n",
       "    \n",
       "    geo_json_24cf9015b5d11ea2ea26f4af00015027.bindTooltip(\n",
       "    function(layer){\n",
       "    let div = L.DomUtil.create(&#x27;div&#x27;);\n",
       "    \n",
       "    let handleObject = feature=&gt;typeof(feature)==&#x27;object&#x27; ? JSON.stringify(feature) : feature;\n",
       "    let fields = [&quot;pk_uid&quot;, &quot;tipo_ele&quot;];\n",
       "    let aliases = [&quot;ID:&quot;, &quot;Type:&quot;];\n",
       "    let table = &#x27;&lt;table&gt;&#x27; +\n",
       "        String(\n",
       "        fields.map(\n",
       "        (v,i)=&gt;\n",
       "        `&lt;tr&gt;\n",
       "            &lt;th&gt;${aliases[i]}&lt;/th&gt;\n",
       "            \n",
       "            &lt;td&gt;${handleObject(layer.feature.properties[v])}&lt;/td&gt;\n",
       "        &lt;/tr&gt;`).join(&#x27;&#x27;))\n",
       "    +&#x27;&lt;/table&gt;&#x27;;\n",
       "    div.innerHTML=table;\n",
       "    \n",
       "    return div\n",
       "    }\n",
       "    ,{&quot;className&quot;: &quot;foliumtooltip&quot;, &quot;sticky&quot;: true});\n",
       "                     \n",
       "&lt;/script&gt;\n",
       "&lt;/html&gt;\" style=\"position:absolute;width:100%;height:100%;left:0;top:0;border:none !important;\" allowfullscreen webkitallowfullscreen mozallowfullscreen></iframe></div></div>"
      ],
      "text/plain": [
       "<folium.folium.Map at 0x12ca845b0>"
      ]
     },
     "execution_count": 6,
     "metadata": {},
     "output_type": "execute_result"
    }
   ],
   "source": [
    "import folium\n",
    "\n",
    "latitude = 43.7696\n",
    "longitude = 11.2558\n",
    "map_f = folium.Map(location=[latitude, longitude], zoom_start=8, tiles='CartoDB positron')\n",
    "\n",
    "\n",
    "folium.GeoJson(\n",
    "    fipili_area_FI_Lastra,\n",
    "    tooltip=folium.GeoJsonTooltip(\n",
    "        fields=['pk_uid', 'tipo_ele'],\n",
    "        aliases=['ID:', 'Type:']\n",
    "    )\n",
    ").add_to(map_f)\n",
    "\n",
    "map_f.save('Firenze_Lastra.html')\n",
    "map_f\n"
   ]
  },
  {
   "cell_type": "code",
   "execution_count": 19,
   "id": "62b149bc-8ddd-4531-8363-0674360f1c6e",
   "metadata": {},
   "outputs": [
    {
     "name": "stdout",
     "output_type": "stream",
     "text": [
      "20190211 23693\n",
      "20190212 23704\n",
      "20190213 23812\n",
      "20190214 24224\n",
      "20190215 24416\n",
      "20190216 22726\n",
      "20190217 19963\n"
     ]
    }
   ],
   "source": [
    "for date, gdf in gdfs.items():\n",
    "    print(date, gdf['ID'].nunique())"
   ]
  },
  {
   "cell_type": "code",
   "execution_count": null,
   "id": "4dbc9800-0dc0-4e0f-87f1-297761de2bc5",
   "metadata": {},
   "outputs": [],
   "source": [
    "fipili_area_FI_Lastra = gpd.read_file(\"internship/ArealeRistretto_FIPILI/Buffer10m/FIRENZE_LASTRA.shp\")"
   ]
  },
  {
   "cell_type": "code",
   "execution_count": 77,
   "id": "5c091983-5c3e-4719-8fe7-3e3860818f28",
   "metadata": {
    "collapsed": true,
    "jupyter": {
     "outputs_hidden": true
    }
   },
   "outputs": [
    {
     "name": "stdout",
     "output_type": "stream",
     "text": [
      "Number of points within FI-LASTRA on 20190211: 3065\n",
      "Number of Unique IDs using FI-LASTRA on 20190211:818\n",
      "20190211: Filtered GeoDataFrame has 41493 rows.\n",
      "Number of points within FI-LASTRA on 20190212: 3253\n",
      "Number of Unique IDs using FI-LASTRA on 20190212:830\n",
      "20190212: Filtered GeoDataFrame has 43872 rows.\n",
      "Number of points within FI-LASTRA on 20190213: 3216\n",
      "Number of Unique IDs using FI-LASTRA on 20190213:836\n",
      "20190213: Filtered GeoDataFrame has 44884 rows.\n",
      "Number of points within FI-LASTRA on 20190214: 3342\n",
      "Number of Unique IDs using FI-LASTRA on 20190214:866\n",
      "20190214: Filtered GeoDataFrame has 47414 rows.\n",
      "Number of points within FI-LASTRA on 20190215: 3609\n",
      "Number of Unique IDs using FI-LASTRA on 20190215:970\n",
      "20190215: Filtered GeoDataFrame has 53554 rows.\n",
      "Number of points within FI-LASTRA on 20190216: 3336\n",
      "Number of Unique IDs using FI-LASTRA on 20190216:928\n",
      "20190216: Filtered GeoDataFrame has 46407 rows.\n",
      "Number of points within FI-LASTRA on 20190217: 3064\n",
      "Number of Unique IDs using FI-LASTRA on 20190217:892\n",
      "20190217: Filtered GeoDataFrame has 42015 rows.\n"
     ]
    }
   ],
   "source": [
    "gdfs_FI_LASTRA={}\n",
    "for date, gdf in gdfs.items():\n",
    "    gdf = gdf.to_crs(fipili_area_FI_Lastra.crs)\n",
    "    points_in_area = gpd.sjoin(gdf, fipili_area_FI_Lastra, how=\"inner\", predicate=\"within\")\n",
    "    uid_counts = points_in_area.groupby('ID').size()\n",
    "    print(f\"Number of points within FI-LASTRA on {date}: {len(points_in_area)}\")\n",
    "    print(f\"Number of Unique IDs using FI-LASTRA on {date}:{points_in_area['ID'].nunique()}\")\n",
    "    valid_ID=uid_counts[uid_counts>=3].index\n",
    "    gdf_FI_LASTRA = gdf[gdf['ID'].isin(valid_ID)]\n",
    "    print(f\"{date}: Filtered GeoDataFrame has {len(gdf_FI_LASTRA)} rows.\")\n",
    "    gdfs_FI_LASTRA[date]=gdf_FI_LASTRA"
   ]
  },
  {
   "cell_type": "code",
   "execution_count": 72,
   "id": "26718399-5f4c-4d4b-afff-927a57642bf2",
   "metadata": {
    "collapsed": true,
    "jupyter": {
     "outputs_hidden": true,
     "source_hidden": true
    }
   },
   "outputs": [
    {
     "name": "stdout",
     "output_type": "stream",
     "text": [
      "Number of points within FI-LASTRA on 20190211: 10295\n",
      "Number of Unique IDs using FI-LASTRA on 20190211:984\n",
      "20190211: Filtered GeoDataFrame has 63792 rows.\n",
      "Number of points within FI-LASTRA on 20190212: 10764\n",
      "Number of Unique IDs using FI-LASTRA on 20190212:991\n",
      "20190212: Filtered GeoDataFrame has 66635 rows.\n",
      "Number of points within FI-LASTRA on 20190213: 10569\n",
      "Number of Unique IDs using FI-LASTRA on 20190213:999\n",
      "20190213: Filtered GeoDataFrame has 68831 rows.\n",
      "Number of points within FI-LASTRA on 20190214: 10990\n",
      "Number of Unique IDs using FI-LASTRA on 20190214:1025\n",
      "20190214: Filtered GeoDataFrame has 71263 rows.\n",
      "Number of points within FI-LASTRA on 20190215: 11802\n",
      "Number of Unique IDs using FI-LASTRA on 20190215:1114\n",
      "20190215: Filtered GeoDataFrame has 82251 rows.\n",
      "Number of points within FI-LASTRA on 20190216: 10538\n",
      "Number of Unique IDs using FI-LASTRA on 20190216:1105\n",
      "20190216: Filtered GeoDataFrame has 72772 rows.\n",
      "Number of points within FI-LASTRA on 20190217: 9487\n",
      "Number of Unique IDs using FI-LASTRA on 20190217:1024\n",
      "20190217: Filtered GeoDataFrame has 64300 rows.\n"
     ]
    }
   ],
   "source": [
    "gdfs_FI_LASTRA={}\n",
    "for date, gdf in gdfs.items():\n",
    "    gdf = gdf.to_crs(fipili_area_FI_Lastra.crs)\n",
    "    points_in_area = gpd.sjoin(gdf, fipili_area_FI_Lastra, how=\"inner\", predicate=\"within\")\n",
    "    uid_counts = points_in_area.groupby('ID').size()\n",
    "    print(f\"Number of points within FI-LASTRA on {date}: {len(points_in_area)}\")\n",
    "    print(f\"Number of Unique IDs using FI-LASTRA on {date}:{points_in_area['ID'].nunique()}\")\n",
    "    valid_ID=uid_counts[uid_counts>=3].index\n",
    "    gdf_FI_LASTRA = gdf[gdf['ID'].isin(valid_ID)]\n",
    "    print(f\"{date}: Filtered GeoDataFrame has {len(gdf_FI_LASTRA)} rows.\")\n",
    "    gdfs_FI_LASTRA[date]=gdf_FI_LASTRA"
   ]
  },
  {
   "cell_type": "code",
   "execution_count": 55,
   "id": "7ce12ff7-63f2-42e5-8c18-8d2b097ace4a",
   "metadata": {
    "collapsed": true,
    "jupyter": {
     "outputs_hidden": true
    }
   },
   "outputs": [
    {
     "name": "stdout",
     "output_type": "stream",
     "text": [
      "        ID        Date      Time  Latitude  Longitude  Speed  Heading  \\\n",
      "1991  2564  2019-02-11  08:38:33  43.80533  11.115726     22      112   \n",
      "\n",
      "      PanelSession  DeltaPos                   geometry  \n",
      "1991             1      2021  POINT (11.11573 43.80533)  \n",
      "      ID        Date      Time   Latitude  Longitude  Speed  Heading  \\\n",
      "618  996  2019-02-12  08:01:30  44.010111  11.238962     58      140   \n",
      "\n",
      "     PanelSession  DeltaPos                   geometry  \n",
      "618             1      2017  POINT (11.23896 44.01011)  \n",
      "        ID        Date      Time   Latitude  Longitude  Speed  Heading  \\\n",
      "1575  2257  2019-02-13  05:10:23  43.635353  11.006142     74       24   \n",
      "\n",
      "      PanelSession  DeltaPos                   geometry  \n",
      "1575             1      2053  POINT (11.00614 43.63535)  \n",
      "        ID        Date      Time   Latitude  Longitude  Speed  Heading  \\\n",
      "4400  5514  2019-02-14  06:40:08  43.768102  11.287653      0      334   \n",
      "\n",
      "      PanelSession  DeltaPos                  geometry  \n",
      "4400             1         0  POINT (11.28765 43.7681)  \n",
      "        ID        Date      Time   Latitude  Longitude  Speed  Heading  \\\n",
      "1368  1493  2019-02-15  14:56:57  43.634282  10.581417    100       88   \n",
      "\n",
      "      PanelSession  DeltaPos                   geometry  \n",
      "1368             1      2002  POINT (10.58142 43.63428)  \n",
      "        ID        Date      Time   Latitude  Longitude  Speed  Heading  \\\n",
      "1835  2149  2019-02-16  10:52:41  44.055843  11.243648    104      196   \n",
      "\n",
      "      PanelSession  DeltaPos                   geometry  \n",
      "1835             1      2016  POINT (11.24365 44.05584)  \n",
      "     ID        Date      Time   Latitude  Longitude  Speed  Heading  \\\n",
      "16  118  2019-02-17  14:03:13  44.053589  11.218084     86      106   \n",
      "\n",
      "    PanelSession  DeltaPos                   geometry  \n",
      "16             1      2033  POINT (11.21808 44.05359)  \n"
     ]
    }
   ],
   "source": [
    "for date, gdf in gdfs_FI_LASTRA.items():\n",
    "  print(gdfs_FI_LASTRA[date].head(1))"
   ]
  },
  {
   "cell_type": "code",
   "execution_count": 78,
   "id": "87645fd4-5f48-4f31-9737-a1ca92357c6e",
   "metadata": {
    "collapsed": true,
    "jupyter": {
     "outputs_hidden": true
    }
   },
   "outputs": [
    {
     "name": "stdout",
     "output_type": "stream",
     "text": [
      "20190211         ID        Date      Time  Latitude  Longitude  Speed  Heading  \\\n",
      "1991  2564  2019-02-11  08:38:33  43.80533  11.115726     22      112   \n",
      "\n",
      "      PanelSession  DeltaPos                   geometry            Timestamp  \n",
      "1991             1      2021  POINT (11.11573 43.80533)  2019-02-11 08:38:33  \n",
      "20190212       ID        Date      Time   Latitude  Longitude  Speed  Heading  \\\n",
      "618  996  2019-02-12  08:01:30  44.010111  11.238962     58      140   \n",
      "\n",
      "     PanelSession  DeltaPos                   geometry            Timestamp  \n",
      "618             1      2017  POINT (11.23896 44.01011)  2019-02-12 08:01:30  \n",
      "20190213         ID        Date      Time  Latitude  Longitude  Speed  Heading  \\\n",
      "4007  5514  2019-02-13  06:48:53  43.76817  11.287719      0        0   \n",
      "\n",
      "      PanelSession  DeltaPos                   geometry            Timestamp  \n",
      "4007             1         0  POINT (11.28772 43.76817)  2019-02-13 06:48:53  \n",
      "20190214         ID        Date      Time   Latitude  Longitude  Speed  Heading  \\\n",
      "4400  5514  2019-02-14  06:40:08  43.768102  11.287653      0      334   \n",
      "\n",
      "      PanelSession  DeltaPos                  geometry            Timestamp  \n",
      "4400             1         0  POINT (11.28765 43.7681)  2019-02-14 06:40:08  \n",
      "20190215         ID        Date      Time  Latitude  Longitude  Speed  Heading  \\\n",
      "3328  3622  2019-02-15  15:22:32  43.63302  10.566466    126       74   \n",
      "\n",
      "      PanelSession  DeltaPos                   geometry            Timestamp  \n",
      "3328             1      1047  POINT (10.56647 43.63302)  2019-02-15 15:22:32  \n",
      "20190216         ID        Date      Time  Latitude  Longitude  Speed  Heading  \\\n",
      "4481  5689  2019-02-16  15:00:09  43.77496  11.231708     46      292   \n",
      "\n",
      "      PanelSession  DeltaPos                   geometry            Timestamp  \n",
      "4481             1      2064  POINT (11.23171 43.77496)  2019-02-16 15:00:09  \n",
      "20190217         ID        Date      Time   Latitude  Longitude  Speed  Heading  \\\n",
      "1243  2166  2019-02-17  10:16:20  43.770948  11.240626     16      132   \n",
      "\n",
      "      PanelSession  DeltaPos                   geometry            Timestamp  \n",
      "1243             1        83  POINT (11.24063 43.77095)  2019-02-17 10:16:20  \n"
     ]
    }
   ],
   "source": [
    "gdfs_FI_LASTRA_Timestamps = {}\n",
    "for date, gdf in gdfs_FI_LASTRA.items():\n",
    "    gdf['Timestamp'] = gdf['Date'] + ' ' + gdf['Time']\n",
    "    print(f\"{date} {gdf.head(1)}\")\n",
    "    gdfs_FI_LASTRA_Timestamps[date] = gdf"
   ]
  },
  {
   "cell_type": "code",
   "execution_count": null,
   "id": "734b0c5a-9036-40e9-98f8-79b96c0f1991",
   "metadata": {},
   "outputs": [],
   "source": []
  },
  {
   "cell_type": "code",
   "execution_count": 245,
   "id": "8d8193fe-4619-4906-86f5-2de60d42f4a4",
   "metadata": {
    "collapsed": true,
    "jupyter": {
     "outputs_hidden": true,
     "source_hidden": true
    }
   },
   "outputs": [
    {
     "data": {
      "text/plain": [
       "<Figure size 1500x1500 with 0 Axes>"
      ]
     },
     "metadata": {},
     "output_type": "display_data"
    },
    {
     "data": {
      "image/png": "[encoded data removed]",
      "text/plain": [
       "<Figure size 640x480 with 1 Axes>"
      ]
     },
     "metadata": {},
     "output_type": "display_data"
    }
   ],
   "source": [
    "import matplotlib.pyplot as plt\n",
    "\n",
    "\n",
    "plt.figure(figsize=(15, 15))  # Set width and height in inches\n",
    "gdf3_FIPILI.head(2000).plot()\n",
    "\n",
    "\n",
    "plt.title(\"GeoDataFrame Visualization\", fontsize=20)\n",
    "plt.xlabel(\"Longitude\", fontsize=14)\n",
    "plt.ylabel(\"Latitude\", fontsize=14)\n",
    "\n",
    "\n",
    "plt.show()\n"
   ]
  },
  {
   "cell_type": "code",
   "execution_count": 79,
   "id": "c847e751-420c-4d8d-a296-59c5d7be9e7f",
   "metadata": {},
   "outputs": [
    {
     "name": "stdout",
     "output_type": "stream",
     "text": [
      "Saving gdf 20190211 with head:         ID        Date      Time  Latitude  Longitude  Speed  Heading  \\\n",
      "1991  2564  2019-02-11  08:38:33  43.80533  11.115726     22      112   \n",
      "\n",
      "      PanelSession  DeltaPos                   geometry            Timestamp  \n",
      "1991             1      2021  POINT (11.11573 43.80533)  2019-02-11 08:38:33  \n",
      "GeoJSON file 20190211 saved successfully at /home/avitali/Filtered_FI_LASTRA_20190211.geojson\n",
      "\n",
      "Saving gdf 20190212 with head:       ID        Date      Time   Latitude  Longitude  Speed  Heading  \\\n",
      "618  996  2019-02-12  08:01:30  44.010111  11.238962     58      140   \n",
      "\n",
      "     PanelSession  DeltaPos                   geometry            Timestamp  \n",
      "618             1      2017  POINT (11.23896 44.01011)  2019-02-12 08:01:30  \n",
      "GeoJSON file 20190212 saved successfully at /home/avitali/Filtered_FI_LASTRA_20190212.geojson\n",
      "\n",
      "Saving gdf 20190213 with head:         ID        Date      Time  Latitude  Longitude  Speed  Heading  \\\n",
      "4007  5514  2019-02-13  06:48:53  43.76817  11.287719      0        0   \n",
      "\n",
      "      PanelSession  DeltaPos                   geometry            Timestamp  \n",
      "4007             1         0  POINT (11.28772 43.76817)  2019-02-13 06:48:53  \n",
      "GeoJSON file 20190213 saved successfully at /home/avitali/Filtered_FI_LASTRA_20190213.geojson\n",
      "\n",
      "Saving gdf 20190214 with head:         ID        Date      Time   Latitude  Longitude  Speed  Heading  \\\n",
      "4400  5514  2019-02-14  06:40:08  43.768102  11.287653      0      334   \n",
      "\n",
      "      PanelSession  DeltaPos                  geometry            Timestamp  \n",
      "4400             1         0  POINT (11.28765 43.7681)  2019-02-14 06:40:08  \n",
      "GeoJSON file 20190214 saved successfully at /home/avitali/Filtered_FI_LASTRA_20190214.geojson\n",
      "\n",
      "Saving gdf 20190215 with head:         ID        Date      Time  Latitude  Longitude  Speed  Heading  \\\n",
      "3328  3622  2019-02-15  15:22:32  43.63302  10.566466    126       74   \n",
      "\n",
      "      PanelSession  DeltaPos                   geometry            Timestamp  \n",
      "3328             1      1047  POINT (10.56647 43.63302)  2019-02-15 15:22:32  \n",
      "GeoJSON file 20190215 saved successfully at /home/avitali/Filtered_FI_LASTRA_20190215.geojson\n",
      "\n",
      "Saving gdf 20190216 with head:         ID        Date      Time  Latitude  Longitude  Speed  Heading  \\\n",
      "4481  5689  2019-02-16  15:00:09  43.77496  11.231708     46      292   \n",
      "\n",
      "      PanelSession  DeltaPos                   geometry            Timestamp  \n",
      "4481             1      2064  POINT (11.23171 43.77496)  2019-02-16 15:00:09  \n",
      "GeoJSON file 20190216 saved successfully at /home/avitali/Filtered_FI_LASTRA_20190216.geojson\n",
      "\n",
      "Saving gdf 20190217 with head:         ID        Date      Time   Latitude  Longitude  Speed  Heading  \\\n",
      "1243  2166  2019-02-17  10:16:20  43.770948  11.240626     16      132   \n",
      "\n",
      "      PanelSession  DeltaPos                   geometry            Timestamp  \n",
      "1243             1        83  POINT (11.24063 43.77095)  2019-02-17 10:16:20  \n",
      "GeoJSON file 20190217 saved successfully at /home/avitali/Filtered_FI_LASTRA_20190217.geojson\n",
      "\n"
     ]
    }
   ],
   "source": [
    "# salviamo prima i gdfs singoli\n",
    "import paramiko\n",
    "import geopandas as gpd\n",
    "import pandas as pd\n",
    "import io\n",
    "# Configurazione\n",
    "hostname = \"kddrtserver10.isti.cnr.it\"\n",
    "username = \"avitali\"\n",
    "\n",
    "try:\n",
    "    #apro connessione ssh\n",
    "    ssh = paramiko.SSHClient()\n",
    "    ssh.set_missing_host_key_policy(paramiko.AutoAddPolicy())\n",
    "    ssh.connect(hostname, username=username)\n",
    "\n",
    "    sftp = ssh.open_sftp()\n",
    "\n",
    "    \n",
    "    for date, gdf in gdfs_FI_LASTRA_Timestamps.items():\n",
    "        print(f\"Saving gdf {date} with head: {gdf.head(1)}\")\n",
    "        with sftp.open(f\"/home/avitali/Filtered_FI_LASTRA_{date}.geojson\", \"w\") as file:\n",
    "            file.write(gdf.to_json())\n",
    "\n",
    "        print(f\"GeoJSON file {date} saved successfully at /home/avitali/Filtered_FI_LASTRA_{date}.geojson\")\n",
    "        print(\"\")\n",
    "\n",
    "\n",
    "except Exception as e:\n",
    "    print(f\"An error occurred: {e}\")\n",
    "\n",
    "finally:\n",
    "    #chiudo sdfp e ssh\n",
    "    try:\n",
    "        sftp.close()\n",
    "        ssh.close()\n",
    "    except Exception as cleanup_error:\n",
    "        print(f\"Error during cleanup: {cleanup_error}\")"
   ]
  },
  {
   "cell_type": "code",
   "execution_count": 80,
   "id": "49f937bf-9722-43de-96a9-d6d8da48fb3f",
   "metadata": {},
   "outputs": [
    {
     "name": "stdout",
     "output_type": "stream",
     "text": [
      "Connecting to SSH server...\n",
      "Connection to SSH server established\n",
      "Opening sftp connection...\n",
      "sftp connection opened\n",
      "Concatenating gdfs...\n",
      "Gdfs concatenated and has 319639 rows\n",
      "Saving file...\n",
      "Merged GeoJSON file saved successfully at /home/avitali/Firenze_Lastra_filtered_2_Settimana_Febbraio.geojson\n",
      "File size: 104009189 bytes\n"
     ]
    }
   ],
   "source": [
    "## salvataggio del gdf concatenato della settimana\n",
    "\n",
    "import paramiko\n",
    "import geopandas as gpd\n",
    "import pandas as pd\n",
    "import io\n",
    "# Configurazione\n",
    "hostname = \"kddrtserver10.isti.cnr.it\"\n",
    "username = \"avitali\"\n",
    "merged_output_path = \"/home/avitali/Firenze_Lastra_filtered_2_Settimana_Febbraio.geojson\"\n",
    "\n",
    "try:\n",
    "    #apro connessione ssh\n",
    "    print(\"Connecting to SSH server...\")\n",
    "    ssh = paramiko.SSHClient()\n",
    "    ssh.set_missing_host_key_policy(paramiko.AutoAddPolicy())\n",
    "    ssh.connect(hostname, username=username)\n",
    "    print(\"Connection to SSH server established\")\n",
    "\n",
    "    print(\"Opening sftp connection...\")\n",
    "    sftp = ssh.open_sftp()\n",
    "    print(\"sftp connection opened\")\n",
    "\n",
    "    print(\"Concatenating gdfs...\")\n",
    "    merged_gdf = gpd.GeoDataFrame(pd.concat(gdfs_FI_LASTRA_Timestamps.values(), ignore_index=True))\n",
    "    print(f\"Gdfs concatenated and has {len(merged_gdf)} rows\")\n",
    "\n",
    "    print(\"Saving file...\")\n",
    "    with sftp.open(merged_output_path, \"w\") as merged_file:\n",
    "        merged_file.write(merged_gdf.to_json())\n",
    "        \n",
    "    # Verifica della dimensione del file\n",
    "    attrs = sftp.stat(merged_output_path)\n",
    "    print(f\"Merged GeoJSON file saved successfully at {merged_output_path}\")\n",
    "    print(f\"File size: {attrs.st_size} bytes\")\n",
    "\n",
    "\n",
    "except Exception as e:\n",
    "    print(f\"An error occurred: {e}\")\n",
    "\n",
    "finally:\n",
    "    #chiudo sdfp e ssh\n",
    "    try:\n",
    "        sftp.close()\n",
    "        ssh.close()\n",
    "    except Exception as cleanup_error:\n",
    "        print(f\"Error during cleanup: {cleanup_error}\")"
   ]
  },
  {
   "cell_type": "code",
   "execution_count": null,
   "id": "8e950d84-c2cf-4cf8-a13c-0d31fd8305d3",
   "metadata": {},
   "outputs": [],
   "source": []
  },
  {
   "cell_type": "markdown",
   "id": "6844bff8-2877-4b40-9c16-220180c902e6",
   "metadata": {},
   "source": [
    "## Filtriamo i punti dentro l'area della FIPILI LASTRA-GINESTRA"
   ]
  },
  {
   "cell_type": "code",
   "execution_count": 81,
   "id": "6e3ec5b5-28dc-4f3e-a40b-d8e41b040b5b",
   "metadata": {},
   "outputs": [],
   "source": [
    "fipili_area_Lastra_Ginestra = gpd.read_file(\"internship/ArealeRistretto_FIPILI/Buffer10m/LASTRA_GINESTRA.shp\")"
   ]
  },
  {
   "cell_type": "code",
   "execution_count": 82,
   "id": "43f81708-53e5-4af0-9f61-889aed1533bf",
   "metadata": {},
   "outputs": [
    {
     "data": {
      "text/html": [
       "<div>\n",
       "<style scoped>\n",
       "    .dataframe tbody tr th:only-of-type {\n",
       "        vertical-align: middle;\n",
       "    }\n",
       "\n",
       "    .dataframe tbody tr th {\n",
       "        vertical-align: top;\n",
       "    }\n",
       "\n",
       "    .dataframe thead th {\n",
       "        text-align: right;\n",
       "    }\n",
       "</style>\n",
       "<table border=\"1\" class=\"dataframe\">\n",
       "  <thead>\n",
       "    <tr style=\"text-align: right;\">\n",
       "      <th></th>\n",
       "      <th>pk_uid</th>\n",
       "      <th>cod_ele</th>\n",
       "      <th>tip_ele</th>\n",
       "      <th>tipo_ele</th>\n",
       "      <th>cls_tcn</th>\n",
       "      <th>clstecfun</th>\n",
       "      <th>tip_gst</th>\n",
       "      <th>tip_gest</th>\n",
       "      <th>cod_gst</th>\n",
       "      <th>sot_pas</th>\n",
       "      <th>...</th>\n",
       "      <th>l_struct</th>\n",
       "      <th>lstruttura</th>\n",
       "      <th>r_struct</th>\n",
       "      <th>rstruttura</th>\n",
       "      <th>primaria</th>\n",
       "      <th>data_agg</th>\n",
       "      <th>data_elab</th>\n",
       "      <th>tipostrada</th>\n",
       "      <th>cent</th>\n",
       "      <th>geometry</th>\n",
       "    </tr>\n",
       "  </thead>\n",
       "  <tbody>\n",
       "    <tr>\n",
       "      <th>0</th>\n",
       "      <td>381784</td>\n",
       "      <td>RT04802417954ES</td>\n",
       "      <td>0100</td>\n",
       "      <td>di tronco carreggiata</td>\n",
       "      <td>0100</td>\n",
       "      <td>autostrada</td>\n",
       "      <td>0300</td>\n",
       "      <td>Provincia</td>\n",
       "      <td>048</td>\n",
       "      <td>0700</td>\n",
       "      <td>...</td>\n",
       "      <td>-1</td>\n",
       "      <td>-</td>\n",
       "      <td>-1</td>\n",
       "      <td>-</td>\n",
       "      <td>1</td>\n",
       "      <td>20190904</td>\n",
       "      <td>20191024</td>\n",
       "      <td>SR</td>\n",
       "      <td>None</td>\n",
       "      <td>POLYGON ((1665863.471 4842009.465, 1665863.849...</td>\n",
       "    </tr>\n",
       "  </tbody>\n",
       "</table>\n",
       "<p>1 rows × 87 columns</p>\n",
       "</div>"
      ],
      "text/plain": [
       "   pk_uid          cod_ele tip_ele               tipo_ele cls_tcn   clstecfun  \\\n",
       "0  381784  RT04802417954ES    0100  di tronco carreggiata    0100  autostrada   \n",
       "\n",
       "  tip_gst   tip_gest cod_gst sot_pas  ... l_struct lstruttura r_struct  \\\n",
       "0    0300  Provincia     048    0700  ...       -1          -       -1   \n",
       "\n",
       "  rstruttura primaria  data_agg data_elab tipostrada  cent  \\\n",
       "0          -        1  20190904  20191024         SR  None   \n",
       "\n",
       "                                            geometry  \n",
       "0  POLYGON ((1665863.471 4842009.465, 1665863.849...  \n",
       "\n",
       "[1 rows x 87 columns]"
      ]
     },
     "execution_count": 82,
     "metadata": {},
     "output_type": "execute_result"
    }
   ],
   "source": [
    "fipili_area_Lastra_Ginestra.head(1)"
   ]
  },
  {
   "cell_type": "code",
   "execution_count": 83,
   "id": "b72d72e8-0db8-4afd-8f1b-90118107242d",
   "metadata": {
    "scrolled": true
   },
   "outputs": [
    {
     "data": {
      "text/html": [
       "<div style=\"width:100%;\"><div style=\"position:relative;width:100%;height:0;padding-bottom:60%;\"><span style=\"color:#565656\">Make this Notebook Trusted to load map: File -> Trust Notebook</span><iframe srcdoc=\"&lt;!DOCTYPE html&gt;\n",
       "&lt;html&gt;\n",
       "&lt;head&gt;\n",
       "    \n",
       "    &lt;meta http-equiv=&quot;content-type&quot; content=&quot;text/html; charset=UTF-8&quot; /&gt;\n",
       "    \n",
       "        &lt;script&gt;\n",
       "            L_NO_TOUCH = false;\n",
       "            L_DISABLE_3D = false;\n",
       "        &lt;/script&gt;\n",
       "    \n",
       "    &lt;style&gt;html, body {width: 100%;height: 100%;margin: 0;padding: 0;}&lt;/style&gt;\n",
       "    &lt;style&gt;#map {position:absolute;top:0;bottom:0;right:0;left:0;}&lt;/style&gt;\n",
       "    &lt;script src=&quot;https://cdn.jsdelivr.net/npm/leaflet@1.6.0/dist/leaflet.js&quot;&gt;&lt;/script&gt;\n",
       "    &lt;script src=&quot;https://code.jquery.com/jquery-1.12.4.min.js&quot;&gt;&lt;/script&gt;\n",
       "    &lt;script src=&quot;https://maxcdn.bootstrapcdn.com/bootstrap/3.2.0/js/bootstrap.min.js&quot;&gt;&lt;/script&gt;\n",
       "    &lt;script src=&quot;https://cdnjs.cloudflare.com/ajax/libs/Leaflet.awesome-markers/2.0.2/leaflet.awesome-markers.js&quot;&gt;&lt;/script&gt;\n",
       "    &lt;link rel=&quot;stylesheet&quot; href=&quot;https://cdn.jsdelivr.net/npm/leaflet@1.6.0/dist/leaflet.css&quot;/&gt;\n",
       "    &lt;link rel=&quot;stylesheet&quot; href=&quot;https://maxcdn.bootstrapcdn.com/bootstrap/3.2.0/css/bootstrap.min.css&quot;/&gt;\n",
       "    &lt;link rel=&quot;stylesheet&quot; href=&quot;https://maxcdn.bootstrapcdn.com/bootstrap/3.2.0/css/bootstrap-theme.min.css&quot;/&gt;\n",
       "    &lt;link rel=&quot;stylesheet&quot; href=&quot;https://maxcdn.bootstrapcdn.com/font-awesome/4.6.3/css/font-awesome.min.css&quot;/&gt;\n",
       "    &lt;link rel=&quot;stylesheet&quot; href=&quot;https://cdnjs.cloudflare.com/ajax/libs/Leaflet.awesome-markers/2.0.2/leaflet.awesome-markers.css&quot;/&gt;\n",
       "    &lt;link rel=&quot;stylesheet&quot; href=&quot;https://cdn.jsdelivr.net/gh/python-visualization/folium/folium/templates/leaflet.awesome.rotate.min.css&quot;/&gt;\n",
       "    \n",
       "            &lt;meta name=&quot;viewport&quot; content=&quot;width=device-width,\n",
       "                initial-scale=1.0, maximum-scale=1.0, user-scalable=no&quot; /&gt;\n",
       "            &lt;style&gt;\n",
       "                #map_fadf9ea37584159489eb9228417b1f04 {\n",
       "                    position: relative;\n",
       "                    width: 100.0%;\n",
       "                    height: 100.0%;\n",
       "                    left: 0.0%;\n",
       "                    top: 0.0%;\n",
       "                }\n",
       "            &lt;/style&gt;\n",
       "        \n",
       "    \n",
       "                    &lt;style&gt;\n",
       "                        .foliumtooltip {\n",
       "                            \n",
       "                        }\n",
       "                       .foliumtooltip table{\n",
       "                            margin: auto;\n",
       "                        }\n",
       "                        .foliumtooltip tr{\n",
       "                            text-align: left;\n",
       "                        }\n",
       "                        .foliumtooltip th{\n",
       "                            padding: 2px; padding-right: 8px;\n",
       "                        }\n",
       "                    &lt;/style&gt;\n",
       "            \n",
       "&lt;/head&gt;\n",
       "&lt;body&gt;\n",
       "    \n",
       "    \n",
       "            &lt;div class=&quot;folium-map&quot; id=&quot;map_fadf9ea37584159489eb9228417b1f04&quot; &gt;&lt;/div&gt;\n",
       "        \n",
       "&lt;/body&gt;\n",
       "&lt;script&gt;\n",
       "    \n",
       "    \n",
       "            var map_fadf9ea37584159489eb9228417b1f04 = L.map(\n",
       "                &quot;map_fadf9ea37584159489eb9228417b1f04&quot;,\n",
       "                {\n",
       "                    center: [43.7696, 11.2558],\n",
       "                    crs: L.CRS.EPSG3857,\n",
       "                    zoom: 8,\n",
       "                    zoomControl: true,\n",
       "                    preferCanvas: false,\n",
       "                }\n",
       "            );\n",
       "\n",
       "            \n",
       "\n",
       "        \n",
       "    \n",
       "            var tile_layer_97ee382224133171d77307cadb5c9c05 = L.tileLayer(\n",
       "                &quot;https://cartodb-basemaps-{s}.global.ssl.fastly.net/light_all/{z}/{x}/{y}.png&quot;,\n",
       "                {&quot;attribution&quot;: &quot;\\u0026copy; \\u003ca href=\\&quot;http://www.openstreetmap.org/copyright\\&quot;\\u003eOpenStreetMap\\u003c/a\\u003e contributors \\u0026copy; \\u003ca href=\\&quot;http://cartodb.com/attributions\\&quot;\\u003eCartoDB\\u003c/a\\u003e, CartoDB \\u003ca href =\\&quot;http://cartodb.com/attributions\\&quot;\\u003eattributions\\u003c/a\\u003e&quot;, &quot;detectRetina&quot;: false, &quot;maxNativeZoom&quot;: 18, &quot;maxZoom&quot;: 18, &quot;minZoom&quot;: 0, &quot;noWrap&quot;: false, &quot;opacity&quot;: 1, &quot;subdomains&quot;: &quot;abc&quot;, &quot;tms&quot;: false}\n",
       "            ).addTo(map_fadf9ea37584159489eb9228417b1f04);\n",
       "        \n",
       "    \n",
       "\n",
       "        function geo_json_937b4f095244530bc61645b6a47dee8d_onEachFeature(feature, layer) {\n",
       "            layer.on({\n",
       "            });\n",
       "        };\n",
       "        var geo_json_937b4f095244530bc61645b6a47dee8d = L.geoJson(null, {\n",
       "                onEachFeature: geo_json_937b4f095244530bc61645b6a47dee8d_onEachFeature,\n",
       "            \n",
       "        });\n",
       "\n",
       "        function geo_json_937b4f095244530bc61645b6a47dee8d_add (data) {\n",
       "            geo_json_937b4f095244530bc61645b6a47dee8d\n",
       "                .addData(data)\n",
       "                .addTo(map_fadf9ea37584159489eb9228417b1f04);\n",
       "        }\n",
       "            geo_json_937b4f095244530bc61645b6a47dee8d_add({&quot;bbox&quot;: [11.058012642888396, 43.71164630239899, 11.127996543248383, 43.76937341514858], &quot;features&quot;: [{&quot;bbox&quot;: [11.058012642888396, 43.71164630239899, 11.127996543248383, 43.76937341514858], &quot;geometry&quot;: {&quot;coordinates&quot;: [[[11.058479222317105, 43.712437182028516], [11.058483921249923, 43.712437689175395], [11.059359349888076, 43.71251977734183], [11.059375702728863, 43.71252051947497], [11.060040976271708, 43.71251878704999], [11.060068499993823, 43.712518714122346], [11.060095160382653, 43.71251863945032], [11.060409079729315, 43.7125177577227], [11.060506480170528, 43.71251902427695], [11.060625525899514, 43.71252057111698], [11.060629537842624, 43.71252057619233], [11.060745614202842, 43.712519361701375], [11.061036665343416, 43.71251631850882], [11.061037967795356, 43.71251629992825], [11.061400713637138, 43.71250974260621], [11.061408602827198, 43.7125094174234], [11.062135889616616, 43.71246254653392], [11.062141629778575, 43.71246207867813], [11.062627895622459, 43.7124141068123], [11.06263453331676, 43.712413318519275], [11.06302648265613, 43.71235881973831], [11.063041617149839, 43.71235598830896], [11.063103752761304, 43.71234128008764], [11.063383981006295, 43.71229824804426], [11.063384603100713, 43.71229815130485], [11.064179898379127, 43.71217292732909], [11.064942200394826, 43.712054724734784], [11.064948979435314, 43.71205352806079], [11.065118416023916, 43.71201993147625], [11.065122249402103, 43.7120191230848], [11.06521300545343, 43.71199883017559], [11.065508915203042, 43.71196325536733], [11.06588298220568, 43.7119406132352], [11.066257760600907, 43.711924285871625], [11.066812594728015, 43.711937143213085], [11.067279562542906, 43.71198159496426], [11.06773646646341, 43.71205867432752], [11.068128828007168, 43.71214353621602], [11.068401537240385, 43.71221691530808], [11.068496479608262, 43.71224894254825], [11.068497829069537, 43.712249390665605], [11.068745373108486, 43.71233029719094], [11.06874879267635, 43.712331370322524], [11.068828265830824, 43.7123552896599], [11.068954912215037, 43.71240147799068], [11.069114748165651, 43.71247173006789], [11.069380766564242, 43.712605254997904], [11.069701732397995, 43.71278192832379], [11.07010562536157, 43.71303891917861], [11.070406656785764, 43.713274070881155], [11.070811439283615, 43.713662655061555], [11.07081163405331, 43.713662841531175], [11.071116582726827, 43.71395400609324], [11.07117818052788, 43.714014044784115], [11.071181293332632, 43.71401695267931], [11.071248752708104, 43.714077378420434], [11.071314702919006, 43.714141339359976], [11.071385116751847, 43.7142142937826], [11.071456395941434, 43.71428831941032], [11.071456493887496, 43.714288420981106], [11.071527657151087, 43.71436210960419], [11.07159882292814, 43.71443588769575], [11.07159910033811, 43.7144361741011], [11.071670522740833, 43.71450960837646], [11.071670681061802, 43.71450977077562], [11.071742347387266, 43.71458311100916], [11.07181416207525, 43.7146565590821], [11.071885956769194, 43.71472998646939], [11.071957904669803, 43.71480344185658], [11.07202967010442, 43.714876838857776], [11.072029837622983, 43.71487700976229], [11.072119923899344, 43.71496869039182], [11.072191635723616, 43.71504203204462], [11.0722634877237, 43.71511547530721], [11.072334770681206, 43.71518872198241], [11.07240565744289, 43.71526233859732], [11.072476869256809, 43.71533624764912], [11.0725480468098, 43.71541003542413], [11.072619065632587, 43.71548387474413], [11.072619143894867, 43.71548395601902], [11.072690195903952, 43.71555765648779], [11.072761338074404, 43.715631493123375], [11.072832220049115, 43.71570523447755], [11.072903144864629, 43.715779106452196], [11.072974089117201, 43.71585299843956], [11.073045032569027, 43.71592689069278], [11.073115977777611, 43.716000783212046], [11.073186903293005, 43.71607465551719], [11.073257832145417, 43.71614861734479], [11.073257910307191, 43.71614869875295], [11.073328764153688, 43.716222408695955], [11.073399317386412, 43.71629619662687], [11.073469316738159, 43.71637023489277], [11.07353937698845, 43.716444471405566], [11.07360963875527, 43.71651878816212], [11.07367971562984, 43.71659295506198], [11.07374995078095, 43.71666724233746], [11.073750419033617, 43.71666773409616], [11.07382111101112, 43.716741450066564], [11.073891976380256, 43.71681521536545], [11.073962655533515, 43.716888831216174], [11.074033640077332, 43.71696267483994], [11.074033975902319, 43.716963022440616], [11.07410528018473, 43.717036457847115], [11.074106019633268, 43.71703721114508], [11.074178424638934, 43.71711017591079], [11.07425097524978, 43.71718324696268], [11.074323192136916, 43.71725594128456], [11.074394083323702, 43.7173292524239], [11.074464900907389, 43.71740292094284], [11.074535950616895, 43.71747695971655], [11.074606916658134, 43.71755087039799], [11.074677862828116, 43.717624672009336], [11.074748775723366, 43.71769861232089], [11.07481976355336, 43.71777254421441], [11.074890791011722, 43.717846471877685], [11.074961324744462, 43.71792019237206], [11.07503168608804, 43.71799416957454], [11.07510228374678, 43.71806834817573], [11.07517273274747, 43.71814241707508], [11.075243173995915, 43.718216477310946], [11.075313617620486, 43.718290626337954], [11.075384116752629, 43.71836474698982], [11.075454576724814, 43.718438826494754], [11.075525007638362, 43.71851287521598], [11.075595315332889, 43.718586926106475], [11.075595530932523, 43.71858715244305], [11.075666236807654, 43.718661137357834], [11.075666314438235, 43.71866121849335], [11.07573701428832, 43.718735023776134], [11.075737112975286, 43.71873512664478], [11.075807934052738, 43.71880883900779], [11.075808191003405, 43.71880910542101], [11.075879358623869, 43.71888261075346], [11.075950508975163, 43.71895618561997], [11.076021425648811, 43.71902960543231], [11.076022042319954, 43.71903023805744], [11.076094089644254, 43.71910347844474], [11.076094368854509, 43.71910376112158], [11.076166337296312, 43.719176326496594], [11.076236921725362, 43.71924991597716], [11.076307431793667, 43.71932373978106], [11.07630792523382, 43.7193242525955], [11.076378853254088, 43.719397422463615], [11.076379608238817, 43.71939819268419], [11.076450350103567, 43.71946956562714], [11.076453936719556, 43.71947300711387], [11.07652942707394, 43.71954194393078], [11.076605943766682, 43.719611852854484], [11.076607867305736, 43.71961356664739], [11.07668631993477, 43.71968173788204], [11.07668691187989, 43.7196822483933], [11.076766527157664, 43.71975039664744], [11.076845018428006, 43.71981829414589], [11.076847185316318, 43.71982011844116], [11.0769278000122, 43.71988617958111], [11.076929116853282, 43.71988724158904], [11.077011955438337, 43.71995299242917], [11.077014412372089, 43.71995488684521], [11.077098904240263, 43.720018176448015], [11.0771000655429, 43.72001903478476], [11.077186790622278, 43.72008228372894], [11.077187914336225, 43.720083092866176], [11.077275219316675, 43.720145160151546], [11.07727662893131, 43.7201461465805], [11.077366028177824, 43.720207726209146], [11.077366158025749, 43.72020781552127], [11.077454787468605, 43.720268688639486], [11.077457264721035, 43.72027034440911], [11.077548701650063, 43.72032981566761], [11.077550767104029, 43.72033112942903], [11.077642746646598, 43.720388340418914], [11.07764435664683, 43.72038932476331], [11.077737282421362, 43.72044516772637], [11.077739389972074, 43.72044640631609], [11.077834002453095, 43.72050077766234], [11.077835645270206, 43.720501705580894], [11.0779334844465, 43.72055601817192], [11.077934459431917, 43.720556553900266], [11.078033777405162, 43.720610569694394], [11.078034572818595, 43.72061099870424], [11.078133227247951, 43.72066376585491], [11.078138471165945, 43.72066642211537], [11.07823983663695, 43.72071499805955], [11.078240780334323, 43.720715445839474], [11.078342995100408, 43.720763466606456], [11.0783441786812, 43.72076401578153], [11.078448496990884, 43.7208118173992], [11.07845054931883, 43.720812737708656], [11.078555940891652, 43.72085897649003], [11.078660609502792, 43.720906116796506], [11.078766020069605, 43.72095362137267], [11.078871348879362, 43.7210010584868], [11.07897663305065, 43.721048475503714], [11.079082044113644, 43.72109597977866], [11.079082424898184, 43.72109615069185], [11.07918809020796, 43.721143386933065], [11.079188502235324, 43.72114357032176], [11.079294263818902, 43.72119043809894], [11.079400123451746, 43.72123738034139], [11.079505875522614, 43.72128433167642], [11.079506022142962, 43.72128439667097], [11.079611879323144, 43.721331248481235], [11.079717739036877, 43.721378190237346], [11.079823615940926, 43.72142513909258], [11.079929368467939, 43.72147208993385], [11.079929482622788, 43.721472140553644], [11.080035483434331, 43.72151908758183], [11.080141110470779, 43.721565925117424], [11.080246612155246, 43.72161320570486], [11.080352562093836, 43.721660779418805], [11.080459816473587, 43.72170931239898], [11.080565740032224, 43.7217609340781], [11.080666964562711, 43.72181577279808], [11.080767148228356, 43.721870420497076], [11.080865733317294, 43.72192446902162], [11.080865974809303, 43.72192460108249], [11.080956699996216, 43.72197408878901], [11.080962729552482, 43.721977178441925], [11.08105602435918, 43.7220220279487], [11.081060150494956, 43.72202392776173], [11.081159240297968, 43.72206759072143], [11.081160228750777, 43.722068021724915], [11.08125953826492, 43.72211087003844], [11.081266887594426, 43.72211380179707], [11.081360944549887, 43.722148373045755], [11.081365527511615, 43.72214997280041], [11.081475740894309, 43.722186446378046], [11.081590579517465, 43.72222611712506], [11.081707430689159, 43.72226900717062], [11.08181609170706, 43.72231329576466], [11.08192356957305, 43.72236035787058], [11.082029444133562, 43.72240677818133], [11.08213445296028, 43.722453532384094], [11.082288258294804, 43.722528139956495], [11.082294519357273, 43.72253098515196], [11.08244812321936, 43.7225962512808], [11.082551720821781, 43.72264339569886], [11.082656774540855, 43.72269117362034], [11.08276180362935, 43.722739027872365], [11.08276194895548, 43.72273909398542], [11.082867098655623, 43.72278685612638], [11.08297222226542, 43.722834695185526], [11.083077266629472, 43.72288255587046], [11.083182801029734, 43.72293055207625], [11.08318402173977, 43.72293110013532], [11.083290561996874, 43.72297831715342], [11.083290871873796, 43.72297845403512], [11.083355656913838, 43.72300697737152], [11.083397184176281, 43.72302527266821], [11.083503028082017, 43.723072024107275], [11.083609097192749, 43.72311881752809], [11.083660393335487, 43.72314146353137], [11.083715174833682, 43.72316561471076], [11.083821353717624, 43.72321239913261], [11.083927410890741, 43.72325909858039], [11.08403359088163, 43.72330579409276], [11.084139587838951, 43.723352466674115], [11.084245656151154, 43.72339908180972], [11.084351402915164, 43.72344564299428], [11.08445682776014, 43.7234925292955], [11.084562103575264, 43.72353960995023], [11.084667637764035, 43.723586836838564], [11.084773188074113, 43.72363407022602], [11.084878875436997, 43.72368130747807], [11.084982766088828, 43.72372782813832], [11.085081256191128, 43.72377525541829], [11.085176710348135, 43.723827683070006], [11.08527393396998, 43.7238832484259], [11.085275546374504, 43.72388415447011], [11.085374780993813, 43.723938975906144], [11.08538373397561, 43.72394348548967], [11.085488692074579, 43.72399153932357], [11.08549086329534, 43.72399251089966], [11.085596917373298, 43.72403888311814], [11.085702977200949, 43.72408543527108], [11.085707420720329, 43.72408729572555], [11.085816191146582, 43.72413068779958], [11.085819242361975, 43.72413186519293], [11.08592992591319, 43.72417315160808], [11.086040526186892, 43.72421436647756], [11.086040930118342, 43.72421451632491], [11.086150583095616, 43.724255011232415], [11.086254951906739, 43.72429598918215], [11.086357012261608, 43.72434219966241], [11.086462219366924, 43.724389804948196], [11.086567525143131, 43.72443748452944], [11.086672815892943, 43.7244851574882], [11.086777983756201, 43.72453283275801], [11.086778129447978, 43.72453289870205], [11.086883358922138, 43.72458045499018], [11.086988594886764, 43.72462819065377], [11.086988770544828, 43.724628270185384], [11.087094088802965, 43.724675865890816], [11.087094262119292, 43.72467594407285], [11.087199952361667, 43.72472353288589], [11.087200216545716, 43.72472365150696], [11.087305897588411, 43.72477097057001], [11.08741212339024, 43.7248184790054], [11.087517665857334, 43.72486570488477], [11.08762462227451, 43.72491354731808], [11.087730342875412, 43.72496079469892], [11.087838547055664, 43.72500914850131], [11.087842661300757, 43.72501090874604], [11.087955750320845, 43.72505718871472], [11.088068673906394, 43.72510341225518], [11.088070133936638, 43.725104000535836], [11.088173231076524, 43.725144884777016], [11.088274338286134, 43.72518727431039], [11.088278931669706, 43.72518910733512], [11.088369404811154, 43.72522342616796], [11.088470649437927, 43.72526784951611], [11.088472003630018, 43.72526843520787], [11.088564373109536, 43.72530781051061], [11.08866315531753, 43.72535300404602], [11.088663614961453, 43.72535321331841], [11.088774492590435, 43.72540345019985], [11.088776294130177, 43.7254042510653], [11.088877765515955, 43.72544850219891], [11.088975429126075, 43.72550067575668], [11.088976551315541, 43.72550126825651], [11.08908074184583, 43.72555563535579], [11.089087150012658, 43.725558764354496], [11.089195779844095, 43.725608314555735], [11.089303112325087, 43.725657506930375], [11.089407711233948, 43.725705536881925], [11.089509030052643, 43.72575245452653], [11.089604548770806, 43.72580526593032], [11.089604670824771, 43.72580533332625], [11.08970386256856, 43.725860034864255], [11.089803185759607, 43.72591491467647], [11.08980527797815, 43.72591604569278], [11.089905828294267, 43.72596921798478], [11.089911835777473, 43.72597220305744], [11.090016454159139, 43.726020979347275], [11.090017177915527, 43.726021314224084], [11.090122022947494, 43.7260694559602], [11.090123042572841, 43.726069919135604], [11.090228734469846, 43.72611741497249], [11.0902368562248, 43.72612076468013], [11.090347311245283, 43.726162410909836], [11.090354529626154, 43.72616492150534], [11.090467087104265, 43.726200879179345], [11.090575200714097, 43.726238881293575], [11.090681429524189, 43.7262798580095], [11.090786005803594, 43.72632303782888], [11.090889898734572, 43.7263693761022], [11.090995579230889, 43.726416511491415], [11.091101412269296, 43.72646365742813], [11.09120702004853, 43.72651075949532], [11.091312659580698, 43.72655796472112], [11.091312805930691, 43.72655803001643], [11.091418538342001, 43.72660513023641], [11.091524149896745, 43.726652322070784], [11.091524264308516, 43.726652373132914], [11.091630183389324, 43.7266995875767], [11.091735834605458, 43.72674670868518], [11.091842005241661, 43.72679409607596], [11.091845313297975, 43.726795521767016], [11.091968897667462, 43.72684692036643], [11.091976285630956, 43.72684975763264], [11.09208365570792, 43.726887691105546], [11.09217491397181, 43.72692968877504], [11.092179579753775, 43.726931733173494], [11.092274761538553, 43.72697139613672], [11.092376284477462, 43.727015411788734], [11.092380284424328, 43.72701707364476], [11.092494004719878, 43.72706230771977], [11.09257856372415, 43.72709760610849], [11.09257871291356, 43.72709766828637], [11.092683562907187, 43.727141296584435], [11.092778102897704, 43.72718358215123], [11.09278216495732, 43.727185322607504], [11.092885842404861, 43.727227838003195], [11.092981365673724, 43.72727883302622], [11.093088336021955, 43.72733608345216], [11.093088613410352, 43.72733623147923], [11.093192975708257, 43.72739176214936], [11.093202201071502, 43.72739622528116], [11.0933116386085, 43.72744418981993], [11.093312260268968, 43.727444460487476], [11.093418902832372, 43.72749058519263], [11.093527315278797, 43.727537402037136], [11.093633768876842, 43.727583500621975], [11.093741187237006, 43.72762997957463], [11.093847686286548, 43.72767609837753], [11.09395435107064, 43.72772226451056], [11.094060148814474, 43.727768310543134], [11.094165579340801, 43.727815126551874], [11.09427135731023, 43.72786215372761], [11.09437706802959, 43.7279091196492], [11.09437718325664, 43.72790917078048], [11.094483037773061, 43.727956085578164], [11.09458877069398, 43.72800309255383], [11.094694619633326, 43.72805006245508], [11.094800383111105, 43.72809708177664], [11.094906371933794, 43.72814414413859], [11.095011956745697, 43.72819097011201], [11.095116695721389, 43.728238467448115], [11.095221839096853, 43.72828629477931], [11.095327054738906, 43.72833415462491], [11.09543234081116, 43.72838195785232], [11.095537666078254, 43.72842980844724], [11.095637979111345, 43.728475381931325], [11.09573059988796, 43.72852699473471], [11.09582595819263, 43.72858401482986], [11.095826792047067, 43.72858450904619], [11.095924139795704, 43.72864169684392], [11.09593740844801, 43.728648498933524], [11.096042460855088, 43.728695190526004], [11.096043362361192, 43.7286955873978], [11.096147696573953, 43.72874107979637], [11.096251074893008, 43.72878748400296], [11.096255703552266, 43.72878946251887], [11.096363133842331, 43.72883313943611], [11.096368459127136, 43.72883518291395], [11.096479823274143, 43.728875438934644], [11.096589846497997, 43.728915292106834], [11.096693776149529, 43.72895568329736], [11.096792003090375, 43.72899925720525], [11.096888648308033, 43.72904937743292], [11.096891213521737, 43.729050672661096], [11.096995053395768, 43.729101707670786], [11.096996038326548, 43.729102186777865], [11.097098898206156, 43.729151706494626], [11.097200595681176, 43.72920104691732], [11.097298803574452, 43.729248775027386], [11.097394825977515, 43.729301117599725], [11.097489586972245, 43.729353907168694], [11.097585674259797, 43.729408166043896], [11.097677775640422, 43.72946353319639], [11.097773242330607, 43.729521002817634], [11.097868740849915, 43.729578492413424], [11.09796381504405, 43.7296356493286], [11.098053322184946, 43.72969088002706], [11.098145063467147, 43.72974995039827], [11.098237910025873, 43.729809738026326], [11.09833079006175, 43.72986945843663], [11.098423605116572, 43.729929225381404], [11.098516519295924, 43.72998896788563], [11.098609365738362, 43.730048666605775], [11.098609497235914, 43.73004875103595], [11.09870246491925, 43.73010835733004], [11.098795432786668, 43.730167963544204], [11.098888556529042, 43.73022758758578], [11.098981492131717, 43.730287173216986], [11.099074460937373, 43.730346779438996], [11.099167429540495, 43.7304063853332], [11.09926023276797, 43.730465885001195], [11.099352635192641, 43.730525553959694], [11.099444837768973, 43.73058551541245], [11.099537202562836, 43.73064558216017], [11.099629688669468, 43.7307056450837], [11.09972199167063, 43.73076575974127], [11.09972211853021, 43.73076584224762], [11.099814734674714, 43.730825994272266], [11.099907163080976, 43.73088601859345], [11.099999465677906, 43.73094613236078], [11.099999584790375, 43.73094620983433], [11.100092396798832, 43.73100649860397], [11.100184664220802, 43.73106658855754], [11.100277630321928, 43.73112724547947], [11.100278107482795, 43.73112755519717], [11.100370824520477, 43.731187424595895], [11.100464432469536, 43.73124790840318], [11.100465219158494, 43.731248412401925], [11.100559441245844, 43.731308263926735], [11.100563187250337, 43.73131055035025], [11.100660413369324, 43.731367556059524], [11.100757260022895, 43.73142429930041], [11.100853948826993, 43.73148102534594], [11.100942682258582, 43.7315330061927], [11.100951606179647, 43.73153823389439], [11.10104792749046, 43.73159470438727], [11.101049183245278, 43.73159543090598], [11.101147116980668, 43.731651342261834], [11.10124482251633, 43.731707093087685], [11.101342573536247, 43.731762781817096], [11.101440431043784, 43.73181845748042], [11.101538352719079, 43.73187418466516], [11.10163658115576, 43.731930029092766], [11.101637451792216, 43.73193051955092], [11.101736609034065, 43.73198586770634], [11.10173891320954, 43.73198712324031], [11.101839874822652, 43.73204081810553], [11.101940728694059, 43.73209443447679], [11.101941123138602, 43.732094643308805], [11.102041890166019, 43.732147772555024], [11.102142282429572, 43.732200819002635], [11.102242912382891, 43.7322539223833], [11.102343480498233, 43.73230699346401], [11.102343940634425, 43.732307235117254], [11.102444617103178, 43.7323598537656], [11.102444799792307, 43.73235994906572], [11.102545849056959, 43.73241256076489], [11.102647072556808, 43.73246519602827], [11.10274783786821, 43.7325176167223], [11.10284886816777, 43.73257021799355], [11.102849109171787, 43.73257034315571], [11.102950149699854, 43.73262268483608], [11.102950918459895, 43.73262307988656], [11.103052687888198, 43.73267495744722], [11.103154234857184, 43.73272667584733], [11.103255847278904, 43.732778450697], [11.10335721974764, 43.73283014484314], [11.103458633600066, 43.73288179490975], [11.10355880297132, 43.73293315864259], [11.103658183049937, 43.732985606472425], [11.103758248941283, 43.73303841564307], [11.10385849948121, 43.73309125409385], [11.103858719924862, 43.73309137001375], [11.103958836921477, 43.73314389485657], [11.104055624322786, 43.733195078341936], [11.104147100750918, 43.73324671802435], [11.104237166380598, 43.7333005320538], [11.104324308765886, 43.73335828148255], [11.104325250608719, 43.73335889926042], [11.10441749400483, 43.73341878455711], [11.104418594308102, 43.73341949042187], [11.104505792179488, 43.733474765795215], [11.104584662647103, 43.73353247618001], [11.104668663239053, 43.73359559428643], [11.104753752699475, 43.733659839639905], [11.104834275647121, 43.73372101268108], [11.104910122833264, 43.73378664568995], [11.104988030717333, 43.7338551934957], [11.105066118438181, 43.73392407344947], [11.105143615469737, 43.73399296411978], [11.105216077603295, 43.734057875907695], [11.105280582545074, 43.734125798822895], [11.105347159878493, 43.734198453132635], [11.1054120101301, 43.73427274971152], [11.105478140873117, 43.734348482103165], [11.105543695168878, 43.73442412976389], [11.105608976251489, 43.73449981193054], [11.105674077336468, 43.734575344584535], [11.105737367590166, 43.734649386839905], [11.10579409895447, 43.73472568632709], [11.105852916596751, 43.73480462433728], [11.105853662429231, 43.7348056105179], [11.10591403501801, 43.73488426858713], [11.105914745336253, 43.73488518149244], [11.105976325144006, 43.73496325828053], [11.10603770036814, 43.73504116118595], [11.106098380774256, 43.735119404157736], [11.106158771408412, 43.73519792144077], [11.106164345094516, 43.735204489750565], [11.10617067379188, 43.73521068798409], [11.106244576457218, 43.735276932321376], [11.106304145600102, 43.7353483488479], [11.10636638717983, 43.73542549495243], [11.106366521081537, 43.73542566051306], [11.10642959625968, 43.735503458476], [11.106429829200179, 43.73550374457823], [11.10649314033901, 43.735581177664265], [11.106493440763339, 43.7355815431277], [11.10655746359532, 43.73565900929359], [11.106621104531763, 43.735736211520155], [11.106621684350882, 43.73573690773011], [11.106686730327223, 43.735814219148764], [11.106687000079122, 43.73581453827174], [11.106750436067623, 43.735889235403775], [11.106806718514765, 43.7359677342109], [11.10680903209012, 43.735970812969555], [11.10687193649216, 43.73605077457503], [11.106878847431593, 43.73605859264136], [11.106952488479443, 43.736133134066016], [11.106952947564992, 43.736133595674104], [11.107026939348657, 43.736207500272975], [11.107028870305664, 43.73620937710514], [11.107105418024435, 43.73628179420735], [11.107106819781624, 43.73628309542577], [11.107185193925748, 43.73635448854307], [11.107187165812956, 43.736356239211844], [11.10727232689665, 43.73642993767633], [11.107274599959506, 43.736431849665315], [11.10735859154055, 43.73650052770661], [11.107360242518883, 43.736501851011845], [11.10744656371396, 43.73656967601847], [11.107449643091845, 43.73657201010571], [11.107539235597903, 43.73663752383861], [11.107540185370873, 43.73663821088476], [11.107629600937248, 43.736702196822556], [11.107630344304548, 43.73670272433719], [11.10772048490034, 43.73676615664322], [11.107724263464583, 43.73676870716413], [11.107816891320631, 43.736828672698564], [11.107818878069207, 43.73682993162309], [11.107914461382098, 43.73688921170112], [11.107915791829008, 43.73689002519292], [11.108012457791117, 43.73694829496562], [11.108013743194048, 43.736949059303264], [11.108111341723925, 43.73700630588952], [11.108208615438878, 43.737063424324404], [11.108253301584716, 43.737089745432684], [11.108253460139657, 43.737089838668105], [11.108305950357359, 43.737120652735214], [11.10830784537689, 43.73712174320037], [11.10840893827526, 43.73717876045805], [11.108409059549002, 43.737178828770105], [11.108507613737494, 43.73723427222293], [11.108508131452819, 43.7372345618919], [11.108606484239887, 43.7372892924755], [11.108704181380704, 43.73734436467523], [11.10876633603131, 43.73737947346016], [11.108766449883946, 43.737379537694025], [11.10880106128425, 43.7373990414958], [11.108885062237276, 43.73744708412768], [11.108948177154188, 43.737509091326885], [11.109013014138549, 43.737589268082296], [11.109020299615446, 43.737597267875934], [11.109028717260282, 43.737604660467646], [11.109038171580929, 43.73761136199346], [11.109048555324794, 43.73761729642909], [11.10914983841059, 43.73766908734386], [11.109158110443252, 43.73767297020624], [11.109265025203268, 43.737718895261295], [11.10927473803715, 43.73772265584391], [11.109388628838012, 43.737762149468196], [11.109390304449407, 43.73776271942507], [11.109497513334897, 43.73779848172798], [11.109590851942992, 43.73784236177823], [11.109685456647677, 43.73789434457871], [11.109782692842378, 43.73794897987572], [11.10988010190759, 43.73800436782378], [11.109977794322177, 43.73805991625336], [11.110075640707025, 43.73811548009936], [11.110173264744805, 43.73817098927012], [11.110270673165253, 43.7382264636572], [11.110367887768064, 43.738282412824894], [11.110368111855935, 43.73828254148758], [11.110465565825073, 43.73833836349502], [11.110563204927733, 43.738394218872855], [11.110660600674167, 43.73844991948675], [11.110757787725536, 43.738505661371775], [11.110855050563226, 43.73856162298632], [11.110855212607996, 43.7385617160617], [11.110953176236968, 43.73861788817501], [11.111050680747443, 43.738673738541756], [11.111148207810283, 43.738729513335976], [11.111148758005116, 43.73872982616806], [11.111246693728242, 43.73878518853781], [11.11124712154467, 43.73878542929295], [11.111345293243494, 43.738840427276195], [11.111443877762076, 43.73889561725824], [11.111444397806968, 43.73889590680511], [11.11154305334132, 43.73895053573528], [11.111641671018484, 43.73900514297636], [11.111740276235862, 43.739059831497485], [11.111838487943151, 43.73911433851195], [11.111936560087853, 43.73916888964657], [11.112033162341188, 43.739223562300175], [11.112130909173988, 43.73927897740211], [11.112227810847765, 43.739333979960875], [11.112324936067914, 43.73938911404322], [11.112420347169426, 43.739444577061164], [11.112515830212747, 43.73950066873833], [11.112611584576051, 43.73955753432033], [11.112611729648531, 43.7395576203417], [11.1127077326772, 43.73961445804178], [11.112707848256644, 43.739614526385544], [11.112804228054953, 43.739671447160056], [11.112804624279578, 43.73967168018488], [11.112901494051558, 43.739728411571484], [11.112998301236708, 43.73978500471416], [11.1130954054502, 43.73984181159763], [11.113102649886558, 43.739845742435], [11.11319295745137, 43.739891117092775], [11.11320856150184, 43.73990484856257], [11.11320940993354, 43.739905524644534], [11.113210183245538, 43.73990624653494], [11.113213507646144, 43.73990878995074], [11.113216760168875, 43.739911381758006], [11.113217695915449, 43.739911994290445], [11.11321856309702, 43.73991265774923], [11.113222215337307, 43.73991495266862], [11.113225802587767, 43.73991730085439], [11.113226816637487, 43.739917843938315], [11.113227769337161, 43.73991844257593], [11.113291821041066, 43.73995485814157], [11.113390130522436, 43.74001073941421], [11.113488306911012, 43.7400666176554], [11.113488909930311, 43.740066958698876], [11.113587092082101, 43.740122134634], [11.113587615432303, 43.74012242713006], [11.113686536036935, 43.74017740925037], [11.113687381807184, 43.74017787519441], [11.113786900933453, 43.740232215912634], [11.11388559050604, 43.74028604917586], [11.11398304467407, 43.740340323256255], [11.11407956036358, 43.74039514932182], [11.114175060016805, 43.74045016442314], [11.114269048994856, 43.740505758928066], [11.114269712097576, 43.74050614840821], [11.114347627486662, 43.740551592030116], [11.114366069309073, 43.74056234800719], [11.114366794327491, 43.740562767640085], [11.114466416056034, 43.74061998697222], [11.114466715968373, 43.74062015868729], [11.114563050660648, 43.74067514077546], [11.114659495276946, 43.740730727951764], [11.114756175143047, 43.74078653864512], [11.114756688769763, 43.740786833545265], [11.114853278268416, 43.740841990512166], [11.114949128229014, 43.740897265121525], [11.115044053773723, 43.74095229948419], [11.115136958753824, 43.74100768362978], [11.115228578384817, 43.741064830191945], [11.115320883114892, 43.74112308825369], [11.115412780601359, 43.74118143103086], [11.115502208580706, 43.741239611469226], [11.115518686959474, 43.74125112679016], [11.115518686999998, 43.74125112681582], [11.115518687036856, 43.74125112684423], [11.115589228019784, 43.741300421703144], [11.115677837661261, 43.741362255241135], [11.115766040562207, 43.741423980809], [11.115853513769315, 43.74148580939389], [11.115940082305777, 43.74154820824899], [11.11602384741835, 43.7416115306352], [11.116107334069007, 43.741675559665055], [11.116190178399592, 43.74174082691462], [11.116191403423638, 43.74174177812978], [11.116276383615673, 43.74180681501577], [11.116361259744941, 43.74187183007122], [11.116444827879826, 43.74193733131755], [11.11652888852681, 43.742003567873105], [11.116612932881287, 43.74206980398799], [11.116613352937197, 43.74207013338601], [11.116697888379164, 43.74213609345894], [11.116698000426982, 43.742136180769776], [11.116782410144449, 43.742201867776465], [11.116866550662557, 43.74226771720252], [11.116950813775086, 43.7423337498259], [11.117035239862998, 43.742399897888156], [11.117119726231243, 43.742466080930605], [11.11720382976548, 43.74253217475944], [11.117204201774882, 43.742532465817284], [11.117288989902859, 43.74259851079825], [11.117289221483379, 43.74259869069189], [11.117374124388407, 43.74266446337788], [11.117459158304719, 43.74273032642003], [11.117544058035898, 43.74279609622304], [11.117544234349602, 43.742796232524995], [11.117629255575654, 43.742861822756254], [11.117629915818997, 43.74286232817402], [11.117715538728344, 43.74292736698139], [11.117801257238247, 43.74299246919554], [11.117886159623385, 43.74305706527462], [11.11796998603608, 43.74312214394117], [11.118054624843772, 43.743187907188066], [11.118138152839261, 43.7432527648269], [11.118220100329705, 43.74331836530009], [11.118300353653733, 43.74338495660801], [11.118307055554634, 43.74339009531974], [11.118398989411768, 43.74345525581794], [11.1184759895707, 43.7435170702446], [11.11854373946701, 43.743581991581074], [11.11860635675608, 43.74365440861589], [11.118609759676005, 43.743658135188234], [11.11867937107008, 43.74373040279836], [11.118682396771078, 43.743733409543886], [11.118755191697122, 43.74380269296446], [11.11882674129991, 43.74387202068838], [11.118897796712192, 43.74394292895556], [11.11897020471639, 43.74401503745633], [11.118971367308559, 43.74401617628962], [11.119045803920756, 43.744087904017384], [11.119046003943314, 43.74408809622477], [11.119120940344851, 43.7441599046685], [11.119125546433585, 43.744164057055265], [11.11920107726353, 43.7442281655469], [11.119268183556303, 43.74429436010975], [11.119332619727757, 43.744364180667155], [11.119399032137837, 43.74443811430441], [11.119461849202128, 43.744516751702456], [11.119521639850284, 43.744592736673496], [11.119563061623555, 43.74465724032162], [11.119570186038073, 43.744666784589974], [11.11962543161192, 43.74473118787719], [11.119672929976932, 43.744798572352586], [11.119673066883049, 43.74479876599879], [11.11972926144056, 43.744878013851086], [11.1197712164773, 43.74495143247476], [11.119773089880804, 43.74495454355019], [11.119818896739732, 43.745026861947416], [11.119875783059785, 43.745116671963906], [11.119913961957355, 43.74519179993453], [11.119916567417306, 43.745196512683286], [11.11996125344399, 43.74527117053101], [11.120003351528391, 43.74535283512743], [11.120036038147294, 43.74542639596448], [11.120038817830338, 43.74543200750726], [11.12009385990638, 43.74553252577447], [11.120096102197746, 43.74553635957405], [11.1201493027695, 43.74562176676996], [11.120188081873499, 43.745703491578105], [11.120188188460514, 43.74570371524766], [11.120228412222287, 43.74578776526405], [11.120266663654377, 43.74586945053303], [11.120297703517258, 43.74595231657623], [11.120329783149584, 43.74603869085218], [11.120329975049055, 43.746039201553465], [11.120363381377889, 43.746127085670516], [11.120363705463427, 43.74612792246479], [11.120397920898952, 43.74621465582526], [11.120413862461382, 43.74625526117171], [11.120431449017648, 43.74630009254635], [11.120463628754718, 43.74638500798015], [11.120495376735146, 43.74647148243037], [11.120527255547575, 43.7465583942752], [11.120559280607445, 43.746645607811196], [11.120591309747663, 43.746732588113936], [11.120591490650911, 43.74673307393068], [11.120624245441096, 43.74682006970644], [11.12065700033073, 43.746907065469664], [11.12068974755074, 43.746994040586024], [11.12072232480034, 43.747080726150024], [11.120739915852036, 43.74712961267191], [11.120754923974, 43.747171368181554], [11.120757378887824, 43.74717734215855], [11.120798382969483, 43.74726580539298], [11.120799574149222, 43.74726825740381], [11.120842418025353, 43.74735254488267], [11.120842800192493, 43.747353286651965], [11.120886891702769, 43.74743773102495], [11.120887601146604, 43.747439057972564], [11.120933936399357, 43.74752373078335], [11.12093443772829, 43.74752463266423], [11.120981470141162, 43.747607941995234], [11.120983187142052, 43.74761083764488], [11.121037701432167, 43.74769850980164], [11.121040021251382, 43.747702034453084], [11.121095891786858, 43.74778238860417], [11.121096091416918, 43.74778267444885], [11.121153636003106, 43.747864708152065], [11.121154010608862, 43.74786523783477], [11.121212551465666, 43.747947343047244], [11.12121518950975, 43.74795084993398], [11.121277065946117, 43.748028931668735], [11.121278340635733, 43.748030503131105], [11.12134330125396, 43.748108762888705], [11.12140761925238, 43.74818640428076], [11.121407824869829, 43.7481866515915], [11.121472928848982, 43.74826467329468], [11.12147342926322, 43.7482652677927], [11.121539131748715, 43.74834264810281], [11.121539902465809, 43.7483435439899], [11.121607080081525, 43.74842062103809], [11.121674776615853, 43.74849831867383], [11.121678698275776, 43.74850254941202], [11.121752908413038, 43.74857790741957], [11.121791315686384, 43.748641303033594], [11.121796861446185, 43.74864934105393], [11.121803485369524, 43.748656938066866], [11.121871888420166, 43.748727342767246], [11.121874528943378, 43.74872995916424], [11.121950981513145, 43.7488029185319], [11.12201977875965, 43.748869636074346], [11.122072675722873, 43.74893224559485], [11.122075547967492, 43.7489354873282], [11.122135506667297, 43.749000075782334], [11.122136570464818, 43.749001203156475], [11.122241490017107, 43.74911060213154], [11.122357672653395, 43.749247758078674], [11.122405968421146, 43.74930991476677], [11.12241005788227, 43.74931480744683], [11.12246394078987, 43.7493748791712], [11.122517498518254, 43.74943573079787], [11.122573256769504, 43.74950477104141], [11.122621203911992, 43.74956735111436], [11.12266955277019, 43.74963078969641], [11.122717106545071, 43.74969399954522], [11.12276380226021, 43.74975663391101], [11.12276400632004, 43.749756906498405], [11.122808058302036, 43.749815510909634], [11.1228103552049, 43.74981843511627], [11.122855005671797, 43.74987288680076], [11.122857571697235, 43.7498758810022], [11.122909166569535, 43.7499335349264], [11.122909573884172, 43.749933987096654], [11.122959590338423, 43.74998914935543], [11.122960443474321, 43.749990077678284], [11.12301311745518, 43.75004663109045], [11.123018051110588, 43.75005155994172], [11.123072216731858, 43.75010199109907], [11.12313128124512, 43.75015746270263], [11.12313237522359, 43.75015847509644], [11.123193972513334, 43.75021464729661], [11.123256456825539, 43.750272037764184], [11.123317732786958, 43.750328399792664], [11.123376949567538, 43.750390825244054], [11.123432012829275, 43.750452313195275], [11.123486686529379, 43.75051347868533], [11.12354091742909, 43.750574021940984], [11.123594920582256, 43.7506343651168], [11.123648813697937, 43.75069472609197], [11.12364895775037, 43.750694887055964], [11.123699784776104, 43.75075154866285], [11.123735094549213, 43.75080099907372], [11.12374132006225, 43.750808746275816], [11.123791068098798, 43.75086411549939], [11.12383905159054, 43.75092393917428], [11.123843506229003, 43.75092908509957], [11.123890802267262, 43.75097983206023], [11.123947131272656, 43.75104825681779], [11.123951726913099, 43.75105342897831], [11.123996646276014, 43.75110037725824], [11.123997161707218, 43.75110091182363], [11.124056376951426, 43.75116185378727], [11.124107003527083, 43.751215996647026], [11.124150191806985, 43.75126936737514], [11.124154511039496, 43.751274327214304], [11.124205910256931, 43.7513292961284], [11.124255657079985, 43.75139018265851], [11.124261315569443, 43.751396491001806], [11.124325330300442, 43.75146171897676], [11.124366334500479, 43.751525175758964], [11.124372482057446, 43.751533518002596], [11.12437980332333, 43.75154134656092], [11.124439503165723, 43.75159847245025], [11.12444212077538, 43.75160089029392], [11.124515601679082, 43.75166642765467], [11.124565531831957, 43.75172285157765], [11.124565603436162, 43.75172293239946], [11.124619419936437, 43.751783605394515], [11.124673241207349, 43.75184422789714], [11.124726355671699, 43.75190464805756], [11.124778765256028, 43.75196552241802], [11.124831489458098, 43.75202667580081], [11.124883140948125, 43.75208671953381], [11.12488563162258, 43.752089499522604], [11.124942404716066, 43.75215038267789], [11.12499738877242, 43.752214481217266], [11.125044592356998, 43.75227996780431], [11.125090033141658, 43.75234311047209], [11.125090590868416, 43.75234387645513], [11.125135926897268, 43.75240542177602], [11.125180963362983, 43.752467580841575], [11.1252264678695, 43.75253080790689], [11.12527071393499, 43.75259232299466], [11.125314973569635, 43.75265402776782], [11.125316685758335, 43.75265633231452], [11.12536303721542, 43.75271660359086], [11.125364344810462, 43.75271826223072], [11.125409396183423, 43.75277402605823], [11.125456659745543, 43.75283262981057], [11.125461529026396, 43.75283818997168], [11.125510945499448, 43.75289030106729], [11.125512314095847, 43.752891715031566], [11.125564101799775, 43.752944142132364], [11.125566675695733, 43.75294665436377], [11.125621418807496, 43.75299818948112], [11.125675036944854, 43.753059986724836], [11.125726342046852, 43.75313385460904], [11.125773042340874, 43.75320297305828], [11.12581227658702, 43.75326578190825], [11.125846274125006, 43.75332983568395], [11.125882263229586, 43.7533978919306], [11.1259079538474, 43.753458563192225], [11.12593715840035, 43.753528101802814], [11.125937241766788, 43.753528299490256], [11.125964217887045, 43.753592006301375], [11.125965285445588, 43.753594406994154], [11.125993593305493, 43.753655136984236], [11.12602568591093, 43.75373255012894], [11.126047943589342, 43.753801127998855], [11.12604804753658, 43.75380144568316], [11.12606420210122, 43.753850421559], [11.126064301236653, 43.753850719859024], [11.126089067868476, 43.753924688927995], [11.126104427439634, 43.75397992125788], [11.126117640359634, 43.75404636660023], [11.126129879517523, 43.754111041192246], [11.126130278416635, 43.754112990347316], [11.12614604459079, 43.75418461808217], [11.126161476578165, 43.75426053673834], [11.126169625861058, 43.754334141425055], [11.126170266964664, 43.754338560672345], [11.12622044218025, 43.75461792603063], [11.126313623895348, 43.755538364061096], [11.126313753748091, 43.75553954090573], [11.126432495466823, 43.756533584373706], [11.126432676161757, 43.75653497193212], [11.126534086607945, 43.75725413206434], [11.12653435513074, 43.75725586932634], [11.126568031222709, 43.75745614437145], [11.126571456551375, 43.757468835842104], [11.126701458720735, 43.75781592945091], [11.126703512065205, 43.75782085107746], [11.126884502818335, 43.75821378244806], [11.126886105281732, 43.75821705036919], [11.127044404914571, 43.75852117064361], [11.127407090941931, 43.75928036524577], [11.127504980946377, 43.75966584167865], [11.127583424866062, 43.76007583335654], [11.12761441466408, 43.76032441724075], [11.127607308972088, 43.7607185012253], [11.127591443644826, 43.76089402602969], [11.127573136578933, 43.76104495771657], [11.127492227090228, 43.761386205740436], [11.127346820192805, 43.761804863161046], [11.127126437322266, 43.76224031037333], [11.126412014716157, 43.7634803613923], [11.126249166979553, 43.763744584302856], [11.126230389270901, 43.763775051818406], [11.126216261985322, 43.76379797249427], [11.12598127896242, 43.764179238586756], [11.125977096961167, 43.76418696149081], [11.125854457130119, 43.764448259282354], [11.12570016280517, 43.764778065614486], [11.125696073598478, 43.76478904309445], [11.125610739589712, 43.76509338772532], [11.125588862044795, 43.76516969019917], [11.125588115420792, 43.765172521010804], [11.125546976421317, 43.765343280800224], [11.125545366758553, 43.76535315572256], [11.125506005879215, 43.76581028493856], [11.125505840873403, 43.76581904057931], [11.12554700708869, 43.7666708978875], [11.12554772915601, 43.766677935315776], [11.125549209798896, 43.76668491011633], [11.125713919061015, 43.76729940030395], [11.12571439499284, 43.76730108929643], [11.126032968816762, 43.7683788690447], [11.126033101058535, 43.768379311004104], [11.126263476501963, 43.76913999526424], [11.126263585871532, 43.769140352912636], [11.126290413613706, 43.76922724441694], [11.126299004134163, 43.769258414925766], [11.126302238605646, 43.76926760148454], [11.12630449801498, 43.76927284782735], [11.126313835497093, 43.769303088998086], [11.126317077341506, 43.7693116034779], [11.12632145522695, 43.76931984668991], [11.126326926992377, 43.769327739247345], [11.12633343994198, 43.76933520514038], [11.12634093135272, 43.769342172468214], [11.126349329078327, 43.769348574131506], [11.126358552244133, 43.76935434847853], [11.126368512025905, 43.76935943989901], [11.126379112505312, 43.76936379935958], [11.126390251593671, 43.76936738487609], [11.126401822015097, 43.76937016191795], [11.12641371233968, 43.76937210374062], [11.126425808056618, 43.76937319164322], [11.126437992677019, 43.76937341514858], [11.12645014885581, 43.76937277210425], [11.12646215952182, 43.76937126870314], [11.126473909005291, 43.76936891942389], [11.126485284151814, 43.76936574689145], [11.126496175412138, 43.76936178165918], [11.126506477897175, 43.76935706191459], [11.126514637411772, 43.76935245466117], [11.126516898581801, 43.76935268378128], [11.12652907698142, 43.76935304362308], [11.126541245409996, 43.769352536700254], [11.126553286678414, 43.769351167894776], [11.126565084822175, 43.76934895038907], [11.126576526218244, 43.76934590553901], [11.126587500679344, 43.7693420626683], [11.12659790251509, 43.769337458786055], [11.126607631549895, 43.76933213823033], [11.126616594087698, 43.76932615224119], [11.126624703814345, 43.76931955846717], [11.126631882628807, 43.76931242041011], [11.126638061395337, 43.769304806813516], [11.126643180609326, 43.769296791000755], [11.126647190970274, 43.7692884501685], [11.126650053856654, 43.76927986464373], [11.126651741697767, 43.76927111710978], [11.1266522382393, 43.76926229181023], [11.126651538699805, 43.76925347373755], [11.126649649816756, 43.76924474781456], [11.126639358195929, 43.76920882184927], [11.126628101154228, 43.76916951741276], [11.126609365216645, 43.76910410258506], [11.126609069622646, 43.76910309931296], [11.126378756871413, 43.768342636690754], [11.126060491573336, 43.76726592196681], [11.125897866830332, 43.766659221878115], [11.125857248945428, 43.76581881251232], [11.125896022242696, 43.76536848192957], [11.125911701244473, 43.76527112101178], [11.12594570455636, 43.76511542567811], [11.126004922489187, 43.76488383572297], [11.126156287102825, 43.7645602881969], [11.126277060828777, 43.76430296373033], [11.126489193208638, 43.76395877419956], [11.126504566149041, 43.763933832175944], [11.126505148415832, 43.763932886489634], [11.126521898070687, 43.7639057071814], [11.126644856167193, 43.76370620323622], [11.126645221035233, 43.76370560540168], [11.12748954255703, 43.76230846133067], [11.127492378548043, 43.762303347761865], [11.12771594576829, 43.76186160505633], [11.127719784747937, 43.7618525810835], [11.127867940370177, 43.761426001627065], [11.127869903075764, 43.76141927448739], [11.127952484981796, 43.761070974315636], [11.127953869616206, 43.7610630324769], [11.127990841192299, 43.760733801038306], [11.127991244923157, 43.76072735026572], [11.127996543248383, 43.76032098817853], [11.127996044908281, 43.760312037862654], [11.127964209996401, 43.76005668795075], [11.12796353670958, 43.76005242431414], [11.127884306194835, 43.75963833519935], [11.127883555497187, 43.75963490074346], [11.127786175430987, 43.75923902552702], [11.12778404418069, 43.75923199937483], [11.12778114552739, 43.75922511903428], [11.127412101920884, 43.75846004361199], [11.127411065781038, 43.75845797691943], [11.127253010396798, 43.75815432459366], [11.127073898831537, 43.75776547831129], [11.126947167752169, 43.75742712396236], [11.12691472091405, 43.757234151727666], [11.126813523695354, 43.75651655450204], [11.126694928930528, 43.75552379407139], [11.126601545535582, 43.75460142172842], [11.126600577048876, 43.75459501173207], [11.126544102809612, 43.75431450760981], [11.12653536706636, 43.754253438464545], [11.126530727664823, 43.7542119012159], [11.126528942391378, 43.75420233392259], [11.12650792598984, 43.75412230404669], [11.12650734004433, 43.75412020858572], [11.126485500217585, 43.75404660624209], [11.126485293047075, 43.75404592105533], [11.126462840645315, 43.753973022417405], [11.126462333891002, 43.75397144403886], [11.12643520809332, 43.75389027284543], [11.126433608151151, 43.75388595653269], [11.126403944053708, 43.75381318922046], [11.12637650122623, 43.753744718512785], [11.126348026800702, 43.75367308602106], [11.12634722636586, 43.75367115402828], [11.126315833434061, 43.75359835323204], [11.126315301078622, 43.75359714848718], [11.12628298373511, 43.7535257440695], [11.12628260259934, 43.7535249155512], [11.126249182727605, 43.75345342461821], [11.126248380904178, 43.75345176301492], [11.126211972171225, 43.753378616923705], [11.126211133950848, 43.75337698267405], [11.126172291074106, 43.75330344066784], [11.126170429782224, 43.75330011660095], [11.126127240686953, 43.75322719086026], [11.126126550635101, 43.75322604762018], [11.12608243288312, 43.75315431394057], [11.126081707211275, 43.75315315609128], [11.126034668322976, 43.753079489359116], [11.125980757899159, 43.75298327332427], [11.125977680149026, 43.752978229400235], [11.125913716859104, 43.75288152694006], [11.125911350824456, 43.75287813545235], [11.125851580445962, 43.75279677264845], [11.125809683862606, 43.75273895549675], [11.12576128879179, 43.752667542848776], [11.125752672971956, 43.75265678010756], [11.125715821165079, 43.752617309682556], [11.125676192653529, 43.7525695190707], [11.125675636622189, 43.752568855022275], [11.125632311519421, 43.75251761318116], [11.125585245497977, 43.752455089605505], [11.125548848720245, 43.752405543447026], [11.125546085705114, 43.75240197972859], [11.125516879415871, 43.75236623526912], [11.125515091393249, 43.75236411432467], [11.125461064798575, 43.752301973220995], [11.12541091677823, 43.75223065283747], [11.125405664094098, 43.75222391517481], [11.12535709671721, 43.75216743327237], [11.125348313822402, 43.75215848559774], [11.125279940856968, 43.75209712931425], [11.125204969077132, 43.75201997503481], [11.125204504165984, 43.75201949986264], [11.125151460775607, 43.751965655815894], [11.125110114793197, 43.751908638318405], [11.125104545967748, 43.75190172406427], [11.125057824906936, 43.75184922631382], [11.125004943797787, 43.75178756665373], [11.125003919941355, 43.751786393116454], [11.124946319181685, 43.75172148520898], [11.12488738904728, 43.75165238987469], [11.124884083629858, 43.75164871740926], [11.124821411067828, 43.75158265941634], [11.12478964989871, 43.75154316051578], [11.124780888632094, 43.751533697584776], [11.124737476518987, 43.75149268192054], [11.124703389295824, 43.75145036339469], [11.124665991707456, 43.751395632206616], [11.124660029938198, 43.751387890976034], [11.124610328182722, 43.751330224584564], [11.124550436171972, 43.75125855290796], [11.12454805022093, 43.75125581039906], [11.124489713102626, 43.75119135819632], [11.124488223675781, 43.75118975061572], [11.124426312772322, 43.75112445706403], [11.124421853500483, 43.75112004733066], [11.124354029056507, 43.751057080577176], [11.124352340109404, 43.751055547342794], [11.124285409265843, 43.75099612712198], [11.124283641710576, 43.750994593002176], [11.124231117920736, 43.75095002122705], [11.124189185624969, 43.75090428993405], [11.124135508874907, 43.7508449004104], [11.124082740119334, 43.750786431549436], [11.12397776835896, 43.75065695661574], [11.123906589405841, 43.750563173995666], [11.123857408109794, 43.75049151198611], [11.12384920131841, 43.75048129673653], [11.123779947191695, 43.75040681473058], [11.123748092783574, 43.75037047432698], [11.123745984238838, 43.75036814904492], [11.123704555677529, 43.750323965472724], [11.123655386089972, 43.7502639774671], [11.123648212348078, 43.7502561805674], [11.123577431146499, 43.750187309172006], [11.123520118584505, 43.75012635919877], [11.12346066709058, 43.75006118295797], [11.123413961499544, 43.75000789910609], [11.123410458500096, 43.750004117635456], [11.123349622863499, 43.74994190698518], [11.123303105418353, 43.7498921261151], [11.123257726158197, 43.74983571486143], [11.123257550853564, 43.749835497637314], [11.123200556201951, 43.749765100111745], [11.12316365314198, 43.74971878100733], [11.123127703523076, 43.74967141333161], [11.123085017033901, 43.7496149013098], [11.12308446776994, 43.74961418196549], [11.12304849800706, 43.74956757773834], [11.123023422372297, 43.74953343853032], [11.123018632374963, 43.749527479440495], [11.12301322698428, 43.74952180372866], [11.122942676574143, 43.74945348045542], [11.122886682730366, 43.74938909559847], [11.122831382710944, 43.749310514275926], [11.122827476390539, 43.749305383258275], [11.122767437624454, 43.74923225517228], [11.122765538969016, 43.74923001754222], [11.122719144917228, 43.74917708734156], [11.122654434991901, 43.749100961109086], [11.122552758442202, 43.7489814847912], [11.122549271189671, 43.748977613248215], [11.12246633025939, 43.74889050488782], [11.122399337553533, 43.74881982141483], [11.12233219902864, 43.748747251747176], [11.12232871608605, 43.74874367800626], [11.122248516123758, 43.74866549165696], [11.122247025010166, 43.7486640677332], [11.122154627681734, 43.74857762979251], [11.12208538841, 43.748510687325684], [11.122084809755417, 43.7485101323471], [11.12202246608897, 43.74845081737039], [11.121958570170728, 43.7483702988], [11.121903730395603, 43.748300793684486], [11.121898494575795, 43.74829473024368], [11.121820105445972, 43.74821149809134], [11.121754143935446, 43.748131737832445], [11.121753978832515, 43.74813153877354], [11.121680037220028, 43.74804264967583], [11.121631735961559, 43.7479768854953], [11.121626709876653, 43.747970657652154], [11.12162101179101, 43.74796474167608], [11.121579563762992, 43.747925186565936], [11.121519057022233, 43.74784758388226], [11.12145789310588, 43.74776430594512], [11.121406830574788, 43.74768810999748], [11.121363107628206, 43.747618534942326], [11.121308820920921, 43.74752618871141], [11.12126146884368, 43.747436327585426], [11.121260445675066, 43.74743444937286], [11.121223132789238, 43.747368141821035], [11.121219732521034, 43.7473626347146], [11.12117989296902, 43.74730350879121], [11.121141996369968, 43.74723238814967], [11.121107275088601, 43.74716441554611], [11.121092226861208, 43.74711919023556], [11.121089050162336, 43.74711125900336], [11.121062742760763, 43.747055304126384], [11.121025163704065, 43.74696516844586], [11.121024164748246, 43.74696288276916], [11.120923380303404, 43.7467425184219], [11.12089253490793, 43.74665875421966], [11.120860564774363, 43.74657169170821], [11.120828687531002, 43.74648478557154], [11.120796537831385, 43.746397218356336], [11.12079627889105, 43.746396524238044], [11.120763262630518, 43.746309402783425], [11.120762963231764, 43.74630862637426], [11.120744909341951, 43.746262604386644], [11.120728884854191, 43.74622178843566], [11.120728841623121, 43.74622167858662], [11.120695055213789, 43.74613603408058], [11.120662417132122, 43.74605017239979], [11.120630517834748, 43.74596428506849], [11.120630448272523, 43.74596409857272], [11.120596270729209, 43.74587285742887], [11.120594019975067, 43.745867511096925], [11.120551648683504, 43.74577702909692], [11.120551379648532, 43.745776460821816], [11.12051090846217, 43.74569189484354], [11.120472456572694, 43.74561086063259], [11.120436522269479, 43.745525915611154], [11.120405030205236, 43.745441722432496], [11.120404711094649, 43.74544088530852], [11.120371337177081, 43.74535495226836], [11.120369728712673, 43.74535113694809], [11.120328747665068, 43.745261116713976], [11.12032584511064, 43.745255398858575], [11.120277809233961, 43.74516982517624], [11.120276783532953, 43.74516805240125], [11.12022677077546, 43.745084136376306], [11.12022485989204, 43.74508108721415], [11.120169833009896, 43.74499744960962], [11.120169282993979, 43.744996624454345], [11.12011512270373, 43.744916415900654], [11.120062028653155, 43.744837164284895], [11.120012398474623, 43.74476244541967], [11.11995731738648, 43.74465318543841], [11.119954154666384, 43.74464751687942], [11.119877294898844, 43.74452218555961], [11.119872146968206, 43.74451473966553], [11.119866071681036, 43.74450767064125], [11.119791349279188, 43.744429077507576], [11.119753266461005, 43.74438035480576], [11.119696487970213, 43.744301346554884], [11.119690591347064, 43.744294008428525], [11.119683766975303, 43.74428710588012], [11.119611415811663, 43.74422077403498], [11.11953209615362, 43.744124215684685], [11.119528200720364, 43.744119774383314], [11.119463306812497, 43.74405035618077], [11.119461007766073, 43.74404798025059], [11.119406009373932, 43.743993048145576], [11.119350607780042, 43.74393095097091], [11.11934888153299, 43.7439290683681], [11.119239893761998, 43.743813386585494], [11.119237609894219, 43.743811043512416], [11.119167724436078, 43.74374171771369], [11.119165521519129, 43.74373959872262], [11.11909320396954, 43.743672128801016], [11.119090389366887, 43.74366959852553], [11.119023073903525, 43.74361127074809], [11.118963091468927, 43.74355289305367], [11.118958188055448, 43.74354842405814], [11.118887981076085, 43.74348844559341], [11.118819145204032, 43.7434142809276], [11.118812990908918, 43.74340821449704], [11.118724853111372, 43.743328545813], [11.118667281394574, 43.74327012148662], [11.118661255384046, 43.74326449153054], [11.118654633900368, 43.743259224848465], [11.118581285752974, 43.74320533339923], [11.11851498933279, 43.74314788741616], [11.118507527286148, 43.743141977282775], [11.118359911582068, 43.743035035006976], [11.118289031364291, 43.742981165649425], [11.118196103509614, 43.74290165635646], [11.118193360338553, 43.742899387510874], [11.118113684313872, 43.74283567500066], [11.118105510621609, 43.7428297224272], [11.118036457260706, 43.74278392113976], [11.118034402663646, 43.74278258845608], [11.117941696831881, 43.74272378658247], [11.117855900671765, 43.74265812893397], [11.117778474067409, 43.74259109975266], [11.117771030564032, 43.74258520811997], [11.11767153795661, 43.74251315762951], [11.117604923192706, 43.74246387246415], [11.117524676327378, 43.74239826387158], [11.11752025356618, 43.74239483255507], [11.117447888373908, 43.74234154668627], [11.11737523673487, 43.74228289675449], [11.11736838444388, 43.74227778729705], [11.117285965863378, 43.742221012206635], [11.117204106821752, 43.74214323715008], [11.11719531330088, 43.742135765724655], [11.117101044796373, 43.7420640005484], [11.117024106563761, 43.74199570344928], [11.117019457216436, 43.74199180923848], [11.116950086731261, 43.741936959065356], [11.116947925884741, 43.74193529349197], [11.116865745836778, 43.74187354019869], [11.116788277912276, 43.74180817581532], [11.116782752256492, 43.74180381256019], [11.116681409202606, 43.74172889386236], [11.11660236926897, 43.74165921763373], [11.116593530171853, 43.74165221383162], [11.116583722748857, 43.741645923963745], [11.116480199591718, 43.74158628053105], [11.116420590619896, 43.74154205993182], [11.116342480588434, 43.74147959546907], [11.116339459066607, 43.741477263815455], [11.116244555731662, 43.74140658872971], [11.116237850309309, 43.74140195440381], [11.116168036100191, 43.74135718685076], [11.116107774408352, 43.74131069963831], [11.116106157946113, 43.74130947594943], [11.115976125526073, 43.741212875850884], [11.11588959526909, 43.74114626358321], [11.115882515121195, 43.741141231822134], [11.115799237666597, 43.74108660058364], [11.115799237666572, 43.741086600583614], [11.115777009919695, 43.74107201882618], [11.115701959918729, 43.741018592359104], [11.115697344062216, 43.741015469542425], [11.115620679127602, 43.74096618606726], [11.115617404376826, 43.740964153441645], [11.115482314639593, 43.74088320773844], [11.115385109678515, 43.74081796253776], [11.115384846476417, 43.74081778638346], [11.11530299886317, 43.74076316618003], [11.115294438003609, 43.74075794950156], [11.115229260167297, 43.74072173534016], [11.11514870649428, 43.740674956802536], [11.11514558543943, 43.740673202707505], [11.115036236178922, 43.740613740458244], [11.114924327108694, 43.740552514964016], [11.114923612826164, 43.740552127092435], [11.114834267873142, 43.740503973151114], [11.114726249081308, 43.74043294693377], [11.114716541903855, 43.740427184593436], [11.114674939534432, 43.74040493641913], [11.114579242838483, 43.74034409579864], [11.11456971482586, 43.74033861290993], [11.11446540480268, 43.74028440777807], [11.114465011648692, 43.74028420431187], [11.114366557373282, 43.74023346122875], [11.114262569661056, 43.74017210448834], [11.114258306087711, 43.74016969870584], [11.114133668892226, 43.74010247574285], [11.114056596623653, 43.74005104011063], [11.114049537009452, 43.74004667069152], [11.11395777147571, 43.73999404382424], [11.11394973658358, 43.73998980358711], [11.113825530164325, 43.73992961855502], [11.113748853650893, 43.7398834247608], [11.113748301493631, 43.73988309406044], [11.113653913151545, 43.73982689382498], [11.11364828318747, 43.739823733233514], [11.113552469646233, 43.739773063303495], [11.113490066686557, 43.739735051851135], [11.113375826670048, 43.73966336596799], [11.113367157067707, 43.739658397408654], [11.113306451957214, 43.739626685011984], [11.113212103252065, 43.739571140606145], [11.113211771948773, 43.73957094624613], [11.113115126378252, 43.73951444750184], [11.113018978930516, 43.73945813911629], [11.112923365796851, 43.73940167110675], [11.112827753565183, 43.73934506535271], [11.11273860086989, 43.73929212007587], [11.112721380375216, 43.73927833286241], [11.112713166961955, 43.73927234698617], [11.112704216041182, 43.73926694548011], [11.112632031282896, 43.739227388532484], [11.112605508730303, 43.73921285425893], [11.1125329917796, 43.73917259601498], [11.11250776219191, 43.73915858962581], [11.112434448205875, 43.73911727932769], [11.112410183073608, 43.73910360660819], [11.112398966246474, 43.73909797472415], [11.112328851382914, 43.739066758163744], [11.112313961405404, 43.73905698916681], [11.11224542201445, 43.7390120218659], [11.112230355945101, 43.7390021373093], [11.112156356900753, 43.73895185514707], [11.112134140307603, 43.738936759002286], [11.11212527394051, 43.73893127769181], [11.112115737816735, 43.73892642324787], [11.112078782228004, 43.738909430099184], [11.112078782227945, 43.73890943009916], [11.112040328484936, 43.73889174803665], [11.112023422256392, 43.73888190461154], [11.11201837891346, 43.73887911875053], [11.111942400474558, 43.73883933101681], [11.111844987528283, 43.73878530379777], [11.11164830469298, 43.73867639474895], [11.111550583810029, 43.7386216882653], [11.11145310558256, 43.7385670788269], [11.111356637367146, 43.738512546026506], [11.111260121115208, 43.738457349522946], [11.111162853476733, 43.73840163512327], [11.111065207393882, 43.73834564479468], [11.110967963856318, 43.73828969435328], [11.110967814510081, 43.738289608559995], [11.110870197708602, 43.73823361999725], [11.110870060490603, 43.73823354140898], [11.110772491150295, 43.738177741704696], [11.11067502553168, 43.738121986240564], [11.11057800120542, 43.73806641007069], [11.110480376294012, 43.73801022475519], [11.110479877964883, 43.73800993945838], [11.11038160813738, 43.73795397445417], [11.110283703552481, 43.737898305599934], [11.110185856609522, 43.737842742218035], [11.109990003255843, 43.73773137850122], [11.109989438388071, 43.737731059215875], [11.109889766287298, 43.73767505498604], [11.109888703646, 43.737674464525455], [11.109781621684897, 43.73761562576376], [11.1097741790326, 43.73761183913044], [11.10964817515324, 43.73755260267909], [11.10953776200925, 43.737497741851314], [11.109442756511887, 43.7374469253291], [11.109361143565707, 43.73740110992549], [11.109358840978969, 43.737399848079754], [11.109304701630421, 43.73737088987469], [11.10924163292, 43.73733015581779], [11.109144283275038, 43.737259925127724], [11.109133606602901, 43.73725306147152], [11.109009264916823, 43.73718194637893], [11.109008560640962, 43.73718154655561], [11.108973060234952, 43.73716154183367], [11.108910929661452, 43.73712644714586], [11.108812071329751, 43.737070720160766], [11.108811457225709, 43.73707037621419], [11.108712960133975, 43.73701556554823], [11.108615362981489, 43.73696066066072], [11.108517316133536, 43.73690536142338], [11.108467886235935, 43.73687634408033], [11.108423218609065, 43.73685003333433], [11.10842307037292, 43.73684994615522], [11.108325497913317, 43.7367926528716], [11.108229710065618, 43.736736468302446], [11.108136969049669, 43.73668056445185], [11.108046376991172, 43.73662437998963], [11.107962479472999, 43.73657006642577], [11.107879016489155, 43.73651133353477], [11.107792143738989, 43.73644916704759], [11.10770867311832, 43.7363881305198], [11.107629388680776, 43.736325834783], [11.107551311934975, 43.736261993230734], [11.107472507985737, 43.73619379614076], [11.107399173062918, 43.73612699405451], [11.107327650769063, 43.73605933137026], [11.107257196048515, 43.735988959902876], [11.107195442094913, 43.735926451513365], [11.10714566318679, 43.735863174701315], [11.107086495277784, 43.735780652406355], [11.107082057507714, 43.73577497576177], [11.107011944549761, 43.7356924165646], [11.106948177816973, 43.73561662609963], [11.10688529099817, 43.73554033928135], [11.10688521860226, 43.73554025157223], [11.106821539675526, 43.73546320245485], [11.106759027665126, 43.735386747038845], [11.106696501804207, 43.73530962754739], [11.10663308559841, 43.735231025375505], [11.106632156953168, 43.73522989343476], [11.106558032026307, 43.73514102750555], [11.106548325385196, 43.73513100130563], [11.106478570461553, 43.73506847518313], [11.106433443813502, 43.73500980389121], [11.106433229524214, 43.73500952643658], [11.106371609867104, 43.73493007279565], [11.106371196377065, 43.73492954382239], [11.10630915305669, 43.734850793623316], [11.106248576473785, 43.734773989413334], [11.106190389809454, 43.73469817955766], [11.106132808181309, 43.734620900938076], [11.106070816594684, 43.734537527531096], [11.106067062070302, 43.734532823764354], [11.105997481403591, 43.734451423233935], [11.105997237838338, 43.734451139471076], [11.105931735449577, 43.73437514146528], [11.10586618969078, 43.734299153003846], [11.105866052279692, 43.734298994068915], [11.105799949838635, 43.73422271408184], [11.105799721456487, 43.734222451542145], [11.105733277816359, 43.734146361357766], [11.105666234697008, 43.7340695526915], [11.105664734689572, 43.73406787569068], [11.105594160347788, 43.73399086068192], [11.105593007786736, 43.733989625266204], [11.105518571981962, 43.733911245626516], [11.105512820152956, 43.73390566451332], [11.105430842188419, 43.73383222837239], [11.105430547416642, 43.73383196532868], [11.10535216005195, 43.733762283645596], [11.105351861138297, 43.73376201895744], [11.105273177018141, 43.73369261353102], [11.105273079139044, 43.73369252730313], [11.10519405523511, 43.733622997987936], [11.105193406310669, 43.73362243176421], [11.10510884661303, 43.73354925935078], [11.105103496790074, 43.73354492277133], [11.105014263889744, 43.73347713345634], [11.105014000239159, 43.73347693377823], [11.104928202979737, 43.73341215379881], [11.104927994938567, 43.73341199709951], [11.104841966433149, 43.73334735572381], [11.104840814830503, 43.733346501825395], [11.104750824474916, 43.73328065473481], [11.104744353341133, 43.733276246820324], [11.104648781543338, 43.733215663218466], [11.10455959899572, 43.73315776532396], [11.104466817613927, 43.73309627941739], [11.104462014414754, 43.73309325641131], [11.104360602378803, 43.733032662663106], [11.104357918238874, 43.73303110364795], [11.104257759545586, 43.732974562550154], [11.104254648171619, 43.73297286231549], [11.104152569037055, 43.73291888055468], [11.104152188700162, 43.73291868022245], [11.104051832819367, 43.73286603058129], [11.103952067099943, 43.73281344737345], [11.103750660360184, 43.73270715575526], [11.103749284602404, 43.73270644005884], [11.103646555751327, 43.73265376420949], [11.103646231576535, 43.732653598546094], [11.10354448228965, 43.73260177761671], [11.103443142366231, 43.73255009954584], [11.103341399935465, 43.73249825882082], [11.103239905907838, 43.732446567345406], [11.103139355493457, 43.73239531104639], [11.103039826744833, 43.73234375278381], [11.102939099577254, 43.73229130933954], [11.102838204770546, 43.73223882136169], [11.102737079145397, 43.732186236946525], [11.102636394948842, 43.73213381532395], [11.102536683034488, 43.732081700999245], [11.10233632724077, 43.73197597107543], [11.102235871591644, 43.73192289149128], [11.102235768196298, 43.731922836917406], [11.102135438973338, 43.73186993862057], [11.102035222645705, 43.73181666078465], [11.10193777534229, 43.73176483550648], [11.101843355447532, 43.73171213141119], [11.101746549860614, 43.731657096193715], [11.101648681966184, 43.73160139942253], [11.101550948313912, 43.73154579413418], [11.101453477608949, 43.731490265534845], [11.101355949041695, 43.73143461573405], [11.101259946872673, 43.73137980711195], [11.101165443912475, 43.73132440275248], [11.101067869078582, 43.73126724245242], [11.10097119093143, 43.73121052316479], [11.100874270470255, 43.7311537366364], [11.100782806899778, 43.73110011007853], [11.10069529563123, 43.73104452087715], [11.100602817719151, 43.73098476768918], [11.100510743880031, 43.73092531353519], [11.100418364672635, 43.73086503954084], [11.100325707072123, 43.730804695349434], [11.100325588076458, 43.73080461795257], [11.100232776274758, 43.7307443295918], [11.100140455625999, 43.730684204494956], [11.100140325036962, 43.73068411956771], [11.100047710835542, 43.73062397434164], [11.099955290569552, 43.73056394979925], [11.099862982039362, 43.730503831997254], [11.09986285145107, 43.73050374706964], [11.099770327208764, 43.730443659667316], [11.099585369017957, 43.73032337697453], [11.099585043962364, 43.73032316632815], [11.09949165859288, 43.73026286309424], [11.099491328318203, 43.73026265058292], [11.09911906093896, 43.73002397481521], [11.099025937344598, 43.729964350826165], [11.098840294315657, 43.72984532594381], [11.098654900493536, 43.729726121007], [11.09856208526844, 43.72966635424363], [11.098469205530087, 43.72960663369331], [11.098376454046262, 43.72954690757881], [11.098281768153205, 43.7294859415199], [11.098279794472186, 43.729484697426074], [11.098185479899435, 43.72942650038239], [11.098184260193246, 43.729425757490155], [11.098087504643933, 43.7293675897453], [11.097896535008196, 43.729252627833525], [11.097799889877344, 43.72919452923143], [11.097796933253722, 43.729192806429985], [11.097695393295705, 43.72913546899263], [11.097694749520219, 43.72913510791817], [11.0975974746704, 43.72908091794972], [11.097596440150939, 43.729080347856765], [11.097490798373421, 43.729022761749974], [11.097485318388198, 43.72901993965921], [11.097378610956287, 43.72896808063628], [11.097276158360334, 43.728918373905834], [11.097275789523088, 43.72891819564811], [11.097173857796186, 43.728869122703294], [11.097075372065838, 43.72882071901674], [11.096971659844012, 43.72876693429997], [11.096964229755116, 43.728763366292654], [11.096845532909642, 43.72871071127452], [11.096839392362279, 43.728708158817966], [11.096721388094297, 43.72866229828869], [11.09671822257105, 43.72866111016304], [11.096612188387173, 43.72862270162848], [11.096524162327412, 43.72857680177506], [11.096514541194264, 43.728572259221544], [11.096420429012662, 43.728532192233686], [11.09632082758355, 43.728484845046815], [11.096313497133071, 43.72848161729062], [11.096221346457007, 43.728444137988106], [11.0961339204811, 43.72840123238216], [11.096129345117273, 43.72839909153589], [11.096027214367323, 43.72835357309406], [11.095934285935659, 43.72830755161265], [11.095930852328259, 43.728305910977966], [11.095772655691515, 43.72823301805482], [11.09576811434224, 43.728231023089265], [11.095568793122467, 43.72814763622423], [11.095447470894584, 43.728093176010745], [11.095447295401677, 43.72809309737994], [11.09524216484295, 43.7280013576255], [11.095135353585565, 43.72795250183749], [11.095133594991118, 43.727951712226364], [11.095040108116715, 43.727910513901335], [11.094931711739186, 43.72786196804962], [11.094829582361223, 43.727814733992886], [11.094825761877667, 43.727813036602484], [11.09471115453368, 43.727764158907114], [11.094600556644547, 43.727709011174184], [11.094592949357875, 43.72770550592848], [11.094481266152235, 43.72765808242696], [11.094478525068018, 43.727656952151115], [11.094388856512433, 43.72762106291236], [11.094263298804943, 43.72756672519248], [11.094263018358978, 43.72756660418567], [11.094168410346763, 43.72752590468376], [11.09404908699939, 43.72747132378569], [11.094044348821738, 43.7274692619092], [11.093939829975287, 43.727426044268995], [11.09383281214593, 43.72737658095373], [11.093830734131602, 43.72737564127616], [11.093763230287484, 43.72734578267312], [11.093655325670913, 43.72729436502202], [11.093645559290552, 43.727290162074866], [11.093531077225835, 43.727245899927105], [11.093424950267167, 43.72719785088298], [11.093339643146626, 43.727155762401054], [11.093339177928144, 43.72715553398838], [11.09323898528195, 43.727106580838765], [11.093140988009855, 43.7270575915333], [11.093137851793932, 43.72705607415667], [11.093045964738629, 43.727013064963636], [11.092955253397006, 43.726957826050324], [11.092946285773593, 43.726952851474024], [11.092845490014712, 43.72690203529459], [11.092840860628426, 43.72689981110853], [11.092733523068638, 43.72685071046888], [11.092731626916626, 43.72684986025549], [11.092645178430967, 43.72681187166961], [11.092534089147868, 43.726761574338795], [11.09253047249092, 43.72675999815948], [11.092421047319952, 43.72671412710707], [11.092408929058783, 43.726709670124855], [11.092295438895366, 43.726673448348684], [11.092294592934483, 43.72667318106718], [11.092185259712139, 43.7266389872643], [11.092095263831652, 43.72660174156474], [11.09209258428469, 43.72660066418135], [11.091967654557457, 43.72655188489931], [11.091967386536249, 43.72655178055622], [11.09187523616374, 43.7265160109501], [11.091775601616229, 43.726466470606454], [11.091770571233923, 43.7264640969764], [11.091668017949564, 43.72641822665603], [11.091563209282594, 43.726370802705965], [11.091559345849133, 43.7263691244132], [11.091462029605175, 43.726328571137024], [11.09136624200146, 43.72627878924672], [11.091357236265567, 43.726274524658216], [11.09124477924827, 43.726226177738155], [11.091138895114128, 43.7261777393066], [11.091137019968778, 43.72617689828046], [11.090931424343509, 43.726086506673944], [11.09093000324234, 43.72608589123454], [11.090814070240391, 43.726036441324325], [11.090713381399109, 43.72598885941728], [11.09070781114644, 43.72598637619444], [11.090582909640977, 43.72593393117883], [11.09057904636617, 43.725932374952095], [11.09047644347109, 43.725892760519926], [11.090475437402928, 43.72589237636048], [11.090379498616198, 43.72585614887199], [11.090293314811712, 43.72580954169038], [11.090285706808098, 43.72580573854119], [11.090277729717382, 43.72580235641951], [11.090167539558925, 43.72575954707052], [11.090080974137877, 43.72572043890078], [11.089986220807406, 43.72567457398958], [11.089891875013294, 43.725624755613765], [11.089884485765468, 43.72562114090036], [11.089792350643275, 43.72557948019014], [11.089701829875642, 43.72552685026384], [11.08969099002357, 43.72552121400812], [11.089576023969961, 43.72546797700592], [11.08957562425325, 43.725467792687624], [11.089470291112512, 43.725419425594], [11.089362396952264, 43.72536997566956], [11.089362171031675, 43.72536987237231], [11.089263015746663, 43.72532464375761], [11.089169926035385, 43.72527606921074], [11.089070227178267, 43.725222808392054], [11.088969572103764, 43.72516830955757], [11.08896816470659, 43.72516755866386], [11.088868252216358, 43.725115033951354], [11.088864034127697, 43.725112911577405], [11.088761278847036, 43.725063460485664], [11.088758485065298, 43.72506215470845], [11.0886526746697, 43.725014142170345], [11.088652106665347, 43.72501388597414], [11.088542614526872, 43.72496479612471], [11.088536630788205, 43.72496227776835], [11.088433615872313, 43.724921662388745], [11.088427605930892, 43.72491944409166], [11.08831415155675, 43.72488034443825], [11.088313470328945, 43.72488011150185], [11.088200213920333, 43.724841689143865], [11.088199450122259, 43.72484143231025], [11.088088004636562, 43.724804290279955], [11.087994613563255, 43.724766071430494], [11.087892519024429, 43.72472044749827], [11.087786908481933, 43.7246732494828], [11.087680054391008, 43.724625452658564], [11.087574500599006, 43.724578221939396], [11.087468351825853, 43.72453074798265], [11.08736314879919, 43.724483643209894], [11.08725811568817, 43.72443635025929], [11.087153321948847, 43.724388991390185], [11.08704808614695, 43.72434125558364], [11.087047910479656, 43.72434117604718], [11.086942636501663, 43.7242935997963], [11.086837601207886, 43.72424598456066], [11.086626815517995, 43.72415054647317], [11.086521608141977, 43.724102941271866], [11.086409813751123, 43.724052323317565], [11.086403174307716, 43.72404952040892], [11.086284539451604, 43.724002941121306], [11.086281769338797, 43.72400188602389], [11.086168541195082, 43.72396007095802], [11.08606318351975, 43.72392080970722], [11.085950277652032, 43.723869811781604], [11.085844597354773, 43.72381837007028], [11.085844022203219, 43.723818091786974], [11.085754509654452, 43.72377504248369], [11.085750168655956, 43.72377304735913], [11.085638444187484, 43.72372402007699], [11.085635349776409, 43.72372270608531], [11.085549954756356, 43.723687635854304], [11.085470877257137, 43.72364945494636], [11.0854686374232, 43.72364839854521], [11.085376938630048, 43.723606160989846], [11.085273494911334, 43.72354934489713], [11.08526721629636, 43.72354611362506], [11.08515398325876, 43.72349158748799], [11.085150534873742, 43.723489985764886], [11.085041284581248, 43.72344106485072], [11.084935520491737, 43.723393793455486], [11.08472447731082, 43.723299351584046], [11.084618732063827, 43.72325206118676], [11.084618470280976, 43.72325194443868], [11.08451194689338, 43.72320456951537], [11.084511475786757, 43.723204361040196], [11.084404888248427, 43.723157429135654], [11.084298820419058, 43.72311081449594], [11.084192871067373, 43.72306416324613], [11.084086692406775, 43.72301746774613], [11.083980800462896, 43.72297084142716], [11.083874733767408, 43.722924106301555], [11.083820154945855, 43.72290004468827], [11.08376890685556, 43.72287741981496], [11.083662896644526, 43.72283065230545], [11.083556956861436, 43.72278385868248], [11.083556835107125, 43.72278380497294], [11.083515079707267, 43.72276540919465], [11.083450684147445, 43.72273705714373], [11.083346446070966, 43.72269086054276], [11.083242952853592, 43.72264379258643], [11.08313795214088, 43.72259595141762], [11.08303255195482, 43.72254798694928], [11.082927402247812, 43.72250022479248], [11.082822461129352, 43.72245241024978], [11.082717261441152, 43.722404566349525], [11.082608912060115, 43.722355259080636], [11.08260568431336, 43.722353839362164], [11.082456761505249, 43.72229056230174], [11.082306149323298, 43.722217504067984], [11.082302083567676, 43.72221561385154], [11.082189815467794, 43.72216562712222], [11.082189090592296, 43.722165306845085], [11.082082034887614, 43.72211836883963], [11.081969435235703, 43.72206906442328], [11.081966093037305, 43.72206765203111], [11.081845313634272, 43.72201842366077], [11.081840551739129, 43.722016580412706], [11.081712490454557, 43.721969575863255], [11.081709817884422, 43.72196862393381], [11.081591503933, 43.72192775239313], [11.081491775326015, 43.72188788499535], [11.081419109839429, 43.72185772797301], [11.081327715080006, 43.72181956018481], [11.081326219198811, 43.72181894544914], [11.081232203507637, 43.72178093096556], [11.0811466819671, 43.721739794598534], [11.08114455451142, 43.72173879382353], [11.081062509404992, 43.72170105699545], [11.08096787017639, 43.72164917208086], [11.080967629396655, 43.721649040408884], [11.080866594573221, 43.721593928272235], [11.080857123889954, 43.72158924276267], [11.08073570778721, 43.72153495727778], [11.080735445686507, 43.72153484041652], [11.080614767766455, 43.721481183729686], [11.080614157361268, 43.721480914077155], [11.080502441226994, 43.72143188158425], [11.08049904088613, 43.721430442107035], [11.080386658735469, 43.72138458461812], [11.080273851814788, 43.72133093049813], [11.08026844755635, 43.72132850133088], [11.08017572619178, 43.72128917155214], [11.080064212811463, 43.72123967406587], [11.07994480041794, 43.721183473995296], [11.079939683504705, 43.721181191477704], [11.079749052502933, 43.72110070152058], [11.079641143497083, 43.72105234811112], [11.079543287366088, 43.72100808473611], [11.079436247102743, 43.72095909752671], [11.0794347117846, 43.720958406167796], [11.079328773438649, 43.720911473290144], [11.079231665717854, 43.720865998867716], [11.079231536152564, 43.72086593827635], [11.079119711927248, 43.72081371472999], [11.079117964856714, 43.72081291366861], [11.078910490301542, 43.72071952751319], [11.078810274661446, 43.7206736626009], [11.078696252187207, 43.720621478627], [11.078694612991304, 43.72062074127985], [11.078595747719838, 43.7205770372848], [11.078503698138348, 43.72053337147013], [11.078408204795183, 43.72048758995639], [11.078310410421608, 43.72043978432004], [11.078218613705143, 43.72039012186428], [11.078126459847482, 43.72034026603392], [11.078038966174105, 43.72028878906297], [11.077957792429848, 43.7202354419831], [11.077953640446932, 43.72023283234259], [11.077865235787975, 43.720179706390404], [11.07777878271238, 43.72012593326765], [11.077694176560138, 43.72007090463997], [11.077609410874631, 43.72001268565832], [11.077522337890361, 43.71995270846103], [11.077438827074554, 43.71989333837352], [11.077355530276822, 43.719832589983504], [11.077276510348833, 43.71977339943506], [11.077199293150708, 43.71971211097076], [11.077123937831885, 43.71965035996767], [11.07704802581129, 43.719584693356204], [11.077047610223621, 43.71958433574871], [11.076968261740419, 43.71951641623547], [11.076893621391216, 43.71945155772293], [11.076819917474072, 43.71938421965869], [11.076749931330765, 43.719320309324196], [11.076685539645336, 43.71925534359977], [11.076616479150266, 43.71918410019341], [11.076546494660494, 43.71911082764215], [11.076546354831166, 43.71911068155157], [11.076473883776728, 43.71903512473457], [11.076472753326996, 43.719033965754846], [11.076399490554378, 43.71896009646872], [11.07632879252485, 43.718888227887525], [11.076258735437776, 43.7188156981634], [11.076187425317267, 43.718741958936704], [11.076116545210109, 43.71866875053246], [11.076046256012193, 43.718595591784315], [11.075975820007294, 43.71852206270005], [11.075905554739078, 43.71844853923331], [11.075835481729687, 43.71837473559988], [11.075834581520668, 43.71837380020837], [11.075629651630166, 43.71816370940877], [11.075625079601759, 43.71815931382444], [11.075534466326593, 43.71807752612296], [11.07540078532643, 43.717935407690334], [11.07540024281895, 43.7179348356913], [11.075326103244459, 43.71785730770186], [11.075258363115381, 43.71778420730301], [11.07525738199769, 43.717783164421675], [11.075189213218941, 43.71771178462295], [11.075186571515632, 43.71770912338902], [11.075116188102088, 43.71764087663469], [11.075042922659014, 43.71756640929584], [11.074975249125979, 43.71749554740666], [11.074973360703808, 43.71749362439041], [11.074893848148147, 43.71741486197114], [11.074826995548404, 43.71734271795223], [11.074823145002028, 43.717338793664894], [11.074760347787315, 43.7172782885201], [11.074687408948531, 43.71719988048044], [11.074683400525297, 43.71719581925294], [11.074627519603347, 43.717142398380545], [11.07455814903412, 43.71706662868847], [11.074555784840364, 43.71706413821685], [11.074481207617401, 43.71698833571524], [11.074477202931723, 43.716984487537104], [11.07439909551377, 43.71691347119407], [11.07433982947489, 43.71685131114752], [11.074339261563749, 43.716850720567635], [11.074268426708013, 43.71677768252508], [11.074203990550055, 43.71670907248583], [11.074199460174047, 43.71670455642908], [11.074113226212534, 43.71662397401797], [11.074054876422313, 43.7165545444475], [11.074050885129402, 43.71655009591581], [11.073976825417557, 43.71647264683867], [11.073915649652784, 43.71640631731033], [11.07391451931688, 43.71640511295433], [11.07384732400305, 43.716334748315255], [11.073779933552611, 43.71625986680178], [11.073775162497624, 43.71625493434822], [11.073697561070453, 43.716180161907374], [11.073635270641558, 43.71610757309558], [11.073630041772788, 43.71610196194203], [11.073549525227756, 43.71602220031876], [11.073470857217991, 43.715942143942314], [11.073144164262017, 43.71556877849612], [11.073141184992012, 43.71556553129445], [11.073070125633416, 43.715491605909364], [11.073070046382082, 43.71549152355943], [11.072998755721766, 43.71541753341732], [11.072927773279742, 43.71534390539611], [11.072856724820909, 43.71527003519782], [11.072856626409411, 43.71526993302849], [11.07278539831387, 43.715196093930835], [11.072714295787069, 43.71512229811869], [11.072642907011698, 43.71504816053735], [11.0726425510311, 43.71504779280791], [11.072570464842137, 43.71497372118154], [11.072570286368803, 43.71497353827596], [11.072498214087066, 43.714899870671466], [11.072282798020472, 43.71467955824037], [11.072210849298374, 43.71460610279716], [11.072067378656183, 43.714459369482114], [11.071995979835338, 43.71438630447768], [11.0719252128018, 43.71431354374794], [11.07185440169554, 43.714240133920875], [11.071783286860002, 43.71416649564455], [11.071712035308325, 43.71409249942678], [11.071711956409173, 43.71409241758501], [11.071640338020933, 43.71401821568025], [11.071569182040227, 43.71394444739424], [11.071568756321042, 43.71394400883294], [11.071458218278773, 43.71383085380242], [11.071455779664012, 43.71382844333903], [11.071150557190142, 43.713537016940286], [11.07074207776929, 43.713144886810795], [11.07073400422639, 43.71313790193347], [11.070424366763051, 43.71289602905634], [11.070415264580504, 43.712889611006354], [11.07000328468965, 43.71262747379292], [11.070001188900005, 43.71262616990112], [11.0696773267924, 43.71242917228621], [11.069664949453164, 43.71242254609441], [11.069373481317953, 43.71228590209453], [11.069365207524339, 43.71228234513633], [11.068851531953332, 43.71208059901521], [11.068803411902712, 43.71206053002607], [11.068791186001052, 43.7120560629011], [11.068644224638355, 43.71200954930825], [11.068640804367183, 43.712008510626305], [11.06836603996937, 43.71192854701368], [11.067992931756718, 43.711819419401806], [11.067979475759206, 43.711816119581066], [11.067522163053448, 43.71172475968581], [11.067506703571842, 43.71172242714015], [11.06698840254169, 43.7116689037993], [11.066977503838288, 43.711668132324974], [11.066414293149181, 43.71164640152229], [11.066404609414324, 43.71164630239899], [11.06590865619776, 43.71165526960256], [11.06589953837756, 43.711655678437765], [11.065629920880403, 43.711675015580916], [11.065625207237943, 43.71167541981164], [11.065232202055643, 43.711714664378995], [11.065222519142614, 43.711715916699795], [11.065143928971588, 43.7117284305963], [11.065048975587262, 43.711743549637056], [11.064255752083076, 43.7118666792659], [11.064255395361611, 43.71186673503535], [11.063460222285645, 43.7119919363308], [11.062717173922875, 43.71210604539437], [11.061667001348248, 43.71221874417329], [11.061508187580456, 43.71222166872686], [11.061503262610321, 43.712221830479265], [11.061176017831615, 43.71223730814296], [11.06089795474613, 43.71224285836323], [11.060792200280488, 43.7122449706347], [11.06066211841234, 43.71224415240493], [11.060631406177675, 43.71224396077646], [11.060628342897042, 43.71224396909114], [11.060125127277622, 43.71224984002492], [11.060050765751376, 43.712249220154725], [11.059990004614797, 43.71224871370972], [11.05972706900242, 43.71224652365328], [11.059639166688523, 43.712241805911134], [11.058635479665396, 43.71212675198791], [11.058630719536833, 43.71212627463786], [11.05815131469454, 43.712085043544896], [11.05813916643739, 43.71208443515683], [11.058126994467255, 43.71208469341815], [11.058114916006337, 43.712085815841725], [11.058103047376315, 43.71208779161799], [11.058091502878117, 43.71209060171929], [11.058080393691164, 43.712094219082914], [11.058069826802654, 43.71209860887179], [11.058059903977254, 43.71210372881007], [11.058050720777041, 43.71210952959013], [11.058042365641187, 43.71211595534741], [11.05803491903427, 43.7121229441986], [11.058028452671325, 43.71213042883742], [11.05802302882721, 43.712138337182864], [11.058018699736829, 43.712146593073356], [11.05801550709209, 43.71215511700032], [11.05801348164038, 43.71216382687376], [11.058012642888396, 43.71217263881284], [11.058012998914299, 43.71218146795384], [11.058014546289893, 43.71219022926726], [11.058017270113602, 43.71219883837679], [11.058021144153988, 43.712207212371965], [11.058026131102332, 43.712215270606436], [11.058032182931932, 43.712222935474884], [11.058039241360607, 43.7122301331603], [11.058047238412001, 43.712236794344804], [11.058056097070192, 43.712242854877395], [11.058062451532544, 43.712246417295106], [11.058061221192856, 43.71224796293426], [11.058056195197054, 43.712256008395244], [11.058052280569612, 43.712264372454044], [11.058049515010964, 43.71227297456029], [11.058047925155426, 43.712281731871094], [11.058047526314681, 43.71229056004878], [11.058048322330315, 43.7122993740732], [11.058050305536783, 43.712308089060414], [11.058053456835205, 43.71231662108029], [11.058057745877308, 43.712324887964705], [11.058063131357653, 43.71233281009889], [11.058069561411434, 43.71234031118823], [11.058076974113934, 43.71234731899293], [11.058085298076895, 43.71235376602388], [11.058094453136029, 43.71235959019239], [11.058104351123022, 43.71236473540834], [11.058114896714677, 43.71236915212041], [11.058125988350895, 43.71237279779299], [11.058137519212806, 43.71237563731617], [11.058363823847662, 43.71242251927813], [11.058377291815045, 43.712424729742594], [11.058479222317105, 43.712437182028516]]], &quot;type&quot;: &quot;Polygon&quot;}, &quot;id&quot;: &quot;0&quot;, &quot;properties&quot;: {&quot;alt_max&quot;: -1.0, &quot;cent&quot;: null, &quot;classe_amm&quot;: &quot;Strada Regionale&quot;, &quot;cls_amm&quot;: &quot;0200&quot;, &quot;cls_funz&quot;: &quot;Autostrade&quot;, &quot;cls_largh&quot;: &quot;maggiore di 7,0 mt&quot;, &quot;cls_lrg&quot;: &quot;0300&quot;, &quot;cls_rul&quot;: 0, &quot;cls_tcn&quot;: &quot;0100&quot;, &quot;clstecfun&quot;: &quot;autostrada&quot;, &quot;cmp_ele&quot;: &quot;0200&quot;, &quot;cod_area_s&quot;: null, &quot;cod_com&quot;: &quot;E466&quot;, &quot;cod_com2&quot;: null, &quot;cod_ele&quot;: &quot;RT04802417954ES&quot;, &quot;cod_gst&quot;: &quot;048&quot;, &quot;cod_istat&quot;: &quot;048024&quot;, &quot;cod_istat2&quot;: null, &quot;cod_prp&quot;: &quot;09&quot;, &quot;cod_reg&quot;: &quot;RTT0900000046PA&quot;, &quot;cod_sed&quot;: &quot;0200&quot;, &quot;cod_sta&quot;: &quot;0100&quot;, &quot;cod_top&quot;: &quot;RT04802406517TO&quot;, &quot;cod_top2&quot;: null, &quot;cod_viabil&quot;: null, &quot;comp_ele&quot;: &quot;carreggiate separate&quot;, &quot;comune&quot;: &quot;LASTRA A SIGNA&quot;, &quot;comune2&quot;: null, &quot;data_agg&quot;: &quot;20190904&quot;, &quot;data_elab&quot;: &quot;20191024&quot;, &quot;den_breve&quot;: &quot;SGCFI-PI-LI&quot;, &quot;den_estesa&quot;: &quot;S.R. FIRENZE PISA LIVORNO (S.G.C. FI-PI-LI)&quot;, &quot;descfow&quot;: &quot;Part of Multi Carriageway which is Not a Motorway&quot;, &quot;desconeway&quot;: &quot;Open in Positive Direction&quot;, &quot;dug&quot;: &quot;S.G.C.&quot;, &quot;dug2&quot;: null, &quot;fow&quot;: 2, &quot;fromto&quot;: 1, &quot;gnzfin&quot;: &quot;cambio toponimo / titolarit\\ufffd / gestore&quot;, &quot;gnzini&quot;: &quot;intersezione a raso / biforcazione&quot;, &quot;indirizzo&quot;: &quot;S.G.C. FIRENZE PISA LIVORNO (S.G.C. FI-PI-LI)&quot;, &quot;indirizzo2&quot;: null, &quot;l_f_add&quot;: -1, &quot;l_struct&quot;: -1, &quot;l_t_add&quot;: -1, &quot;lng&quot;: 5526, &quot;lng_max&quot;: -1.0, &quot;lrg_max&quot;: -1.0, &quot;lstruttura&quot;: &quot;-&quot;, &quot;nod_fin&quot;: &quot;RT04802416182GZ&quot;, &quot;nod_ini&quot;: &quot;RT04802417371GZ&quot;, &quot;oneway&quot;: &quot;FT&quot;, &quot;org&quot;: &quot;0202&quot;, &quot;origine&quot;: &quot;estrazione da ctr2k&quot;, &quot;pes_max&quot;: -1.0, &quot;pk_uid&quot;: 381784, &quot;pnd_max&quot;: -1.0, &quot;primaria&quot;: 1, &quot;r_f_add&quot;: -1, &quot;r_struct&quot;: -1, &quot;r_t_add&quot;: -1, &quot;rstruttura&quot;: &quot;-&quot;, &quot;sede_ele&quot;: &quot;ponte&quot;, &quot;siglaprov&quot;: &quot;FI&quot;, &quot;siglaprov2&quot;: null, &quot;sot_pas&quot;: &quot;0700&quot;, &quot;sotto_pass&quot;: &quot;l\\u0027elemento \\ufffd contemporaneamente in sovrappasso e sottopasso di altri oggetti&quot;, &quot;stat_eserc&quot;: &quot;in esercizio&quot;, &quot;str_ticket&quot;: &quot;Strada non a pagamento&quot;, &quot;str_tkt&quot;: 0, &quot;t_gnzfin&quot;: &quot;0600&quot;, &quot;t_gnzini&quot;: &quot;0100&quot;, &quot;tip_ele&quot;: &quot;0100&quot;, &quot;tip_gest&quot;: &quot;Provincia&quot;, &quot;tip_gst&quot;: &quot;0300&quot;, &quot;tip_pav&quot;: &quot;0100&quot;, &quot;tip_pavim&quot;: &quot;pavimentata&quot;, &quot;tip_prp&quot;: &quot;0200&quot;, &quot;tipo_ele&quot;: &quot;di tronco carreggiata&quot;, &quot;tipo_prop&quot;: &quot;Regione&quot;, &quot;tipostrada&quot;: &quot;SR&quot;, &quot;tofrom&quot;: 0, &quot;toponimo&quot;: &quot;FIRENZE PISA LIVORNO (S.G.C. FI-PI-LI)&quot;, &quot;toponimo2&quot;: null, &quot;vel_lib&quot;: 100.0, &quot;vel_med&quot;: 85.0}, &quot;type&quot;: &quot;Feature&quot;}], &quot;type&quot;: &quot;FeatureCollection&quot;});\n",
       "\n",
       "        \n",
       "    \n",
       "    geo_json_937b4f095244530bc61645b6a47dee8d.bindTooltip(\n",
       "    function(layer){\n",
       "    let div = L.DomUtil.create(&#x27;div&#x27;);\n",
       "    \n",
       "    let handleObject = feature=&gt;typeof(feature)==&#x27;object&#x27; ? JSON.stringify(feature) : feature;\n",
       "    let fields = [&quot;pk_uid&quot;, &quot;tipo_ele&quot;];\n",
       "    let aliases = [&quot;ID:&quot;, &quot;Type:&quot;];\n",
       "    let table = &#x27;&lt;table&gt;&#x27; +\n",
       "        String(\n",
       "        fields.map(\n",
       "        (v,i)=&gt;\n",
       "        `&lt;tr&gt;\n",
       "            &lt;th&gt;${aliases[i]}&lt;/th&gt;\n",
       "            \n",
       "            &lt;td&gt;${handleObject(layer.feature.properties[v])}&lt;/td&gt;\n",
       "        &lt;/tr&gt;`).join(&#x27;&#x27;))\n",
       "    +&#x27;&lt;/table&gt;&#x27;;\n",
       "    div.innerHTML=table;\n",
       "    \n",
       "    return div\n",
       "    }\n",
       "    ,{&quot;className&quot;: &quot;foliumtooltip&quot;, &quot;sticky&quot;: true});\n",
       "                     \n",
       "&lt;/script&gt;\n",
       "&lt;/html&gt;\" style=\"position:absolute;width:100%;height:100%;left:0;top:0;border:none !important;\" allowfullscreen webkitallowfullscreen mozallowfullscreen></iframe></div></div>"
      ],
      "text/plain": [
       "<folium.folium.Map at 0x1507d7eb0>"
      ]
     },
     "execution_count": 83,
     "metadata": {},
     "output_type": "execute_result"
    }
   ],
   "source": [
    "import folium\n",
    "\n",
    "latitude = 43.7696\n",
    "longitude = 11.2558\n",
    "map_f = folium.Map(location=[latitude, longitude], zoom_start=8, tiles='CartoDB positron')\n",
    "\n",
    "\n",
    "folium.GeoJson(\n",
    "    fipili_area_Lastra_Ginestra,\n",
    "    tooltip=folium.GeoJsonTooltip(\n",
    "        fields=['pk_uid', 'tipo_ele'],\n",
    "        aliases=['ID:', 'Type:']\n",
    "    )\n",
    ").add_to(map_f)\n",
    "\n",
    "\n",
    "map_f\n"
   ]
  },
  {
   "cell_type": "code",
   "execution_count": 84,
   "id": "3ee43a64-22ad-4d9e-92e4-56e4272b50cd",
   "metadata": {},
   "outputs": [
    {
     "name": "stdout",
     "output_type": "stream",
     "text": [
      "20190211 23693\n",
      "20190212 23704\n",
      "20190213 23812\n",
      "20190214 24224\n",
      "20190215 24416\n",
      "20190216 22726\n",
      "20190217 19963\n"
     ]
    }
   ],
   "source": [
    "for date, gdf in gdfs.items():\n",
    "    print(date, gdf['ID'].nunique())"
   ]
  },
  {
   "cell_type": "code",
   "execution_count": 85,
   "id": "a2e0a30b-bce3-4762-bfef-9f1ced4fbf16",
   "metadata": {},
   "outputs": [],
   "source": [
    "fipili_area_Lastra_Ginestra = fipili_area_Lastra_Ginestra.to_crs(gdf3.crs)"
   ]
  },
  {
   "cell_type": "code",
   "execution_count": 42,
   "id": "6f4e7359-5d35-4f8c-8e20-db7bf71c3976",
   "metadata": {},
   "outputs": [
    {
     "name": "stdout",
     "output_type": "stream",
     "text": [
      "Number of points within FI-LASTRA on 20190211: 7194\n",
      "Number of Unique IDs using FI-LASTRA on 20190211:530\n",
      "20190211: Filtered GeoDataFrame has 41143 rows.\n",
      "-----------------------------------------\n",
      "\n",
      "Number of points within FI-LASTRA on 20190212: 7619\n",
      "Number of Unique IDs using FI-LASTRA on 20190212:542\n",
      "20190212: Filtered GeoDataFrame has 44199 rows.\n",
      "-----------------------------------------\n",
      "\n",
      "Number of points within FI-LASTRA on 20190213: 7877\n",
      "Number of Unique IDs using FI-LASTRA on 20190213:546\n",
      "20190213: Filtered GeoDataFrame has 45500 rows.\n",
      "-----------------------------------------\n",
      "\n",
      "Number of points within FI-LASTRA on 20190214: 7375\n",
      "Number of Unique IDs using FI-LASTRA on 20190214:540\n",
      "20190214: Filtered GeoDataFrame has 45027 rows.\n",
      "-----------------------------------------\n",
      "\n",
      "Number of points within FI-LASTRA on 20190215: 8893\n",
      "Number of Unique IDs using FI-LASTRA on 20190215:655\n",
      "20190215: Filtered GeoDataFrame has 56521 rows.\n",
      "-----------------------------------------\n",
      "\n",
      "Number of points within FI-LASTRA on 20190216: 8704\n",
      "Number of Unique IDs using FI-LASTRA on 20190216:668\n",
      "20190216: Filtered GeoDataFrame has 51529 rows.\n",
      "-----------------------------------------\n",
      "\n",
      "Number of points within FI-LASTRA on 20190217: 8174\n",
      "Number of Unique IDs using FI-LASTRA on 20190217:646\n",
      "20190217: Filtered GeoDataFrame has 47809 rows.\n",
      "-----------------------------------------\n",
      "\n"
     ]
    }
   ],
   "source": [
    "gdfs_LASTRA_GINESTRA={}\n",
    "for date, gdf in gdfs.items():\n",
    "    gdf = gdf.to_crs(fipili_area_FI_Lastra.crs)\n",
    "    points_in_area = gpd.sjoin(gdf, fipili_area_Lastra_Ginestra, how=\"inner\", predicate=\"within\")\n",
    "    uid_counts = points_in_area.groupby('ID').size()\n",
    "    print(f\"Number of points within FI-LASTRA on {date}: {len(points_in_area)}\")\n",
    "    print(f\"Number of Unique IDs using FI-LASTRA on {date}:{points_in_area['ID'].nunique()}\")\n",
    "    \n",
    "    valid_ID=uid_counts[uid_counts>=3].index\n",
    "    gdf_LASTRA_GINESTRA = gdf[gdf['ID'].isin(valid_ID)]\n",
    "    print(f\"{date}: Filtered GeoDataFrame has {len(gdf_LASTRA_GINESTRA)} rows.\")\n",
    "    print(\"-----------------------------------------\")\n",
    "    print()\n",
    "    gdfs_LASTRA_GINESTRA[date]=gdf_LASTRA_GINESTRA"
   ]
  },
  {
   "cell_type": "code",
   "execution_count": 86,
   "id": "cc7c55f1-3fc6-45c5-84ca-a1a4ac6bce6e",
   "metadata": {},
   "outputs": [
    {
     "name": "stdout",
     "output_type": "stream",
     "text": [
      "Number of points within FI-LASTRA on 20190211: 3760\n",
      "Number of Unique IDs using FI-LASTRA on 20190211:418\n",
      "20190211: Filtered GeoDataFrame has 34114 rows.\n",
      "-----------------------------------------\n",
      "\n",
      "Number of points within FI-LASTRA on 20190212: 3905\n",
      "Number of Unique IDs using FI-LASTRA on 20190212:427\n",
      "20190212: Filtered GeoDataFrame has 34687 rows.\n",
      "-----------------------------------------\n",
      "\n",
      "Number of points within FI-LASTRA on 20190213: 4117\n",
      "Number of Unique IDs using FI-LASTRA on 20190213:433\n",
      "20190213: Filtered GeoDataFrame has 37576 rows.\n",
      "-----------------------------------------\n",
      "\n",
      "Number of points within FI-LASTRA on 20190214: 3806\n",
      "Number of Unique IDs using FI-LASTRA on 20190214:434\n",
      "20190214: Filtered GeoDataFrame has 35407 rows.\n",
      "-----------------------------------------\n",
      "\n",
      "Number of points within FI-LASTRA on 20190215: 4575\n",
      "Number of Unique IDs using FI-LASTRA on 20190215:536\n",
      "20190215: Filtered GeoDataFrame has 46242 rows.\n",
      "-----------------------------------------\n",
      "\n",
      "Number of points within FI-LASTRA on 20190216: 4526\n",
      "Number of Unique IDs using FI-LASTRA on 20190216:553\n",
      "20190216: Filtered GeoDataFrame has 42214 rows.\n",
      "-----------------------------------------\n",
      "\n",
      "Number of points within FI-LASTRA on 20190217: 4357\n",
      "Number of Unique IDs using FI-LASTRA on 20190217:552\n",
      "20190217: Filtered GeoDataFrame has 41228 rows.\n",
      "-----------------------------------------\n",
      "\n"
     ]
    }
   ],
   "source": [
    "gdfs_LASTRA_GINESTRA={}\n",
    "for date, gdf in gdfs.items():\n",
    "    gdf = gdf.to_crs(fipili_area_FI_Lastra.crs)\n",
    "    points_in_area = gpd.sjoin(gdf, fipili_area_Lastra_Ginestra, how=\"inner\", predicate=\"within\")\n",
    "    uid_counts = points_in_area.groupby('ID').size()\n",
    "    print(f\"Number of points within FI-LASTRA on {date}: {len(points_in_area)}\")\n",
    "    print(f\"Number of Unique IDs using FI-LASTRA on {date}:{points_in_area['ID'].nunique()}\")\n",
    "    \n",
    "    valid_ID=uid_counts[uid_counts>=3].index\n",
    "    gdf_LASTRA_GINESTRA = gdf[gdf['ID'].isin(valid_ID)]\n",
    "    print(f\"{date}: Filtered GeoDataFrame has {len(gdf_LASTRA_GINESTRA)} rows.\")\n",
    "    print(\"-----------------------------------------\")\n",
    "    print()\n",
    "    gdfs_LASTRA_GINESTRA[date]=gdf_LASTRA_GINESTRA"
   ]
  },
  {
   "cell_type": "code",
   "execution_count": 87,
   "id": "94dfdfd9-8371-433b-b1ef-21f877e74334",
   "metadata": {
    "collapsed": true,
    "jupyter": {
     "outputs_hidden": true
    }
   },
   "outputs": [
    {
     "name": "stdout",
     "output_type": "stream",
     "text": [
      "20190211         ID        Date      Time   Latitude  Longitude  Speed  Heading  \\\n",
      "1789  2257  2019-02-11  05:12:13  43.636185  11.007221     90       52   \n",
      "\n",
      "      PanelSession  DeltaPos                   geometry            Timestamp  \n",
      "1789             1      2042  POINT (11.00722 43.63618)  2019-02-11 05:12:13  \n",
      "20190212       ID        Date      Time   Latitude  Longitude  Speed  Heading  \\\n",
      "618  996  2019-02-12  08:01:30  44.010111  11.238962     58      140   \n",
      "\n",
      "     PanelSession  DeltaPos                   geometry            Timestamp  \n",
      "618             1      2017  POINT (11.23896 44.01011)  2019-02-12 08:01:30  \n",
      "20190213         ID        Date      Time   Latitude  Longitude  Speed  Heading  \\\n",
      "1575  2257  2019-02-13  05:10:23  43.635353  11.006142     74       24   \n",
      "\n",
      "      PanelSession  DeltaPos                   geometry            Timestamp  \n",
      "1575             1      2053  POINT (11.00614 43.63535)  2019-02-13 05:10:23  \n",
      "20190214         ID        Date      Time   Latitude  Longitude  Speed  Heading  \\\n",
      "4712  5689  2019-02-14  13:31:39  43.634244  10.575171    138       88   \n",
      "\n",
      "      PanelSession  DeltaPos                   geometry            Timestamp  \n",
      "4712             1      2119  POINT (10.57517 43.63424)  2019-02-14 13:31:39  \n",
      "20190215     ID        Date      Time   Latitude  Longitude  Speed  Heading  \\\n",
      "12  95  2019-02-15  13:00:18  43.721251  10.952823      0        0   \n",
      "\n",
      "    PanelSession  DeltaPos                   geometry            Timestamp  \n",
      "12             2      1455  POINT (10.95282 43.72125)  2019-02-15 13:00:18  \n",
      "20190216         ID        Date      Time   Latitude  Longitude  Speed  Heading  \\\n",
      "7946  7983  2019-02-16  17:30:42  43.774115  11.220651     34      230   \n",
      "\n",
      "      PanelSession  DeltaPos                   geometry            Timestamp  \n",
      "7946             1      2014  POINT (11.22065 43.77412)  2019-02-16 17:30:42  \n",
      "20190217         ID        Date      Time   Latitude  Longitude  Speed  Heading  \\\n",
      "1243  2166  2019-02-17  10:16:20  43.770948  11.240626     16      132   \n",
      "\n",
      "      PanelSession  DeltaPos                   geometry            Timestamp  \n",
      "1243             1        83  POINT (11.24063 43.77095)  2019-02-17 10:16:20  \n"
     ]
    }
   ],
   "source": [
    "# creo una colonna timestamp per il salvataggio \n",
    "gdfs_LASTRA_GINESTRA_Timestamps = {}\n",
    "for date, gdf in gdfs_LASTRA_GINESTRA.items():\n",
    "    try:\n",
    "        gdf['Timestamp'] = gdf['Date'] + ' ' + gdf['Time']\n",
    "        print(f\"{date} {gdf.head(1)}\")\n",
    "        gdfs_LASTRA_GINESTRA_Timestamps[date] = gdf\n",
    "    except Exception as e:\n",
    "        print(f\"Error processing {date}: {e}\")"
   ]
  },
  {
   "cell_type": "code",
   "execution_count": null,
   "id": "3f32f6cc-72b4-4386-90ad-a4156672efa1",
   "metadata": {},
   "outputs": [],
   "source": []
  },
  {
   "cell_type": "code",
   "execution_count": 245,
   "id": "8cbc1b09-aa75-4e1e-8f16-06fcd0bf8b66",
   "metadata": {
    "collapsed": true,
    "jupyter": {
     "outputs_hidden": true,
     "source_hidden": true
    }
   },
   "outputs": [
    {
     "data": {
      "text/plain": [
       "<Figure size 1500x1500 with 0 Axes>"
      ]
     },
     "metadata": {},
     "output_type": "display_data"
    },
    {
     "data": {
      "image/png": "[encoded data removed]",
      "text/plain": [
       "<Figure size 640x480 with 1 Axes>"
      ]
     },
     "metadata": {},
     "output_type": "display_data"
    }
   ],
   "source": [
    "import matplotlib.pyplot as plt\n",
    "\n",
    "\n",
    "plt.figure(figsize=(15, 15))  # Set width and height in inches\n",
    "gdf3_FIPILI.head(2000).plot()\n",
    "\n",
    "\n",
    "plt.title(\"GeoDataFrame Visualization\", fontsize=20)\n",
    "plt.xlabel(\"Longitude\", fontsize=14)\n",
    "plt.ylabel(\"Latitude\", fontsize=14)\n",
    "\n",
    "\n",
    "plt.show()\n"
   ]
  },
  {
   "cell_type": "code",
   "execution_count": 88,
   "id": "3b463f0a-5ed9-489d-a9ea-def9cd8fcc06",
   "metadata": {},
   "outputs": [
    {
     "name": "stdout",
     "output_type": "stream",
     "text": [
      "Saving gdf 20190211 with head of         ID        Date      Time   Latitude  Longitude  Speed  Heading  \\\n",
      "1789  2257  2019-02-11  05:12:13  43.636185  11.007221     90       52   \n",
      "\n",
      "      PanelSession  DeltaPos                   geometry            Timestamp  \n",
      "1789             1      2042  POINT (11.00722 43.63618)  2019-02-11 05:12:13  \n",
      "GeoJSON file 20190211 saved successfully as /home/avitali/Filtered_LASTRA_GINESTRA_20190211.geojson\n",
      "\n",
      "Saving gdf 20190212 with head of       ID        Date      Time   Latitude  Longitude  Speed  Heading  \\\n",
      "618  996  2019-02-12  08:01:30  44.010111  11.238962     58      140   \n",
      "\n",
      "     PanelSession  DeltaPos                   geometry            Timestamp  \n",
      "618             1      2017  POINT (11.23896 44.01011)  2019-02-12 08:01:30  \n",
      "GeoJSON file 20190212 saved successfully as /home/avitali/Filtered_LASTRA_GINESTRA_20190212.geojson\n",
      "\n",
      "Saving gdf 20190213 with head of         ID        Date      Time   Latitude  Longitude  Speed  Heading  \\\n",
      "1575  2257  2019-02-13  05:10:23  43.635353  11.006142     74       24   \n",
      "\n",
      "      PanelSession  DeltaPos                   geometry            Timestamp  \n",
      "1575             1      2053  POINT (11.00614 43.63535)  2019-02-13 05:10:23  \n",
      "GeoJSON file 20190213 saved successfully as /home/avitali/Filtered_LASTRA_GINESTRA_20190213.geojson\n",
      "\n",
      "Saving gdf 20190214 with head of         ID        Date      Time   Latitude  Longitude  Speed  Heading  \\\n",
      "4712  5689  2019-02-14  13:31:39  43.634244  10.575171    138       88   \n",
      "\n",
      "      PanelSession  DeltaPos                   geometry            Timestamp  \n",
      "4712             1      2119  POINT (10.57517 43.63424)  2019-02-14 13:31:39  \n",
      "GeoJSON file 20190214 saved successfully as /home/avitali/Filtered_LASTRA_GINESTRA_20190214.geojson\n",
      "\n",
      "Saving gdf 20190215 with head of     ID        Date      Time   Latitude  Longitude  Speed  Heading  \\\n",
      "12  95  2019-02-15  13:00:18  43.721251  10.952823      0        0   \n",
      "\n",
      "    PanelSession  DeltaPos                   geometry            Timestamp  \n",
      "12             2      1455  POINT (10.95282 43.72125)  2019-02-15 13:00:18  \n",
      "GeoJSON file 20190215 saved successfully as /home/avitali/Filtered_LASTRA_GINESTRA_20190215.geojson\n",
      "\n",
      "Saving gdf 20190216 with head of         ID        Date      Time   Latitude  Longitude  Speed  Heading  \\\n",
      "7946  7983  2019-02-16  17:30:42  43.774115  11.220651     34      230   \n",
      "\n",
      "      PanelSession  DeltaPos                   geometry            Timestamp  \n",
      "7946             1      2014  POINT (11.22065 43.77412)  2019-02-16 17:30:42  \n",
      "GeoJSON file 20190216 saved successfully as /home/avitali/Filtered_LASTRA_GINESTRA_20190216.geojson\n",
      "\n",
      "Saving gdf 20190217 with head of         ID        Date      Time   Latitude  Longitude  Speed  Heading  \\\n",
      "1243  2166  2019-02-17  10:16:20  43.770948  11.240626     16      132   \n",
      "\n",
      "      PanelSession  DeltaPos                   geometry            Timestamp  \n",
      "1243             1        83  POINT (11.24063 43.77095)  2019-02-17 10:16:20  \n",
      "GeoJSON file 20190217 saved successfully as /home/avitali/Filtered_LASTRA_GINESTRA_20190217.geojson\n",
      "\n"
     ]
    }
   ],
   "source": [
    "# salviamo prima i gdfs singoli\n",
    "import paramiko\n",
    "import geopandas as gpd\n",
    "import pandas as pd\n",
    "import io\n",
    "# Configurazione\n",
    "hostname = \"kddrtserver10.isti.cnr.it\"\n",
    "username = \"avitali\"\n",
    "\n",
    "try:\n",
    "    #apro connessione ssh\n",
    "    ssh = paramiko.SSHClient()\n",
    "    ssh.set_missing_host_key_policy(paramiko.AutoAddPolicy())\n",
    "    ssh.connect(hostname, username=username)\n",
    "\n",
    "    sftp = ssh.open_sftp()\n",
    "\n",
    "    \n",
    "    for date, gdf in gdfs_LASTRA_GINESTRA_Timestamps.items():\n",
    "        print(f\"Saving gdf {date} with head of {gdf.head(1)}\")\n",
    "        with sftp.open(f\"/home/avitali/Filtered_LASTRA_GINESTRA_{date}.geojson\", \"w\") as file:\n",
    "            file.write(gdf.to_json())\n",
    "\n",
    "        print(f\"GeoJSON file {date} saved successfully as /home/avitali/Filtered_LASTRA_GINESTRA_{date}.geojson\")\n",
    "        print(\"\")\n",
    "    #chiudo sdfp e ssh\n",
    "    sftp.close()\n",
    "    ssh.close()\n",
    "\n",
    "except Exception as e:\n",
    "    print(f\"An error occurred: {e}\")\n"
   ]
  },
  {
   "cell_type": "markdown",
   "id": "6cc04aa0-160c-43e5-93cd-e0bff82d75c7",
   "metadata": {},
   "source": [
    "### Salvataggio Concatenato"
   ]
  },
  {
   "cell_type": "code",
   "execution_count": 89,
   "id": "870507f9-7015-4f3b-910e-981fb494b14c",
   "metadata": {},
   "outputs": [
    {
     "name": "stdout",
     "output_type": "stream",
     "text": [
      "Connecting to SSH server...\n",
      "Connection to SSH server established\n",
      "Opening sftp connection...\n",
      "sftp connection opened\n",
      "Concatenating gdfs...\n",
      "Gdfs concatenated and has 271468 rows\n",
      "Saving file...\n",
      "Merged GeoJSON file saved successfully at /home/avitali/LASTRA_GINESTRA_filtered_2_Settimana_Febbraio.geojson\n",
      "File size: 88459014 bytes\n"
     ]
    }
   ],
   "source": [
    "## salvataggio\n",
    "\n",
    "import paramiko\n",
    "import geopandas as gpd\n",
    "import pandas as pd\n",
    "import io\n",
    "# Configurazione\n",
    "hostname = \"kddrtserver10.isti.cnr.it\"\n",
    "username = \"avitali\"\n",
    "merged_output_path = \"/home/avitali/LASTRA_GINESTRA_filtered_2_Settimana_Febbraio.geojson\"\n",
    "\n",
    "try:\n",
    "    #apro connessione ssh\n",
    "    print(\"Connecting to SSH server...\")\n",
    "    ssh = paramiko.SSHClient()\n",
    "    ssh.set_missing_host_key_policy(paramiko.AutoAddPolicy())\n",
    "    ssh.connect(hostname, username=username)\n",
    "    print(\"Connection to SSH server established\")\n",
    "\n",
    "    print(\"Opening sftp connection...\")\n",
    "    sftp = ssh.open_sftp()\n",
    "    print(\"sftp connection opened\")\n",
    "\n",
    "    print(\"Concatenating gdfs...\")\n",
    "    merged_gdf = gpd.GeoDataFrame(pd.concat(gdfs_LASTRA_GINESTRA_Timestamps.values(), ignore_index=True))\n",
    "    print(f\"Gdfs concatenated and has {len(merged_gdf)} rows\")\n",
    "\n",
    "    print(\"Saving file...\")\n",
    "    with sftp.open(merged_output_path, \"w\") as merged_file:\n",
    "        merged_file.write(merged_gdf.to_json())\n",
    "        \n",
    "     \n",
    "    # Verifica della dimensione del file\n",
    "    attrs = sftp.stat(merged_output_path)\n",
    "    print(f\"Merged GeoJSON file saved successfully at {merged_output_path}\")\n",
    "    print(f\"File size: {attrs.st_size} bytes\")\n",
    "\n",
    "\n",
    "except Exception as e:\n",
    "    print(f\"An error occurred: {e}\")\n",
    "\n",
    "finally:\n",
    "    #chiudo sdfp e ssh\n",
    "    try:\n",
    "        sftp.close()\n",
    "        ssh.close()\n",
    "    except Exception as cleanup_error:\n",
    "        print(f\"Error during cleanup: {cleanup_error}\")\n",
    "\n",
    "\n"
   ]
  },
  {
   "cell_type": "code",
   "execution_count": null,
   "id": "66002703-498e-498a-b713-c2b23cfd38f7",
   "metadata": {},
   "outputs": [],
   "source": []
  }
 ],
 "metadata": {
  "kernelspec": {
   "display_name": "Python 3 (ipykernel)",
   "language": "python",
   "name": "python3"
  },
  "language_info": {
   "codemirror_mode": {
    "name": "ipython",
    "version": 3
   },
   "file_extension": ".py",
   "mimetype": "text/x-python",
   "name": "python",
   "nbconvert_exporter": "python",
   "pygments_lexer": "ipython3",
   "version": "3.9.13"
  }
 },
 "nbformat": 4,
 "nbformat_minor": 5
}
